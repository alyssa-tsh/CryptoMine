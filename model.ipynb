{
 "cells": [
  {
   "cell_type": "markdown",
   "metadata": {},
   "source": [
    "Model Workflow\n",
    "Data Loading &  Processing\n",
    "()\n",
    "\n",
    "\n",
    "Data source: ccxt for real-time and historical data on OHLCV(open, high, low, closing & volume data) for digital currency (e.g. BTC) using a 1d (daily) timeframe \n",
    "Feature Engineering : calculate price, volume & volatility-based indicators \n",
    "- Price: Simple Moving Average(SMA), EMA, RSI, MACD (for momentum signals)\n",
    "--> RSI: measure \n",
    "- Volume: OBV (On-Balance Volume), Money Flow Index (MFI)\n",
    "- Volatility: ATR (Average True Range), Bollinger Bands Width(BBW)\n",
    "\n",
    "Further Feature engineering: implementing Time Series \n",
    "\n",
    "- Add weighted averages based on regression of lagged values, using partial autocorrelation (PACF) to identify autoregressive lags for feature selection\n",
    "- Implement time-series modelling to forecast short-term price movements using ARIMA, & selecting best ARIMA model based on AIC/BIC criteria to obtain parameters (p - autoregressive order & q - simple moving average order)\n",
    "Filling missing data with interpolation & normalization\n",
    "\n",
    "Feature Selection through Pre-calculated Technical Indicators \n",
    "\n",
    "Trend prediction: inputs - SMA, EMA, using Linear regression (OLS), or support vector machine\n",
    "Market Regime Detection: inputs - RSI, ATR, SMA using K-means Clustering\n",
    "Buy/Sell Signals for Binary Classification: inputs - RSI, MACD, OBV, using Random Forest Classifier \n",
    "\n",
    "Model Training & Prediction: Machine Learning\n",
    "\n",
    "Time Series Modelling: ARIMA for short -term price, GARCH for volatility forecasting \n",
    "Price Forecasting: LSTM, utilizing keras to implement long-term price forecasting\n",
    "Strategy Implementation:\n",
    "Combine signals and implement reinforcement learning to create a trading strategy"
   ]
  },
  {
   "cell_type": "markdown",
   "metadata": {},
   "source": [
    "Momentum Oscillators(BUY/SELL SIGNALS)\n",
    "RSI: \n",
    "Purpose: Measures the speed & change of price movements.\n",
    "Use Case: Buy if RSI < 30 (oversold), Sell if RSI > 70 (overbought)\n",
    "MACD:\n",
    "Purpose: Identifies trend reversals via moving average crossovers.\n",
    "Use Case: Buy if MACD crosses above Signal Line, Sell if MACD crosses below Signal Line\n",
    "(other indicators we have not considered)\n",
    "Stochastic Oscillator(STOCH)\n",
    "Purpose: Identifies overbought & oversold conditions based on recent highs/lows.\n",
    "Use Case: Buy if %K crosses above %D in oversold zone (<20), Sell if %K crosses below %D in overbought zone (>80)\n",
    "Rate of Change (ROC)\n",
    "Purpose: Measures the percentage change of price over a given period.\n",
    "Use Case: Buy when ROC turns positive, Sell when ROC turns negative.\n",
    "\n",
    "Volitility Indicators \n",
    "Bollinger Bands:\n",
    "Purpose: Measures price volatility relative to a moving average.\n",
    "Use Case: Buy when price touches lower band, Sell when price touches upper band.\n",
    "Average True Range (ATR)\n",
    "Purpose: Measures market volatility by averaging true range values.\n",
    "Use Case: High ATR → High volatility, Low ATR → Low volatility.\n",
    "\n",
    "Volume Indicators \n",
    "On-Balance Volume (OBV)\n",
    "Purpose: Cumulative volume indicator that tracks buying/selling pressure.\n",
    "Use Case: Rising OBV suggests buying pressure, declining OBV suggests selling pressure.\n",
    "Money Flow Index (MFI)\n",
    "Purpose: Volume-weighted RSI to assess buying/selling pressure.\n",
    "Use Case: Buy if MFI < 20, Sell if MFI > 80\n"
   ]
  },
  {
   "cell_type": "code",
   "execution_count": null,
   "metadata": {},
   "outputs": [
    {
     "name": "stdout",
     "output_type": "stream",
     "text": [
      "                open      high       low     close       volume\n",
      "timestamp                                                      \n",
      "2024-02-29  62432.11  63676.35  60364.70  61130.98  78425.07603\n",
      "2024-03-01  61130.99  63114.23  60777.00  62387.90  47737.93473\n",
      "2024-03-02  62387.90  62433.19  61561.12  61987.28  25534.73659\n",
      "2024-03-03  61987.28  63231.88  61320.00  63113.97  28994.90903\n",
      "2024-03-04  63113.97  68499.00  62300.00  68245.71  84835.16005\n",
      "                open      high       low     close       volume\n",
      "timestamp                                                      \n",
      "2025-03-16  84338.44  85117.04  81981.12  82574.53  17596.12531\n",
      "2025-03-17  82574.52  84756.83  82456.00  84010.03  17214.74358\n",
      "2025-03-18  84010.02  84021.74  81134.66  82715.03  17610.89883\n",
      "2025-03-19  82715.03  87000.00  82547.16  86845.94  28151.05374\n",
      "2025-03-20  86845.93  87453.67  84755.14  85342.61  10061.87862\n"
     ]
    }
   ],
   "source": [
    "#Data Loading\n",
    "import ccxt\n",
    "import pandas as pd\n",
    "import time\n",
    "from datetime import datetime, timedelta\n",
    "\n",
    "# Initialize exchange\n",
    "exchange = ccxt.binance()\n",
    "\n",
    "# Define symbol and timeframe\n",
    "symbol = 'BTC/USDT'\n",
    "timeframe = '1d'\n",
    "\n",
    "# Calculate timestamp for 1 year ago \n",
    "end_date = datetime(2025, 2, 28)  # Last day of February 2025\n",
    "start_date = end_date - timedelta(days=365)  \n",
    "\n",
    "# Convert to milliseconds (Binance API uses Unix timestamp in milliseconds)\n",
    "since = int(start_date.timestamp() * 1000)\n",
    "\n",
    "# Fetch historical OHLCV data\n",
    "ohlcv = exchange.fetch_ohlcv(symbol, timeframe, since=since)\n",
    "\n",
    "# Convert to DataFrame\n",
    "data = pd.DataFrame(ohlcv, columns=['timestamp', 'open', 'high', 'low', 'close', 'volume'])\n",
    "data['timestamp'] = pd.to_datetime(data['timestamp'], unit='ms')\n",
    "\n",
    "# Display the first few rows\n",
    "print(data.head())\n",
    "print(data.tail())  # Check the latest date to ensure correct range\n"
   ]
  },
  {
   "cell_type": "code",
   "execution_count": 2,
   "metadata": {},
   "outputs": [
    {
     "name": "stdout",
     "output_type": "stream",
     "text": [
      "                open      high       low     close       volume      SMA_5  \\\n",
      "timestamp                                                                    \n",
      "2024-02-29  62432.11  63676.35  60364.70  61130.98  78425.07603  63373.168   \n",
      "2024-03-01  61130.99  63114.23  60777.00  62387.90  47737.93473  63373.168   \n",
      "2024-03-02  62387.90  62433.19  61561.12  61987.28  25534.73659  63373.168   \n",
      "2024-03-03  61987.28  63231.88  61320.00  63113.97  28994.90903  63373.168   \n",
      "2024-03-04  63113.97  68499.00  62300.00  68245.71  84835.16005  63373.168   \n",
      "\n",
      "               SMA_10        SMA_15        SMA_30         EMA_9  ...  \\\n",
      "timestamp                                                        ...   \n",
      "2024-02-29  64992.452  67124.790667  67264.025667  65149.020094  ...   \n",
      "2024-03-01  64992.452  67124.790667  67264.025667  65149.020094  ...   \n",
      "2024-03-02  64992.452  67124.790667  67264.025667  65149.020094  ...   \n",
      "2024-03-03  64992.452  67124.790667  67264.025667  65149.020094  ...   \n",
      "2024-03-04  64992.452  67124.790667  67264.025667  65149.020094  ...   \n",
      "\n",
      "             MACD_hist  close_lag_1  close_lag_2  close_1_ahead  \\\n",
      "timestamp                                                         \n",
      "2024-02-29 -145.010934     61130.98     61130.98       62387.90   \n",
      "2024-03-01 -145.010934     61130.98     61130.98       61987.28   \n",
      "2024-03-02 -145.010934     62387.90     61130.98       63113.97   \n",
      "2024-03-03 -145.010934     61987.28     62387.90       68245.71   \n",
      "2024-03-04 -145.010934     63113.97     61987.28       63724.01   \n",
      "\n",
      "            close_2_ahead  close_5_ahead  close_10_ahead  close_20_ahead  \\\n",
      "timestamp                                                                  \n",
      "2024-02-29       61987.28       63724.01        68955.88        67840.51   \n",
      "2024-03-01       63113.97       66074.04        72078.10        65501.27   \n",
      "2024-03-02       68245.71       66823.17        71452.01        63796.64   \n",
      "2024-03-03       63724.01       68124.19        73072.41        63990.01   \n",
      "2024-03-04       66074.04       68313.27        71388.94        67209.99   \n",
      "\n",
      "            close_30_ahead  log_return  \n",
      "timestamp                               \n",
      "2024-02-29        69582.18    0.020353  \n",
      "2024-03-01        71280.01    0.020353  \n",
      "2024-03-02        69649.80   -0.006442  \n",
      "2024-03-03        65463.99    0.018013  \n",
      "2024-03-04        65963.28    0.078172  \n",
      "\n",
      "[5 rows x 23 columns]\n",
      "                open      high       low     close       volume      SMA_5  \\\n",
      "timestamp                                                                    \n",
      "2025-03-16  84338.44  85117.04  81981.12  82574.53  17596.12531  83138.414   \n",
      "2025-03-17  82574.52  84756.83  82456.00  84010.03  17214.74358  83204.396   \n",
      "2025-03-18  84010.02  84021.74  81134.66  82715.03  17610.89883  83524.246   \n",
      "2025-03-19  82715.03  87000.00  82547.16  86845.94  28151.05374  84096.794   \n",
      "2025-03-20  86845.93  87453.67  84755.14  85342.61  10061.87862  84297.628   \n",
      "\n",
      "               SMA_10        SMA_15        SMA_30         EMA_9  ...  \\\n",
      "timestamp                                                        ...   \n",
      "2025-03-16  83097.949  85285.998667  88932.542667  83673.893340  ...   \n",
      "2025-03-17  82818.777  84602.000667  88480.555000  83741.120672  ...   \n",
      "2025-03-18  82468.035  84368.295333  88033.785333  83535.902537  ...   \n",
      "2025-03-19  83079.192  84339.226000  87735.983333  84197.910030  ...   \n",
      "2025-03-20  83753.867  83988.332667  87391.679000  84426.850024  ...   \n",
      "\n",
      "             MACD_hist  close_lag_1  close_lag_2  close_1_ahead  \\\n",
      "timestamp                                                         \n",
      "2025-03-16  114.864746     84338.44     83983.20       84010.03   \n",
      "2025-03-17  254.141556     82574.53     84338.44       82715.03   \n",
      "2025-03-18  273.431198     84010.03     82574.53       86845.94   \n",
      "2025-03-19  562.149707     82715.03     84010.03       85342.61   \n",
      "2025-03-20  643.760623     86845.94     82715.03       85342.61   \n",
      "\n",
      "            close_2_ahead  close_5_ahead  close_10_ahead  close_20_ahead  \\\n",
      "timestamp                                                                  \n",
      "2025-03-16       82715.03       85342.61        85342.61        85342.61   \n",
      "2025-03-17       86845.94       85342.61        85342.61        85342.61   \n",
      "2025-03-18       85342.61       85342.61        85342.61        85342.61   \n",
      "2025-03-19       85342.61       85342.61        85342.61        85342.61   \n",
      "2025-03-20       85342.61       85342.61        85342.61        85342.61   \n",
      "\n",
      "            close_30_ahead  log_return  \n",
      "timestamp                               \n",
      "2025-03-16        85342.61   -0.021136  \n",
      "2025-03-17        85342.61    0.017235  \n",
      "2025-03-18        85342.61   -0.015535  \n",
      "2025-03-19        85342.61    0.048734  \n",
      "2025-03-20        85342.61   -0.017462  \n",
      "\n",
      "[5 rows x 23 columns]\n"
     ]
    }
   ],
   "source": [
    "from ta.trend import SMAIndicator, EMAIndicator, MACD\n",
    "from ta.momentum import RSIIndicator\n",
    "from ta.volatility import BollingerBands, AverageTrueRange\n",
    "from ta.volume import OnBalanceVolumeIndicator, VolumeWeightedAveragePrice, money_flow_index\n",
    "import numpy as np\n",
    "from sklearn.linear_model import LinearRegression\n",
    "from statsmodels.graphics.tsaplots import plot_pacf\n",
    "import matplotlib.pyplot as plt\n",
    "from sklearn.preprocessing import StandardScaler, MinMaxScaler\n",
    "\n",
    "\n",
    "# Calculate technical indicators\n",
    "def calculate_technical_indicators(data):\n",
    "    data['SMA_5'] = SMAIndicator(data['close'], window=5).sma_indicator()\n",
    "    data['SMA_10'] = SMAIndicator(data['close'], window=10).sma_indicator()\n",
    "    data['SMA_15'] = SMAIndicator(data['close'], window=15).sma_indicator()\n",
    "    data['SMA_30'] = SMAIndicator(data['close'], window=30).sma_indicator()\n",
    "    data['EMA_9'] = EMAIndicator(data['close'], window=9).ema_indicator()\n",
    "    data['RSI'] = RSIIndicator(data['close'], window=14).rsi()\n",
    "    macd = MACD(data['close'], window_fast=12, window_slow=26, window_sign=9)\n",
    "    data['MACD'] = macd.macd() \n",
    "    data['MACD_signal'] = macd.macd_signal()\n",
    "    data['MACD_hist'] = macd.macd_diff()\n",
    "    # Lagged Close prices\n",
    "    data['close_lag_1'] = data['close'].shift(1)\n",
    "    data['close_lag_2'] = data['close'].shift(2)\n",
    "    for n in [1, 2, 5, 10, 20, 30]:\n",
    "        data[f'close_{n}_ahead'] = data['close'].shift(-n)\n",
    "    data['log_return'] = np.log(data['close']).diff()\n",
    "    \n",
    "    return data \n",
    "\n",
    "#handle missing values\n",
    "def handle_missing_data(data):\n",
    "    data.ffill(inplace=True)\n",
    "    data.bfill(inplace = True)\n",
    "    return data \n",
    "\n",
    "# Normalization\n",
    "def normalize_data(df):\n",
    "    scaler = StandardScaler()\n",
    "    df[['SMA', 'EMA', 'MACD', 'OBV', 'ATR']] = scaler.fit_transform(df[['SMA', 'EMA', 'MACD', 'OBV', 'ATR']])\n",
    "    return df\n",
    "\n",
    "btc_data = calculate_technical_indicators(data)\n",
    "btc_data = handle_missing_data(btc_data)\n",
    "# btc_data = normalize_data(btc_data)\n",
    "\n",
    "#inspect data\n",
    "print(btc_data.head()) \n",
    "print(btc_data.tail())\n"
   ]
  },
  {
   "cell_type": "code",
   "execution_count": 3,
   "metadata": {},
   "outputs": [
    {
     "name": "stdout",
     "output_type": "stream",
     "text": [
      "Index(['open', 'high', 'low', 'close', 'volume', 'SMA_5', 'SMA_10', 'SMA_15',\n",
      "       'SMA_30', 'EMA_9', 'RSI', 'MACD', 'MACD_signal', 'MACD_hist',\n",
      "       'close_lag_1', 'close_lag_2', 'close_1_ahead', 'close_2_ahead',\n",
      "       'close_5_ahead', 'close_10_ahead', 'close_20_ahead', 'close_30_ahead',\n",
      "       'log_return'],\n",
      "      dtype='object')\n",
      "open              0\n",
      "high              0\n",
      "low               0\n",
      "close             0\n",
      "volume            0\n",
      "SMA_5             0\n",
      "SMA_10            0\n",
      "SMA_15            0\n",
      "SMA_30            0\n",
      "EMA_9             0\n",
      "RSI               0\n",
      "MACD              0\n",
      "MACD_signal       0\n",
      "MACD_hist         0\n",
      "close_lag_1       0\n",
      "close_lag_2       0\n",
      "close_1_ahead     0\n",
      "close_2_ahead     0\n",
      "close_5_ahead     0\n",
      "close_10_ahead    0\n",
      "close_20_ahead    0\n",
      "close_30_ahead    0\n",
      "log_return        0\n",
      "dtype: int64\n"
     ]
    }
   ],
   "source": [
    "print(btc_data.columns)\n",
    "# check if there are any missing values\n",
    "print(btc_data.isnull().sum())"
   ]
  },
  {
   "cell_type": "code",
   "execution_count": null,
   "metadata": {},
   "outputs": [],
   "source": [
    "#EDA\n",
    "import seaborn as sns\n",
    "import matplotlib.pyplot as plt \n",
    "\n",
    "data = btc_data\n",
    "\n",
    "#Distribution of Each Indicaor \n",
    "indicators = ['SMA', 'EMA', 'RSI', 'MACD']  # Select key indicators\n",
    "def plot_eda():\n",
    "    plt.figure(figsize=(12, 6))\n",
    "    for i, indicator in enumerate(indicators):\n",
    "        plt.subplot(2, 4, i + 1)\n",
    "        sns.histplot(data[indicator], kde=True, bins=30)\n",
    "        plt.title(indicator)\n",
    "    plt.tight_layout()\n",
    "    plt.show()\n",
    "\n",
    "    #Check for Correlations(Feature Redundancy)\n",
    "    #Some indicators might be highly correlated, making them redundant\n",
    "    #If correlation > 0.85, remove one of the correlated features.\n",
    "    # Example: SMA and EMA are usually correlated → Keep only one.\n",
    "    plt.figure(figsize=(12, 8))\n",
    "    sns.heatmap(data.corr(), annot=True, cmap=\"coolwarm\", fmt=\".2f\")\n",
    "    plt.title(\"Correlation Matrix of Technical Indicators\")\n",
    "    plt.show()\n",
    "\n",
    "    #Comparing Indicators with closing prices (Plot Trends Over Time)\n",
    "    # Check how SMA and EMA interact with price.\n",
    "    # Identify points where indicators signal trend reversals.\n",
    "\n",
    "    plt.figure(figsize=(12, 6))\n",
    "    plt.plot(data.index, data['close'], label='Close Price', color='black')\n",
    "    plt.plot(data.index, data['SMA'], label='SMA', linestyle='dashed', color='blue')\n",
    "    plt.plot(data.index, data['EMA'], label='EMA', linestyle='dashed', color='red')\n",
    "    plt.legend()\n",
    "    plt.title(\"Price with SMA and EMA\")\n",
    "    plt.show()\n",
    "\n",
    "    #Identify Overbought & Oversold Conditions (RSI & MACS)\n",
    "    # A. RSI (Relative Strength Index)\n",
    "    # RSI > 70 → Overbought (possible sell signal)\n",
    "    # RSI < 30 → Oversold (possible buy signal)\n",
    "    # Are most RSI values in a normal range (30-70)?\n",
    "    # Do RSI peaks align with price reversals?\n",
    "    plt.figure(figsize=(12, 6))\n",
    "    plt.plot(data.index, data['RSI'], label=\"RSI\", color=\"purple\")\n",
    "    plt.axhline(70, linestyle=\"dashed\", color=\"red\", label=\"Overbought\")\n",
    "    plt.axhline(30, linestyle=\"dashed\", color=\"green\", label=\"Oversold\")\n",
    "    plt.legend()\n",
    "    plt.title(\"RSI Indicator\")\n",
    "    plt.show()\n",
    "\n",
    "    # B. MACD (Moving Average Convergence Divergence)\n",
    "    # MACD > Signal Line → Bullish\n",
    "    # MACD < Signal Line → Bearish\n",
    "    plt.figure(figsize=(12, 6))\n",
    "    plt.plot(data.index, data['MACD'], label='MACD', color='blue')\n",
    "    plt.plot(data.index, data['MACD_signal'], label='Signal Line', color='red')\n",
    "    plt.axhline(0, linestyle=\"dashed\", color=\"black\")\n",
    "    plt.legend()\n",
    "    plt.title(\"MACD Indicator\")\n",
    "    plt.show()\n",
    "\n",
    "    #Aurocorrelation & Seasonality\n",
    "    #Check if past price values influence future prices using Partial Autocorrelation (PACF).\n",
    "    from statsmodels.graphics.tsaplots import plot_pacf\n",
    "    plot_pacf(data['close'], lags=20)\n",
    "    plt.title(\"Partial Autocorrelation of Closing Price\")\n",
    "    plt.show()\n"
   ]
  },
  {
   "cell_type": "markdown",
   "metadata": {},
   "source": [
    "# XGBoost"
   ]
  },
  {
   "cell_type": "code",
   "execution_count": 4,
   "metadata": {},
   "outputs": [
    {
     "name": "stdout",
     "output_type": "stream",
     "text": [
      "Index(['open', 'high', 'low', 'close', 'volume', 'SMA_5', 'SMA_10', 'SMA_15',\n",
      "       'SMA_30', 'EMA_9', 'RSI', 'MACD', 'MACD_signal', 'MACD_hist',\n",
      "       'close_lag_1', 'close_lag_2', 'close_1_ahead', 'close_2_ahead',\n",
      "       'close_5_ahead', 'close_10_ahead', 'close_20_ahead', 'close_30_ahead',\n",
      "       'log_return'],\n",
      "      dtype='object')\n"
     ]
    }
   ],
   "source": [
    "print(btc_data.columns)"
   ]
  },
  {
   "cell_type": "code",
   "execution_count": 5,
   "metadata": {},
   "outputs": [],
   "source": [
    "from sklearn.model_selection import train_test_split\n",
    "\n",
    "# Features and target\n",
    "features = ['SMA_5', 'SMA_10', 'SMA_15', 'SMA_30', 'EMA_9', 'MACD', 'MACD_signal', 'RSI', 'close_lag_1', 'close_lag_2']\n",
    "targets = ['close_1_ahead', 'close_2_ahead', 'close_5_ahead', 'close_10_ahead', 'close_20_ahead', 'close_30_ahead']\n",
    "\n",
    "# Split the data\n",
    "train_data, test_data = train_test_split(data, test_size=0.15, shuffle=False)\n",
    "train_data, val_data = train_test_split(train_data, test_size=0.15, shuffle=False)"
   ]
  },
  {
   "cell_type": "code",
   "execution_count": 7,
   "metadata": {},
   "outputs": [
    {
     "data": {
      "image/png": "[encoded data removed]",
      "text/plain": [
       "<Figure size 864x432 with 1 Axes>"
      ]
     },
     "metadata": {
      "needs_background": "light"
     },
     "output_type": "display_data"
    }
   ],
   "source": [
    "# visualise the train, validation and test data\n",
    "# train is first 8 months\n",
    "# validation is next 2 month\n",
    "# test is last 2 months\n",
    "plt.figure(figsize=(12, 6))\n",
    "plt.plot(train_data.index, train_data['close'], label='Train', color='blue')\n",
    "plt.plot(val_data.index, val_data['close'], label='Validation', color='red')\n",
    "plt.plot(test_data.index, test_data['close'], label='Test', color='green')\n",
    "plt.legend()\n",
    "plt.title(\"Train, Validation, Test Split\")\n",
    "plt.show()"
   ]
  },
  {
   "cell_type": "code",
   "execution_count": 10,
   "metadata": {},
   "outputs": [
    {
     "data": {
      "application/vnd.plotly.v1+json": {
       "config": {
        "plotlyServerURL": "https://plot.ly"
       },
       "data": [
        {
         "close": {
          "bdata": "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",
          "dtype": "f8"
         },
         "high": {
          "bdata": "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",
          "dtype": "f8"
         },
         "low": {
          "bdata": "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",
          "dtype": "f8"
         },
         "open": {
          "bdata": "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",
          "dtype": "f8"
         },
         "type": "candlestick",
         "x": [
          "2024-02-29T00:00:00",
          "2024-03-01T00:00:00",
          "2024-03-02T00:00:00",
          "2024-03-03T00:00:00",
          "2024-03-04T00:00:00",
          "2024-03-05T00:00:00",
          "2024-03-06T00:00:00",
          "2024-03-07T00:00:00",
          "2024-03-08T00:00:00",
          "2024-03-09T00:00:00",
          "2024-03-10T00:00:00",
          "2024-03-11T00:00:00",
          "2024-03-12T00:00:00",
          "2024-03-13T00:00:00",
          "2024-03-14T00:00:00",
          "2024-03-15T00:00:00",
          "2024-03-16T00:00:00",
          "2024-03-17T00:00:00",
          "2024-03-18T00:00:00",
          "2024-03-19T00:00:00",
          "2024-03-20T00:00:00",
          "2024-03-21T00:00:00",
          "2024-03-22T00:00:00",
          "2024-03-23T00:00:00",
          "2024-03-24T00:00:00",
          "2024-03-25T00:00:00",
          "2024-03-26T00:00:00",
          "2024-03-27T00:00:00",
          "2024-03-28T00:00:00",
          "2024-03-29T00:00:00",
          "2024-03-30T00:00:00",
          "2024-03-31T00:00:00",
          "2024-04-01T00:00:00",
          "2024-04-02T00:00:00",
          "2024-04-03T00:00:00",
          "2024-04-04T00:00:00",
          "2024-04-05T00:00:00",
          "2024-04-06T00:00:00",
          "2024-04-07T00:00:00",
          "2024-04-08T00:00:00",
          "2024-04-09T00:00:00",
          "2024-04-10T00:00:00",
          "2024-04-11T00:00:00",
          "2024-04-12T00:00:00",
          "2024-04-13T00:00:00",
          "2024-04-14T00:00:00",
          "2024-04-15T00:00:00",
          "2024-04-16T00:00:00",
          "2024-04-17T00:00:00",
          "2024-04-18T00:00:00",
          "2024-04-19T00:00:00",
          "2024-04-20T00:00:00",
          "2024-04-21T00:00:00",
          "2024-04-22T00:00:00",
          "2024-04-23T00:00:00",
          "2024-04-24T00:00:00",
          "2024-04-25T00:00:00",
          "2024-04-26T00:00:00",
          "2024-04-27T00:00:00",
          "2024-04-28T00:00:00",
          "2024-04-29T00:00:00",
          "2024-04-30T00:00:00",
          "2024-05-01T00:00:00",
          "2024-05-02T00:00:00",
          "2024-05-03T00:00:00",
          "2024-05-04T00:00:00",
          "2024-05-05T00:00:00",
          "2024-05-06T00:00:00",
          "2024-05-07T00:00:00",
          "2024-05-08T00:00:00",
          "2024-05-09T00:00:00",
          "2024-05-10T00:00:00",
          "2024-05-11T00:00:00",
          "2024-05-12T00:00:00",
          "2024-05-13T00:00:00",
          "2024-05-14T00:00:00",
          "2024-05-15T00:00:00",
          "2024-05-16T00:00:00",
          "2024-05-17T00:00:00",
          "2024-05-18T00:00:00",
          "2024-05-19T00:00:00",
          "2024-05-20T00:00:00",
          "2024-05-21T00:00:00",
          "2024-05-22T00:00:00",
          "2024-05-23T00:00:00",
          "2024-05-24T00:00:00",
          "2024-05-25T00:00:00",
          "2024-05-26T00:00:00",
          "2024-05-27T00:00:00",
          "2024-05-28T00:00:00",
          "2024-05-29T00:00:00",
          "2024-05-30T00:00:00",
          "2024-05-31T00:00:00",
          "2024-06-01T00:00:00",
          "2024-06-02T00:00:00",
          "2024-06-03T00:00:00",
          "2024-06-04T00:00:00",
          "2024-06-05T00:00:00",
          "2024-06-06T00:00:00",
          "2024-06-07T00:00:00",
          "2024-06-08T00:00:00",
          "2024-06-09T00:00:00",
          "2024-06-10T00:00:00",
          "2024-06-11T00:00:00",
          "2024-06-12T00:00:00",
          "2024-06-13T00:00:00",
          "2024-06-14T00:00:00",
          "2024-06-15T00:00:00",
          "2024-06-16T00:00:00",
          "2024-06-17T00:00:00",
          "2024-06-18T00:00:00",
          "2024-06-19T00:00:00",
          "2024-06-20T00:00:00",
          "2024-06-21T00:00:00",
          "2024-06-22T00:00:00",
          "2024-06-23T00:00:00",
          "2024-06-24T00:00:00",
          "2024-06-25T00:00:00",
          "2024-06-26T00:00:00",
          "2024-06-27T00:00:00",
          "2024-06-28T00:00:00",
          "2024-06-29T00:00:00",
          "2024-06-30T00:00:00",
          "2024-07-01T00:00:00",
          "2024-07-02T00:00:00",
          "2024-07-03T00:00:00",
          "2024-07-04T00:00:00",
          "2024-07-05T00:00:00",
          "2024-07-06T00:00:00",
          "2024-07-07T00:00:00",
          "2024-07-08T00:00:00",
          "2024-07-09T00:00:00",
          "2024-07-10T00:00:00",
          "2024-07-11T00:00:00",
          "2024-07-12T00:00:00",
          "2024-07-13T00:00:00",
          "2024-07-14T00:00:00",
          "2024-07-15T00:00:00",
          "2024-07-16T00:00:00",
          "2024-07-17T00:00:00",
          "2024-07-18T00:00:00",
          "2024-07-19T00:00:00",
          "2024-07-20T00:00:00",
          "2024-07-21T00:00:00",
          "2024-07-22T00:00:00",
          "2024-07-23T00:00:00",
          "2024-07-24T00:00:00",
          "2024-07-25T00:00:00",
          "2024-07-26T00:00:00",
          "2024-07-27T00:00:00",
          "2024-07-28T00:00:00",
          "2024-07-29T00:00:00",
          "2024-07-30T00:00:00",
          "2024-07-31T00:00:00",
          "2024-08-01T00:00:00",
          "2024-08-02T00:00:00",
          "2024-08-03T00:00:00",
          "2024-08-04T00:00:00",
          "2024-08-05T00:00:00",
          "2024-08-06T00:00:00",
          "2024-08-07T00:00:00",
          "2024-08-08T00:00:00",
          "2024-08-09T00:00:00",
          "2024-08-10T00:00:00",
          "2024-08-11T00:00:00",
          "2024-08-12T00:00:00",
          "2024-08-13T00:00:00",
          "2024-08-14T00:00:00",
          "2024-08-15T00:00:00",
          "2024-08-16T00:00:00",
          "2024-08-17T00:00:00",
          "2024-08-18T00:00:00",
          "2024-08-19T00:00:00",
          "2024-08-20T00:00:00",
          "2024-08-21T00:00:00",
          "2024-08-22T00:00:00",
          "2024-08-23T00:00:00",
          "2024-08-24T00:00:00",
          "2024-08-25T00:00:00",
          "2024-08-26T00:00:00",
          "2024-08-27T00:00:00",
          "2024-08-28T00:00:00",
          "2024-08-29T00:00:00",
          "2024-08-30T00:00:00",
          "2024-08-31T00:00:00",
          "2024-09-01T00:00:00",
          "2024-09-02T00:00:00",
          "2024-09-03T00:00:00",
          "2024-09-04T00:00:00",
          "2024-09-05T00:00:00",
          "2024-09-06T00:00:00",
          "2024-09-07T00:00:00",
          "2024-09-08T00:00:00",
          "2024-09-09T00:00:00",
          "2024-09-10T00:00:00",
          "2024-09-11T00:00:00",
          "2024-09-12T00:00:00",
          "2024-09-13T00:00:00",
          "2024-09-14T00:00:00",
          "2024-09-15T00:00:00",
          "2024-09-16T00:00:00",
          "2024-09-17T00:00:00",
          "2024-09-18T00:00:00",
          "2024-09-19T00:00:00",
          "2024-09-20T00:00:00",
          "2024-09-21T00:00:00",
          "2024-09-22T00:00:00",
          "2024-09-23T00:00:00",
          "2024-09-24T00:00:00",
          "2024-09-25T00:00:00",
          "2024-09-26T00:00:00",
          "2024-09-27T00:00:00",
          "2024-09-28T00:00:00",
          "2024-09-29T00:00:00",
          "2024-09-30T00:00:00",
          "2024-10-01T00:00:00",
          "2024-10-02T00:00:00",
          "2024-10-03T00:00:00",
          "2024-10-04T00:00:00",
          "2024-10-05T00:00:00",
          "2024-10-06T00:00:00",
          "2024-10-07T00:00:00",
          "2024-10-08T00:00:00",
          "2024-10-09T00:00:00",
          "2024-10-10T00:00:00",
          "2024-10-11T00:00:00",
          "2024-10-12T00:00:00",
          "2024-10-13T00:00:00",
          "2024-10-14T00:00:00",
          "2024-10-15T00:00:00",
          "2024-10-16T00:00:00",
          "2024-10-17T00:00:00",
          "2024-10-18T00:00:00",
          "2024-10-19T00:00:00",
          "2024-10-20T00:00:00",
          "2024-10-21T00:00:00",
          "2024-10-22T00:00:00",
          "2024-10-23T00:00:00",
          "2024-10-24T00:00:00",
          "2024-10-25T00:00:00",
          "2024-10-26T00:00:00",
          "2024-10-27T00:00:00",
          "2024-10-28T00:00:00",
          "2024-10-29T00:00:00",
          "2024-10-30T00:00:00",
          "2024-10-31T00:00:00",
          "2024-11-01T00:00:00",
          "2024-11-02T00:00:00",
          "2024-11-03T00:00:00",
          "2024-11-04T00:00:00",
          "2024-11-05T00:00:00",
          "2024-11-06T00:00:00",
          "2024-11-07T00:00:00",
          "2024-11-08T00:00:00",
          "2024-11-09T00:00:00",
          "2024-11-10T00:00:00",
          "2024-11-11T00:00:00",
          "2024-11-12T00:00:00",
          "2024-11-13T00:00:00",
          "2024-11-14T00:00:00",
          "2024-11-15T00:00:00",
          "2024-11-16T00:00:00",
          "2024-11-17T00:00:00",
          "2024-11-18T00:00:00",
          "2024-11-19T00:00:00",
          "2024-11-20T00:00:00",
          "2024-11-21T00:00:00",
          "2024-11-22T00:00:00",
          "2024-11-23T00:00:00",
          "2024-11-24T00:00:00",
          "2024-11-25T00:00:00",
          "2024-11-26T00:00:00",
          "2024-11-27T00:00:00",
          "2024-11-28T00:00:00",
          "2024-11-29T00:00:00",
          "2024-11-30T00:00:00",
          "2024-12-01T00:00:00",
          "2024-12-02T00:00:00",
          "2024-12-03T00:00:00",
          "2024-12-04T00:00:00",
          "2024-12-05T00:00:00",
          "2024-12-06T00:00:00",
          "2024-12-07T00:00:00",
          "2024-12-08T00:00:00",
          "2024-12-09T00:00:00",
          "2024-12-10T00:00:00",
          "2024-12-11T00:00:00",
          "2024-12-12T00:00:00",
          "2024-12-13T00:00:00",
          "2024-12-14T00:00:00",
          "2024-12-15T00:00:00",
          "2024-12-16T00:00:00",
          "2024-12-17T00:00:00",
          "2024-12-18T00:00:00",
          "2024-12-19T00:00:00",
          "2024-12-20T00:00:00",
          "2024-12-21T00:00:00",
          "2024-12-22T00:00:00",
          "2024-12-23T00:00:00",
          "2024-12-24T00:00:00",
          "2024-12-25T00:00:00",
          "2024-12-26T00:00:00",
          "2024-12-27T00:00:00",
          "2024-12-28T00:00:00",
          "2024-12-29T00:00:00",
          "2024-12-30T00:00:00",
          "2024-12-31T00:00:00",
          "2025-01-01T00:00:00",
          "2025-01-02T00:00:00",
          "2025-01-03T00:00:00",
          "2025-01-04T00:00:00",
          "2025-01-05T00:00:00",
          "2025-01-06T00:00:00",
          "2025-01-07T00:00:00",
          "2025-01-08T00:00:00",
          "2025-01-09T00:00:00",
          "2025-01-10T00:00:00",
          "2025-01-11T00:00:00",
          "2025-01-12T00:00:00",
          "2025-01-13T00:00:00",
          "2025-01-14T00:00:00",
          "2025-01-15T00:00:00",
          "2025-01-16T00:00:00",
          "2025-01-17T00:00:00",
          "2025-01-18T00:00:00",
          "2025-01-19T00:00:00",
          "2025-01-20T00:00:00",
          "2025-01-21T00:00:00",
          "2025-01-22T00:00:00",
          "2025-01-23T00:00:00",
          "2025-01-24T00:00:00",
          "2025-01-25T00:00:00",
          "2025-01-26T00:00:00",
          "2025-01-27T00:00:00",
          "2025-01-28T00:00:00",
          "2025-01-29T00:00:00",
          "2025-01-30T00:00:00",
          "2025-01-31T00:00:00",
          "2025-02-01T00:00:00",
          "2025-02-02T00:00:00",
          "2025-02-03T00:00:00",
          "2025-02-04T00:00:00",
          "2025-02-05T00:00:00",
          "2025-02-06T00:00:00",
          "2025-02-07T00:00:00",
          "2025-02-08T00:00:00",
          "2025-02-09T00:00:00",
          "2025-02-10T00:00:00",
          "2025-02-11T00:00:00",
          "2025-02-12T00:00:00",
          "2025-02-13T00:00:00",
          "2025-02-14T00:00:00",
          "2025-02-15T00:00:00",
          "2025-02-16T00:00:00",
          "2025-02-17T00:00:00",
          "2025-02-18T00:00:00",
          "2025-02-19T00:00:00",
          "2025-02-20T00:00:00",
          "2025-02-21T00:00:00",
          "2025-02-22T00:00:00",
          "2025-02-23T00:00:00",
          "2025-02-24T00:00:00",
          "2025-02-25T00:00:00",
          "2025-02-26T00:00:00",
          "2025-02-27T00:00:00",
          "2025-02-28T00:00:00",
          "2025-03-01T00:00:00",
          "2025-03-02T00:00:00",
          "2025-03-03T00:00:00",
          "2025-03-04T00:00:00",
          "2025-03-05T00:00:00",
          "2025-03-06T00:00:00",
          "2025-03-07T00:00:00",
          "2025-03-08T00:00:00",
          "2025-03-09T00:00:00",
          "2025-03-10T00:00:00",
          "2025-03-11T00:00:00",
          "2025-03-12T00:00:00",
          "2025-03-13T00:00:00",
          "2025-03-14T00:00:00",
          "2025-03-15T00:00:00",
          "2025-03-16T00:00:00",
          "2025-03-17T00:00:00",
          "2025-03-18T00:00:00",
          "2025-03-19T00:00:00",
          "2025-03-20T00:00:00"
         ]
        }
       ],
       "layout": {
        "template": {
         "data": {
          "bar": [
           {
            "error_x": {
             "color": "rgb(36,36,36)"
            },
            "error_y": {
             "color": "rgb(36,36,36)"
            },
            "marker": {
             "line": {
              "color": "white",
              "width": 0.5
             },
             "pattern": {
              "fillmode": "overlay",
              "size": 10,
              "solidity": 0.2
             }
            },
            "type": "bar"
           }
          ],
          "barpolar": [
           {
            "marker": {
             "line": {
              "color": "white",
              "width": 0.5
             },
             "pattern": {
              "fillmode": "overlay",
              "size": 10,
              "solidity": 0.2
             }
            },
            "type": "barpolar"
           }
          ],
          "carpet": [
           {
            "aaxis": {
             "endlinecolor": "rgb(36,36,36)",
             "gridcolor": "white",
             "linecolor": "white",
             "minorgridcolor": "white",
             "startlinecolor": "rgb(36,36,36)"
            },
            "baxis": {
             "endlinecolor": "rgb(36,36,36)",
             "gridcolor": "white",
             "linecolor": "white",
             "minorgridcolor": "white",
             "startlinecolor": "rgb(36,36,36)"
            },
            "type": "carpet"
           }
          ],
          "choropleth": [
           {
            "colorbar": {
             "outlinewidth": 1,
             "tickcolor": "rgb(36,36,36)",
             "ticks": "outside"
            },
            "type": "choropleth"
           }
          ],
          "contour": [
           {
            "colorbar": {
             "outlinewidth": 1,
             "tickcolor": "rgb(36,36,36)",
             "ticks": "outside"
            },
            "colorscale": [
             [
              0,
              "#440154"
             ],
             [
              0.1111111111111111,
              "#482878"
             ],
             [
              0.2222222222222222,
              "#3e4989"
             ],
             [
              0.3333333333333333,
              "#31688e"
             ],
             [
              0.4444444444444444,
              "#26828e"
             ],
             [
              0.5555555555555556,
              "#1f9e89"
             ],
             [
              0.6666666666666666,
              "#35b779"
             ],
             [
              0.7777777777777778,
              "#6ece58"
             ],
             [
              0.8888888888888888,
              "#b5de2b"
             ],
             [
              1,
              "#fde725"
             ]
            ],
            "type": "contour"
           }
          ],
          "contourcarpet": [
           {
            "colorbar": {
             "outlinewidth": 1,
             "tickcolor": "rgb(36,36,36)",
             "ticks": "outside"
            },
            "type": "contourcarpet"
           }
          ],
          "heatmap": [
           {
            "colorbar": {
             "outlinewidth": 1,
             "tickcolor": "rgb(36,36,36)",
             "ticks": "outside"
            },
            "colorscale": [
             [
              0,
              "#440154"
             ],
             [
              0.1111111111111111,
              "#482878"
             ],
             [
              0.2222222222222222,
              "#3e4989"
             ],
             [
              0.3333333333333333,
              "#31688e"
             ],
             [
              0.4444444444444444,
              "#26828e"
             ],
             [
              0.5555555555555556,
              "#1f9e89"
             ],
             [
              0.6666666666666666,
              "#35b779"
             ],
             [
              0.7777777777777778,
              "#6ece58"
             ],
             [
              0.8888888888888888,
              "#b5de2b"
             ],
             [
              1,
              "#fde725"
             ]
            ],
            "type": "heatmap"
           }
          ],
          "histogram": [
           {
            "marker": {
             "line": {
              "color": "white",
              "width": 0.6
             }
            },
            "type": "histogram"
           }
          ],
          "histogram2d": [
           {
            "colorbar": {
             "outlinewidth": 1,
             "tickcolor": "rgb(36,36,36)",
             "ticks": "outside"
            },
            "colorscale": [
             [
              0,
              "#440154"
             ],
             [
              0.1111111111111111,
              "#482878"
             ],
             [
              0.2222222222222222,
              "#3e4989"
             ],
             [
              0.3333333333333333,
              "#31688e"
             ],
             [
              0.4444444444444444,
              "#26828e"
             ],
             [
              0.5555555555555556,
              "#1f9e89"
             ],
             [
              0.6666666666666666,
              "#35b779"
             ],
             [
              0.7777777777777778,
              "#6ece58"
             ],
             [
              0.8888888888888888,
              "#b5de2b"
             ],
             [
              1,
              "#fde725"
             ]
            ],
            "type": "histogram2d"
           }
          ],
          "histogram2dcontour": [
           {
            "colorbar": {
             "outlinewidth": 1,
             "tickcolor": "rgb(36,36,36)",
             "ticks": "outside"
            },
            "colorscale": [
             [
              0,
              "#440154"
             ],
             [
              0.1111111111111111,
              "#482878"
             ],
             [
              0.2222222222222222,
              "#3e4989"
             ],
             [
              0.3333333333333333,
              "#31688e"
             ],
             [
              0.4444444444444444,
              "#26828e"
             ],
             [
              0.5555555555555556,
              "#1f9e89"
             ],
             [
              0.6666666666666666,
              "#35b779"
             ],
             [
              0.7777777777777778,
              "#6ece58"
             ],
             [
              0.8888888888888888,
              "#b5de2b"
             ],
             [
              1,
              "#fde725"
             ]
            ],
            "type": "histogram2dcontour"
           }
          ],
          "mesh3d": [
           {
            "colorbar": {
             "outlinewidth": 1,
             "tickcolor": "rgb(36,36,36)",
             "ticks": "outside"
            },
            "type": "mesh3d"
           }
          ],
          "parcoords": [
           {
            "line": {
             "colorbar": {
              "outlinewidth": 1,
              "tickcolor": "rgb(36,36,36)",
              "ticks": "outside"
             }
            },
            "type": "parcoords"
           }
          ],
          "pie": [
           {
            "automargin": true,
            "type": "pie"
           }
          ],
          "scatter": [
           {
            "fillpattern": {
             "fillmode": "overlay",
             "size": 10,
             "solidity": 0.2
            },
            "type": "scatter"
           }
          ],
          "scatter3d": [
           {
            "line": {
             "colorbar": {
              "outlinewidth": 1,
              "tickcolor": "rgb(36,36,36)",
              "ticks": "outside"
             }
            },
            "marker": {
             "colorbar": {
              "outlinewidth": 1,
              "tickcolor": "rgb(36,36,36)",
              "ticks": "outside"
             }
            },
            "type": "scatter3d"
           }
          ],
          "scattercarpet": [
           {
            "marker": {
             "colorbar": {
              "outlinewidth": 1,
              "tickcolor": "rgb(36,36,36)",
              "ticks": "outside"
             }
            },
            "type": "scattercarpet"
           }
          ],
          "scattergeo": [
           {
            "marker": {
             "colorbar": {
              "outlinewidth": 1,
              "tickcolor": "rgb(36,36,36)",
              "ticks": "outside"
             }
            },
            "type": "scattergeo"
           }
          ],
          "scattergl": [
           {
            "marker": {
             "colorbar": {
              "outlinewidth": 1,
              "tickcolor": "rgb(36,36,36)",
              "ticks": "outside"
             }
            },
            "type": "scattergl"
           }
          ],
          "scattermap": [
           {
            "marker": {
             "colorbar": {
              "outlinewidth": 1,
              "tickcolor": "rgb(36,36,36)",
              "ticks": "outside"
             }
            },
            "type": "scattermap"
           }
          ],
          "scattermapbox": [
           {
            "marker": {
             "colorbar": {
              "outlinewidth": 1,
              "tickcolor": "rgb(36,36,36)",
              "ticks": "outside"
             }
            },
            "type": "scattermapbox"
           }
          ],
          "scatterpolar": [
           {
            "marker": {
             "colorbar": {
              "outlinewidth": 1,
              "tickcolor": "rgb(36,36,36)",
              "ticks": "outside"
             }
            },
            "type": "scatterpolar"
           }
          ],
          "scatterpolargl": [
           {
            "marker": {
             "colorbar": {
              "outlinewidth": 1,
              "tickcolor": "rgb(36,36,36)",
              "ticks": "outside"
             }
            },
            "type": "scatterpolargl"
           }
          ],
          "scatterternary": [
           {
            "marker": {
             "colorbar": {
              "outlinewidth": 1,
              "tickcolor": "rgb(36,36,36)",
              "ticks": "outside"
             }
            },
            "type": "scatterternary"
           }
          ],
          "surface": [
           {
            "colorbar": {
             "outlinewidth": 1,
             "tickcolor": "rgb(36,36,36)",
             "ticks": "outside"
            },
            "colorscale": [
             [
              0,
              "#440154"
             ],
             [
              0.1111111111111111,
              "#482878"
             ],
             [
              0.2222222222222222,
              "#3e4989"
             ],
             [
              0.3333333333333333,
              "#31688e"
             ],
             [
              0.4444444444444444,
              "#26828e"
             ],
             [
              0.5555555555555556,
              "#1f9e89"
             ],
             [
              0.6666666666666666,
              "#35b779"
             ],
             [
              0.7777777777777778,
              "#6ece58"
             ],
             [
              0.8888888888888888,
              "#b5de2b"
             ],
             [
              1,
              "#fde725"
             ]
            ],
            "type": "surface"
           }
          ],
          "table": [
           {
            "cells": {
             "fill": {
              "color": "rgb(237,237,237)"
             },
             "line": {
              "color": "white"
             }
            },
            "header": {
             "fill": {
              "color": "rgb(217,217,217)"
             },
             "line": {
              "color": "white"
             }
            },
            "type": "table"
           }
          ]
         },
         "layout": {
          "annotationdefaults": {
           "arrowhead": 0,
           "arrowwidth": 1
          },
          "autotypenumbers": "strict",
          "coloraxis": {
           "colorbar": {
            "outlinewidth": 1,
            "tickcolor": "rgb(36,36,36)",
            "ticks": "outside"
           }
          },
          "colorscale": {
           "diverging": [
            [
             0,
             "rgb(103,0,31)"
            ],
            [
             0.1,
             "rgb(178,24,43)"
            ],
            [
             0.2,
             "rgb(214,96,77)"
            ],
            [
             0.3,
             "rgb(244,165,130)"
            ],
            [
             0.4,
             "rgb(253,219,199)"
            ],
            [
             0.5,
             "rgb(247,247,247)"
            ],
            [
             0.6,
             "rgb(209,229,240)"
            ],
            [
             0.7,
             "rgb(146,197,222)"
            ],
            [
             0.8,
             "rgb(67,147,195)"
            ],
            [
             0.9,
             "rgb(33,102,172)"
            ],
            [
             1,
             "rgb(5,48,97)"
            ]
           ],
           "sequential": [
            [
             0,
             "#440154"
            ],
            [
             0.1111111111111111,
             "#482878"
            ],
            [
             0.2222222222222222,
             "#3e4989"
            ],
            [
             0.3333333333333333,
             "#31688e"
            ],
            [
             0.4444444444444444,
             "#26828e"
            ],
            [
             0.5555555555555556,
             "#1f9e89"
            ],
            [
             0.6666666666666666,
             "#35b779"
            ],
            [
             0.7777777777777778,
             "#6ece58"
            ],
            [
             0.8888888888888888,
             "#b5de2b"
            ],
            [
             1,
             "#fde725"
            ]
           ],
           "sequentialminus": [
            [
             0,
             "#440154"
            ],
            [
             0.1111111111111111,
             "#482878"
            ],
            [
             0.2222222222222222,
             "#3e4989"
            ],
            [
             0.3333333333333333,
             "#31688e"
            ],
            [
             0.4444444444444444,
             "#26828e"
            ],
            [
             0.5555555555555556,
             "#1f9e89"
            ],
            [
             0.6666666666666666,
             "#35b779"
            ],
            [
             0.7777777777777778,
             "#6ece58"
            ],
            [
             0.8888888888888888,
             "#b5de2b"
            ],
            [
             1,
             "#fde725"
            ]
           ]
          },
          "colorway": [
           "#1F77B4",
           "#FF7F0E",
           "#2CA02C",
           "#D62728",
           "#9467BD",
           "#8C564B",
           "#E377C2",
           "#7F7F7F",
           "#BCBD22",
           "#17BECF"
          ],
          "font": {
           "color": "rgb(36,36,36)"
          },
          "geo": {
           "bgcolor": "white",
           "lakecolor": "white",
           "landcolor": "white",
           "showlakes": true,
           "showland": true,
           "subunitcolor": "white"
          },
          "hoverlabel": {
           "align": "left"
          },
          "hovermode": "closest",
          "mapbox": {
           "style": "light"
          },
          "paper_bgcolor": "white",
          "plot_bgcolor": "white",
          "polar": {
           "angularaxis": {
            "gridcolor": "rgb(232,232,232)",
            "linecolor": "rgb(36,36,36)",
            "showgrid": false,
            "showline": true,
            "ticks": "outside"
           },
           "bgcolor": "white",
           "radialaxis": {
            "gridcolor": "rgb(232,232,232)",
            "linecolor": "rgb(36,36,36)",
            "showgrid": false,
            "showline": true,
            "ticks": "outside"
           }
          },
          "scene": {
           "xaxis": {
            "backgroundcolor": "white",
            "gridcolor": "rgb(232,232,232)",
            "gridwidth": 2,
            "linecolor": "rgb(36,36,36)",
            "showbackground": true,
            "showgrid": false,
            "showline": true,
            "ticks": "outside",
            "zeroline": false,
            "zerolinecolor": "rgb(36,36,36)"
           },
           "yaxis": {
            "backgroundcolor": "white",
            "gridcolor": "rgb(232,232,232)",
            "gridwidth": 2,
            "linecolor": "rgb(36,36,36)",
            "showbackground": true,
            "showgrid": false,
            "showline": true,
            "ticks": "outside",
            "zeroline": false,
            "zerolinecolor": "rgb(36,36,36)"
           },
           "zaxis": {
            "backgroundcolor": "white",
            "gridcolor": "rgb(232,232,232)",
            "gridwidth": 2,
            "linecolor": "rgb(36,36,36)",
            "showbackground": true,
            "showgrid": false,
            "showline": true,
            "ticks": "outside",
            "zeroline": false,
            "zerolinecolor": "rgb(36,36,36)"
           }
          },
          "shapedefaults": {
           "fillcolor": "black",
           "line": {
            "width": 0
           },
           "opacity": 0.3
          },
          "ternary": {
           "aaxis": {
            "gridcolor": "rgb(232,232,232)",
            "linecolor": "rgb(36,36,36)",
            "showgrid": false,
            "showline": true,
            "ticks": "outside"
           },
           "baxis": {
            "gridcolor": "rgb(232,232,232)",
            "linecolor": "rgb(36,36,36)",
            "showgrid": false,
            "showline": true,
            "ticks": "outside"
           },
           "bgcolor": "white",
           "caxis": {
            "gridcolor": "rgb(232,232,232)",
            "linecolor": "rgb(36,36,36)",
            "showgrid": false,
            "showline": true,
            "ticks": "outside"
           }
          },
          "title": {
           "x": 0.05
          },
          "xaxis": {
           "automargin": true,
           "gridcolor": "rgb(232,232,232)",
           "linecolor": "rgb(36,36,36)",
           "showgrid": false,
           "showline": true,
           "ticks": "outside",
           "title": {
            "standoff": 15
           },
           "zeroline": false,
           "zerolinecolor": "rgb(36,36,36)"
          },
          "yaxis": {
           "automargin": true,
           "gridcolor": "rgb(232,232,232)",
           "linecolor": "rgb(36,36,36)",
           "showgrid": false,
           "showline": true,
           "ticks": "outside",
           "title": {
            "standoff": 15
           },
           "zeroline": false,
           "zerolinecolor": "rgb(36,36,36)"
          }
         }
        },
        "title": {
         "text": "BTC/USDT Price Development"
        },
        "xaxis": {
         "title": {
          "text": "Date"
         }
        },
        "yaxis": {
         "title": {
          "text": "Price"
         }
        }
       }
      }
     },
     "metadata": {},
     "output_type": "display_data"
    }
   ],
   "source": [
    "# Plot BTC price development candlestick chart\n",
    "import plotly.graph_objects as go\n",
    "\n",
    "fig = go.Figure(data=[go.Candlestick(x=data.index, open=data['open'], high=data['high'], low=data['low'], close=data['close'])])\n",
    "fig.update_layout(title='BTC/USDT Price Development', xaxis_title='Date', yaxis_title='Price')\n",
    "#theme minimal\n",
    "fig.update_layout(template='simple_white')\n",
    "fig.show()\n"
   ]
  },
  {
   "cell_type": "markdown",
   "metadata": {},
   "source": [
    "### Hyperparameter Tuning"
   ]
  },
  {
   "cell_type": "markdown",
   "metadata": {},
   "source": [
    "Grid Search CV"
   ]
  },
  {
   "cell_type": "code",
   "execution_count": 49,
   "metadata": {},
   "outputs": [
    {
     "ename": "KeyboardInterrupt",
     "evalue": "",
     "output_type": "error",
     "traceback": [
      "\u001b[1;31m---------------------------------------------------------------------------\u001b[0m",
      "\u001b[1;31mKeyboardInterrupt\u001b[0m                         Traceback (most recent call last)",
      "Input \u001b[1;32mIn [49]\u001b[0m, in \u001b[0;36m<cell line: 19>\u001b[1;34m()\u001b[0m\n\u001b[0;32m     17\u001b[0m \u001b[38;5;66;03m# Perform grid search\u001b[39;00m\n\u001b[0;32m     18\u001b[0m grid_search \u001b[38;5;241m=\u001b[39m GridSearchCV(model, param_grid, cv\u001b[38;5;241m=\u001b[39m\u001b[38;5;241m5\u001b[39m, scoring\u001b[38;5;241m=\u001b[39m\u001b[38;5;124m'\u001b[39m\u001b[38;5;124mneg_mean_squared_error\u001b[39m\u001b[38;5;124m'\u001b[39m)\n\u001b[1;32m---> 19\u001b[0m \u001b[43mgrid_search\u001b[49m\u001b[38;5;241;43m.\u001b[39;49m\u001b[43mfit\u001b[49m\u001b[43m(\u001b[49m\u001b[43mtrain_data\u001b[49m\u001b[43m[\u001b[49m\u001b[43mfeatures\u001b[49m\u001b[43m]\u001b[49m\u001b[43m,\u001b[49m\u001b[43m \u001b[49m\u001b[43mtrain_data\u001b[49m\u001b[43m[\u001b[49m\u001b[43mtargets\u001b[49m\u001b[43m[\u001b[49m\u001b[38;5;241;43m0\u001b[39;49m\u001b[43m]\u001b[49m\u001b[43m]\u001b[49m\u001b[43m)\u001b[49m\n",
      "File \u001b[1;32mc:\\Users\\ryant\\AppData\\Local\\Programs\\Python\\Python39\\lib\\site-packages\\sklearn\\base.py:1473\u001b[0m, in \u001b[0;36m_fit_context.<locals>.decorator.<locals>.wrapper\u001b[1;34m(estimator, *args, **kwargs)\u001b[0m\n\u001b[0;32m   1466\u001b[0m     estimator\u001b[38;5;241m.\u001b[39m_validate_params()\n\u001b[0;32m   1468\u001b[0m \u001b[38;5;28;01mwith\u001b[39;00m config_context(\n\u001b[0;32m   1469\u001b[0m     skip_parameter_validation\u001b[38;5;241m=\u001b[39m(\n\u001b[0;32m   1470\u001b[0m         prefer_skip_nested_validation \u001b[38;5;129;01mor\u001b[39;00m global_skip_validation\n\u001b[0;32m   1471\u001b[0m     )\n\u001b[0;32m   1472\u001b[0m ):\n\u001b[1;32m-> 1473\u001b[0m     \u001b[38;5;28;01mreturn\u001b[39;00m fit_method(estimator, \u001b[38;5;241m*\u001b[39margs, \u001b[38;5;241m*\u001b[39m\u001b[38;5;241m*\u001b[39mkwargs)\n",
      "File \u001b[1;32mc:\\Users\\ryant\\AppData\\Local\\Programs\\Python\\Python39\\lib\\site-packages\\sklearn\\model_selection\\_search.py:1018\u001b[0m, in \u001b[0;36mBaseSearchCV.fit\u001b[1;34m(self, X, y, **params)\u001b[0m\n\u001b[0;32m   1012\u001b[0m     results \u001b[38;5;241m=\u001b[39m \u001b[38;5;28mself\u001b[39m\u001b[38;5;241m.\u001b[39m_format_results(\n\u001b[0;32m   1013\u001b[0m         all_candidate_params, n_splits, all_out, all_more_results\n\u001b[0;32m   1014\u001b[0m     )\n\u001b[0;32m   1016\u001b[0m     \u001b[38;5;28;01mreturn\u001b[39;00m results\n\u001b[1;32m-> 1018\u001b[0m \u001b[38;5;28;43mself\u001b[39;49m\u001b[38;5;241;43m.\u001b[39;49m\u001b[43m_run_search\u001b[49m\u001b[43m(\u001b[49m\u001b[43mevaluate_candidates\u001b[49m\u001b[43m)\u001b[49m\n\u001b[0;32m   1020\u001b[0m \u001b[38;5;66;03m# multimetric is determined here because in the case of a callable\u001b[39;00m\n\u001b[0;32m   1021\u001b[0m \u001b[38;5;66;03m# self.scoring the return type is only known after calling\u001b[39;00m\n\u001b[0;32m   1022\u001b[0m first_test_score \u001b[38;5;241m=\u001b[39m all_out[\u001b[38;5;241m0\u001b[39m][\u001b[38;5;124m\"\u001b[39m\u001b[38;5;124mtest_scores\u001b[39m\u001b[38;5;124m\"\u001b[39m]\n",
      "File \u001b[1;32mc:\\Users\\ryant\\AppData\\Local\\Programs\\Python\\Python39\\lib\\site-packages\\sklearn\\model_selection\\_search.py:1572\u001b[0m, in \u001b[0;36mGridSearchCV._run_search\u001b[1;34m(self, evaluate_candidates)\u001b[0m\n\u001b[0;32m   1570\u001b[0m \u001b[38;5;28;01mdef\u001b[39;00m \u001b[38;5;21m_run_search\u001b[39m(\u001b[38;5;28mself\u001b[39m, evaluate_candidates):\n\u001b[0;32m   1571\u001b[0m \u001b[38;5;250m    \u001b[39m\u001b[38;5;124;03m\"\"\"Search all candidates in param_grid\"\"\"\u001b[39;00m\n\u001b[1;32m-> 1572\u001b[0m     \u001b[43mevaluate_candidates\u001b[49m\u001b[43m(\u001b[49m\u001b[43mParameterGrid\u001b[49m\u001b[43m(\u001b[49m\u001b[38;5;28;43mself\u001b[39;49m\u001b[38;5;241;43m.\u001b[39;49m\u001b[43mparam_grid\u001b[49m\u001b[43m)\u001b[49m\u001b[43m)\u001b[49m\n",
      "File \u001b[1;32mc:\\Users\\ryant\\AppData\\Local\\Programs\\Python\\Python39\\lib\\site-packages\\sklearn\\model_selection\\_search.py:964\u001b[0m, in \u001b[0;36mBaseSearchCV.fit.<locals>.evaluate_candidates\u001b[1;34m(candidate_params, cv, more_results)\u001b[0m\n\u001b[0;32m    956\u001b[0m \u001b[38;5;28;01mif\u001b[39;00m \u001b[38;5;28mself\u001b[39m\u001b[38;5;241m.\u001b[39mverbose \u001b[38;5;241m>\u001b[39m \u001b[38;5;241m0\u001b[39m:\n\u001b[0;32m    957\u001b[0m     \u001b[38;5;28mprint\u001b[39m(\n\u001b[0;32m    958\u001b[0m         \u001b[38;5;124m\"\u001b[39m\u001b[38;5;124mFitting \u001b[39m\u001b[38;5;132;01m{0}\u001b[39;00m\u001b[38;5;124m folds for each of \u001b[39m\u001b[38;5;132;01m{1}\u001b[39;00m\u001b[38;5;124m candidates,\u001b[39m\u001b[38;5;124m\"\u001b[39m\n\u001b[0;32m    959\u001b[0m         \u001b[38;5;124m\"\u001b[39m\u001b[38;5;124m totalling \u001b[39m\u001b[38;5;132;01m{2}\u001b[39;00m\u001b[38;5;124m fits\u001b[39m\u001b[38;5;124m\"\u001b[39m\u001b[38;5;241m.\u001b[39mformat(\n\u001b[0;32m    960\u001b[0m             n_splits, n_candidates, n_candidates \u001b[38;5;241m*\u001b[39m n_splits\n\u001b[0;32m    961\u001b[0m         )\n\u001b[0;32m    962\u001b[0m     )\n\u001b[1;32m--> 964\u001b[0m out \u001b[38;5;241m=\u001b[39m \u001b[43mparallel\u001b[49m\u001b[43m(\u001b[49m\n\u001b[0;32m    965\u001b[0m \u001b[43m    \u001b[49m\u001b[43mdelayed\u001b[49m\u001b[43m(\u001b[49m\u001b[43m_fit_and_score\u001b[49m\u001b[43m)\u001b[49m\u001b[43m(\u001b[49m\n\u001b[0;32m    966\u001b[0m \u001b[43m        \u001b[49m\u001b[43mclone\u001b[49m\u001b[43m(\u001b[49m\u001b[43mbase_estimator\u001b[49m\u001b[43m)\u001b[49m\u001b[43m,\u001b[49m\n\u001b[0;32m    967\u001b[0m \u001b[43m        \u001b[49m\u001b[43mX\u001b[49m\u001b[43m,\u001b[49m\n\u001b[0;32m    968\u001b[0m \u001b[43m        \u001b[49m\u001b[43my\u001b[49m\u001b[43m,\u001b[49m\n\u001b[0;32m    969\u001b[0m \u001b[43m        \u001b[49m\u001b[43mtrain\u001b[49m\u001b[38;5;241;43m=\u001b[39;49m\u001b[43mtrain\u001b[49m\u001b[43m,\u001b[49m\n\u001b[0;32m    970\u001b[0m \u001b[43m        \u001b[49m\u001b[43mtest\u001b[49m\u001b[38;5;241;43m=\u001b[39;49m\u001b[43mtest\u001b[49m\u001b[43m,\u001b[49m\n\u001b[0;32m    971\u001b[0m \u001b[43m        \u001b[49m\u001b[43mparameters\u001b[49m\u001b[38;5;241;43m=\u001b[39;49m\u001b[43mparameters\u001b[49m\u001b[43m,\u001b[49m\n\u001b[0;32m    972\u001b[0m \u001b[43m        \u001b[49m\u001b[43msplit_progress\u001b[49m\u001b[38;5;241;43m=\u001b[39;49m\u001b[43m(\u001b[49m\u001b[43msplit_idx\u001b[49m\u001b[43m,\u001b[49m\u001b[43m \u001b[49m\u001b[43mn_splits\u001b[49m\u001b[43m)\u001b[49m\u001b[43m,\u001b[49m\n\u001b[0;32m    973\u001b[0m \u001b[43m        \u001b[49m\u001b[43mcandidate_progress\u001b[49m\u001b[38;5;241;43m=\u001b[39;49m\u001b[43m(\u001b[49m\u001b[43mcand_idx\u001b[49m\u001b[43m,\u001b[49m\u001b[43m \u001b[49m\u001b[43mn_candidates\u001b[49m\u001b[43m)\u001b[49m\u001b[43m,\u001b[49m\n\u001b[0;32m    974\u001b[0m \u001b[43m        \u001b[49m\u001b[38;5;241;43m*\u001b[39;49m\u001b[38;5;241;43m*\u001b[39;49m\u001b[43mfit_and_score_kwargs\u001b[49m\u001b[43m,\u001b[49m\n\u001b[0;32m    975\u001b[0m \u001b[43m    \u001b[49m\u001b[43m)\u001b[49m\n\u001b[0;32m    976\u001b[0m \u001b[43m    \u001b[49m\u001b[38;5;28;43;01mfor\u001b[39;49;00m\u001b[43m \u001b[49m\u001b[43m(\u001b[49m\u001b[43mcand_idx\u001b[49m\u001b[43m,\u001b[49m\u001b[43m \u001b[49m\u001b[43mparameters\u001b[49m\u001b[43m)\u001b[49m\u001b[43m,\u001b[49m\u001b[43m \u001b[49m\u001b[43m(\u001b[49m\u001b[43msplit_idx\u001b[49m\u001b[43m,\u001b[49m\u001b[43m \u001b[49m\u001b[43m(\u001b[49m\u001b[43mtrain\u001b[49m\u001b[43m,\u001b[49m\u001b[43m \u001b[49m\u001b[43mtest\u001b[49m\u001b[43m)\u001b[49m\u001b[43m)\u001b[49m\u001b[43m \u001b[49m\u001b[38;5;129;43;01min\u001b[39;49;00m\u001b[43m \u001b[49m\u001b[43mproduct\u001b[49m\u001b[43m(\u001b[49m\n\u001b[0;32m    977\u001b[0m \u001b[43m        \u001b[49m\u001b[38;5;28;43menumerate\u001b[39;49m\u001b[43m(\u001b[49m\u001b[43mcandidate_params\u001b[49m\u001b[43m)\u001b[49m\u001b[43m,\u001b[49m\n\u001b[0;32m    978\u001b[0m \u001b[43m        \u001b[49m\u001b[38;5;28;43menumerate\u001b[39;49m\u001b[43m(\u001b[49m\u001b[43mcv\u001b[49m\u001b[38;5;241;43m.\u001b[39;49m\u001b[43msplit\u001b[49m\u001b[43m(\u001b[49m\u001b[43mX\u001b[49m\u001b[43m,\u001b[49m\u001b[43m \u001b[49m\u001b[43my\u001b[49m\u001b[43m,\u001b[49m\u001b[43m \u001b[49m\u001b[38;5;241;43m*\u001b[39;49m\u001b[38;5;241;43m*\u001b[39;49m\u001b[43mrouted_params\u001b[49m\u001b[38;5;241;43m.\u001b[39;49m\u001b[43msplitter\u001b[49m\u001b[38;5;241;43m.\u001b[39;49m\u001b[43msplit\u001b[49m\u001b[43m)\u001b[49m\u001b[43m)\u001b[49m\u001b[43m,\u001b[49m\n\u001b[0;32m    979\u001b[0m \u001b[43m    \u001b[49m\u001b[43m)\u001b[49m\n\u001b[0;32m    980\u001b[0m \u001b[43m\u001b[49m\u001b[43m)\u001b[49m\n\u001b[0;32m    982\u001b[0m \u001b[38;5;28;01mif\u001b[39;00m \u001b[38;5;28mlen\u001b[39m(out) \u001b[38;5;241m<\u001b[39m \u001b[38;5;241m1\u001b[39m:\n\u001b[0;32m    983\u001b[0m     \u001b[38;5;28;01mraise\u001b[39;00m \u001b[38;5;167;01mValueError\u001b[39;00m(\n\u001b[0;32m    984\u001b[0m         \u001b[38;5;124m\"\u001b[39m\u001b[38;5;124mNo fits were performed. \u001b[39m\u001b[38;5;124m\"\u001b[39m\n\u001b[0;32m    985\u001b[0m         \u001b[38;5;124m\"\u001b[39m\u001b[38;5;124mWas the CV iterator empty? \u001b[39m\u001b[38;5;124m\"\u001b[39m\n\u001b[0;32m    986\u001b[0m         \u001b[38;5;124m\"\u001b[39m\u001b[38;5;124mWere there no candidates?\u001b[39m\u001b[38;5;124m\"\u001b[39m\n\u001b[0;32m    987\u001b[0m     )\n",
      "File \u001b[1;32mc:\\Users\\ryant\\AppData\\Local\\Programs\\Python\\Python39\\lib\\site-packages\\sklearn\\utils\\parallel.py:74\u001b[0m, in \u001b[0;36mParallel.__call__\u001b[1;34m(self, iterable)\u001b[0m\n\u001b[0;32m     69\u001b[0m config \u001b[38;5;241m=\u001b[39m get_config()\n\u001b[0;32m     70\u001b[0m iterable_with_config \u001b[38;5;241m=\u001b[39m (\n\u001b[0;32m     71\u001b[0m     (_with_config(delayed_func, config), args, kwargs)\n\u001b[0;32m     72\u001b[0m     \u001b[38;5;28;01mfor\u001b[39;00m delayed_func, args, kwargs \u001b[38;5;129;01min\u001b[39;00m iterable\n\u001b[0;32m     73\u001b[0m )\n\u001b[1;32m---> 74\u001b[0m \u001b[38;5;28;01mreturn\u001b[39;00m \u001b[38;5;28;43msuper\u001b[39;49m\u001b[43m(\u001b[49m\u001b[43m)\u001b[49m\u001b[38;5;241;43m.\u001b[39;49m\u001b[38;5;21;43m__call__\u001b[39;49m\u001b[43m(\u001b[49m\u001b[43miterable_with_config\u001b[49m\u001b[43m)\u001b[49m\n",
      "File \u001b[1;32mc:\\Users\\ryant\\AppData\\Local\\Programs\\Python\\Python39\\lib\\site-packages\\joblib\\parallel.py:1855\u001b[0m, in \u001b[0;36mParallel.__call__\u001b[1;34m(self, iterable)\u001b[0m\n\u001b[0;32m   1853\u001b[0m     output \u001b[38;5;241m=\u001b[39m \u001b[38;5;28mself\u001b[39m\u001b[38;5;241m.\u001b[39m_get_sequential_output(iterable)\n\u001b[0;32m   1854\u001b[0m     \u001b[38;5;28mnext\u001b[39m(output)\n\u001b[1;32m-> 1855\u001b[0m     \u001b[38;5;28;01mreturn\u001b[39;00m output \u001b[38;5;28;01mif\u001b[39;00m \u001b[38;5;28mself\u001b[39m\u001b[38;5;241m.\u001b[39mreturn_generator \u001b[38;5;28;01melse\u001b[39;00m \u001b[38;5;28;43mlist\u001b[39;49m\u001b[43m(\u001b[49m\u001b[43moutput\u001b[49m\u001b[43m)\u001b[49m\n\u001b[0;32m   1857\u001b[0m \u001b[38;5;66;03m# Let's create an ID that uniquely identifies the current call. If the\u001b[39;00m\n\u001b[0;32m   1858\u001b[0m \u001b[38;5;66;03m# call is interrupted early and that the same instance is immediately\u001b[39;00m\n\u001b[0;32m   1859\u001b[0m \u001b[38;5;66;03m# re-used, this id will be used to prevent workers that were\u001b[39;00m\n\u001b[0;32m   1860\u001b[0m \u001b[38;5;66;03m# concurrently finalizing a task from the previous call to run the\u001b[39;00m\n\u001b[0;32m   1861\u001b[0m \u001b[38;5;66;03m# callback.\u001b[39;00m\n\u001b[0;32m   1862\u001b[0m \u001b[38;5;28;01mwith\u001b[39;00m \u001b[38;5;28mself\u001b[39m\u001b[38;5;241m.\u001b[39m_lock:\n",
      "File \u001b[1;32mc:\\Users\\ryant\\AppData\\Local\\Programs\\Python\\Python39\\lib\\site-packages\\joblib\\parallel.py:1784\u001b[0m, in \u001b[0;36mParallel._get_sequential_output\u001b[1;34m(self, iterable)\u001b[0m\n\u001b[0;32m   1782\u001b[0m \u001b[38;5;28mself\u001b[39m\u001b[38;5;241m.\u001b[39mn_dispatched_batches \u001b[38;5;241m+\u001b[39m\u001b[38;5;241m=\u001b[39m \u001b[38;5;241m1\u001b[39m\n\u001b[0;32m   1783\u001b[0m \u001b[38;5;28mself\u001b[39m\u001b[38;5;241m.\u001b[39mn_dispatched_tasks \u001b[38;5;241m+\u001b[39m\u001b[38;5;241m=\u001b[39m \u001b[38;5;241m1\u001b[39m\n\u001b[1;32m-> 1784\u001b[0m res \u001b[38;5;241m=\u001b[39m func(\u001b[38;5;241m*\u001b[39margs, \u001b[38;5;241m*\u001b[39m\u001b[38;5;241m*\u001b[39mkwargs)\n\u001b[0;32m   1785\u001b[0m \u001b[38;5;28mself\u001b[39m\u001b[38;5;241m.\u001b[39mn_completed_tasks \u001b[38;5;241m+\u001b[39m\u001b[38;5;241m=\u001b[39m \u001b[38;5;241m1\u001b[39m\n\u001b[0;32m   1786\u001b[0m \u001b[38;5;28mself\u001b[39m\u001b[38;5;241m.\u001b[39mprint_progress()\n",
      "File \u001b[1;32mc:\\Users\\ryant\\AppData\\Local\\Programs\\Python\\Python39\\lib\\site-packages\\sklearn\\utils\\parallel.py:136\u001b[0m, in \u001b[0;36m_FuncWrapper.__call__\u001b[1;34m(self, *args, **kwargs)\u001b[0m\n\u001b[0;32m    134\u001b[0m     config \u001b[38;5;241m=\u001b[39m {}\n\u001b[0;32m    135\u001b[0m \u001b[38;5;28;01mwith\u001b[39;00m config_context(\u001b[38;5;241m*\u001b[39m\u001b[38;5;241m*\u001b[39mconfig):\n\u001b[1;32m--> 136\u001b[0m     \u001b[38;5;28;01mreturn\u001b[39;00m \u001b[38;5;28mself\u001b[39m\u001b[38;5;241m.\u001b[39mfunction(\u001b[38;5;241m*\u001b[39margs, \u001b[38;5;241m*\u001b[39m\u001b[38;5;241m*\u001b[39mkwargs)\n",
      "File \u001b[1;32mc:\\Users\\ryant\\AppData\\Local\\Programs\\Python\\Python39\\lib\\site-packages\\sklearn\\model_selection\\_validation.py:910\u001b[0m, in \u001b[0;36m_fit_and_score\u001b[1;34m(estimator, X, y, scorer, train, test, verbose, parameters, fit_params, score_params, return_train_score, return_parameters, return_n_test_samples, return_times, return_estimator, split_progress, candidate_progress, error_score)\u001b[0m\n\u001b[0;32m    907\u001b[0m result[\u001b[38;5;124m\"\u001b[39m\u001b[38;5;124mfit_error\u001b[39m\u001b[38;5;124m\"\u001b[39m] \u001b[38;5;241m=\u001b[39m \u001b[38;5;28;01mNone\u001b[39;00m\n\u001b[0;32m    909\u001b[0m fit_time \u001b[38;5;241m=\u001b[39m time\u001b[38;5;241m.\u001b[39mtime() \u001b[38;5;241m-\u001b[39m start_time\n\u001b[1;32m--> 910\u001b[0m test_scores \u001b[38;5;241m=\u001b[39m \u001b[43m_score\u001b[49m\u001b[43m(\u001b[49m\n\u001b[0;32m    911\u001b[0m \u001b[43m    \u001b[49m\u001b[43mestimator\u001b[49m\u001b[43m,\u001b[49m\u001b[43m \u001b[49m\u001b[43mX_test\u001b[49m\u001b[43m,\u001b[49m\u001b[43m \u001b[49m\u001b[43my_test\u001b[49m\u001b[43m,\u001b[49m\u001b[43m \u001b[49m\u001b[43mscorer\u001b[49m\u001b[43m,\u001b[49m\u001b[43m \u001b[49m\u001b[43mscore_params_test\u001b[49m\u001b[43m,\u001b[49m\u001b[43m \u001b[49m\u001b[43merror_score\u001b[49m\n\u001b[0;32m    912\u001b[0m \u001b[43m\u001b[49m\u001b[43m)\u001b[49m\n\u001b[0;32m    913\u001b[0m score_time \u001b[38;5;241m=\u001b[39m time\u001b[38;5;241m.\u001b[39mtime() \u001b[38;5;241m-\u001b[39m start_time \u001b[38;5;241m-\u001b[39m fit_time\n\u001b[0;32m    914\u001b[0m \u001b[38;5;28;01mif\u001b[39;00m return_train_score:\n",
      "File \u001b[1;32mc:\\Users\\ryant\\AppData\\Local\\Programs\\Python\\Python39\\lib\\site-packages\\sklearn\\model_selection\\_validation.py:971\u001b[0m, in \u001b[0;36m_score\u001b[1;34m(estimator, X_test, y_test, scorer, score_params, error_score)\u001b[0m\n\u001b[0;32m    969\u001b[0m         scores \u001b[38;5;241m=\u001b[39m scorer(estimator, X_test, \u001b[38;5;241m*\u001b[39m\u001b[38;5;241m*\u001b[39mscore_params)\n\u001b[0;32m    970\u001b[0m     \u001b[38;5;28;01melse\u001b[39;00m:\n\u001b[1;32m--> 971\u001b[0m         scores \u001b[38;5;241m=\u001b[39m scorer(estimator, X_test, y_test, \u001b[38;5;241m*\u001b[39m\u001b[38;5;241m*\u001b[39mscore_params)\n\u001b[0;32m    972\u001b[0m \u001b[38;5;28;01mexcept\u001b[39;00m \u001b[38;5;167;01mException\u001b[39;00m:\n\u001b[0;32m    973\u001b[0m     \u001b[38;5;28;01mif\u001b[39;00m \u001b[38;5;28misinstance\u001b[39m(scorer, _MultimetricScorer):\n\u001b[0;32m    974\u001b[0m         \u001b[38;5;66;03m# If `_MultimetricScorer` raises exception, the `error_score`\u001b[39;00m\n\u001b[0;32m    975\u001b[0m         \u001b[38;5;66;03m# parameter is equal to \"raise\".\u001b[39;00m\n",
      "File \u001b[1;32mc:\\Users\\ryant\\AppData\\Local\\Programs\\Python\\Python39\\lib\\site-packages\\sklearn\\metrics\\_scorer.py:279\u001b[0m, in \u001b[0;36m_BaseScorer.__call__\u001b[1;34m(self, estimator, X, y_true, sample_weight, **kwargs)\u001b[0m\n\u001b[0;32m    276\u001b[0m \u001b[38;5;28;01mif\u001b[39;00m sample_weight \u001b[38;5;129;01mis\u001b[39;00m \u001b[38;5;129;01mnot\u001b[39;00m \u001b[38;5;28;01mNone\u001b[39;00m:\n\u001b[0;32m    277\u001b[0m     _kwargs[\u001b[38;5;124m\"\u001b[39m\u001b[38;5;124msample_weight\u001b[39m\u001b[38;5;124m\"\u001b[39m] \u001b[38;5;241m=\u001b[39m sample_weight\n\u001b[1;32m--> 279\u001b[0m \u001b[38;5;28;01mreturn\u001b[39;00m \u001b[38;5;28mself\u001b[39m\u001b[38;5;241m.\u001b[39m_score(partial(_cached_call, \u001b[38;5;28;01mNone\u001b[39;00m), estimator, X, y_true, \u001b[38;5;241m*\u001b[39m\u001b[38;5;241m*\u001b[39m_kwargs)\n",
      "File \u001b[1;32mc:\\Users\\ryant\\AppData\\Local\\Programs\\Python\\Python39\\lib\\site-packages\\sklearn\\metrics\\_scorer.py:371\u001b[0m, in \u001b[0;36m_Scorer._score\u001b[1;34m(self, method_caller, estimator, X, y_true, **kwargs)\u001b[0m\n\u001b[0;32m    369\u001b[0m pos_label \u001b[38;5;241m=\u001b[39m \u001b[38;5;28;01mNone\u001b[39;00m \u001b[38;5;28;01mif\u001b[39;00m is_regressor(estimator) \u001b[38;5;28;01melse\u001b[39;00m \u001b[38;5;28mself\u001b[39m\u001b[38;5;241m.\u001b[39m_get_pos_label()\n\u001b[0;32m    370\u001b[0m response_method \u001b[38;5;241m=\u001b[39m _check_response_method(estimator, \u001b[38;5;28mself\u001b[39m\u001b[38;5;241m.\u001b[39m_response_method)\n\u001b[1;32m--> 371\u001b[0m y_pred \u001b[38;5;241m=\u001b[39m \u001b[43mmethod_caller\u001b[49m\u001b[43m(\u001b[49m\n\u001b[0;32m    372\u001b[0m \u001b[43m    \u001b[49m\u001b[43mestimator\u001b[49m\u001b[43m,\u001b[49m\u001b[43m \u001b[49m\u001b[43mresponse_method\u001b[49m\u001b[38;5;241;43m.\u001b[39;49m\u001b[38;5;18;43m__name__\u001b[39;49m\u001b[43m,\u001b[49m\u001b[43m \u001b[49m\u001b[43mX\u001b[49m\u001b[43m,\u001b[49m\u001b[43m \u001b[49m\u001b[43mpos_label\u001b[49m\u001b[38;5;241;43m=\u001b[39;49m\u001b[43mpos_label\u001b[49m\n\u001b[0;32m    373\u001b[0m \u001b[43m\u001b[49m\u001b[43m)\u001b[49m\n\u001b[0;32m    375\u001b[0m scoring_kwargs \u001b[38;5;241m=\u001b[39m {\u001b[38;5;241m*\u001b[39m\u001b[38;5;241m*\u001b[39m\u001b[38;5;28mself\u001b[39m\u001b[38;5;241m.\u001b[39m_kwargs, \u001b[38;5;241m*\u001b[39m\u001b[38;5;241m*\u001b[39mkwargs}\n\u001b[0;32m    376\u001b[0m \u001b[38;5;28;01mreturn\u001b[39;00m \u001b[38;5;28mself\u001b[39m\u001b[38;5;241m.\u001b[39m_sign \u001b[38;5;241m*\u001b[39m \u001b[38;5;28mself\u001b[39m\u001b[38;5;241m.\u001b[39m_score_func(y_true, y_pred, \u001b[38;5;241m*\u001b[39m\u001b[38;5;241m*\u001b[39mscoring_kwargs)\n",
      "File \u001b[1;32mc:\\Users\\ryant\\AppData\\Local\\Programs\\Python\\Python39\\lib\\site-packages\\sklearn\\metrics\\_scorer.py:89\u001b[0m, in \u001b[0;36m_cached_call\u001b[1;34m(cache, estimator, response_method, *args, **kwargs)\u001b[0m\n\u001b[0;32m     86\u001b[0m \u001b[38;5;28;01mif\u001b[39;00m cache \u001b[38;5;129;01mis\u001b[39;00m \u001b[38;5;129;01mnot\u001b[39;00m \u001b[38;5;28;01mNone\u001b[39;00m \u001b[38;5;129;01mand\u001b[39;00m response_method \u001b[38;5;129;01min\u001b[39;00m cache:\n\u001b[0;32m     87\u001b[0m     \u001b[38;5;28;01mreturn\u001b[39;00m cache[response_method]\n\u001b[1;32m---> 89\u001b[0m result, _ \u001b[38;5;241m=\u001b[39m _get_response_values(\n\u001b[0;32m     90\u001b[0m     estimator, \u001b[38;5;241m*\u001b[39margs, response_method\u001b[38;5;241m=\u001b[39mresponse_method, \u001b[38;5;241m*\u001b[39m\u001b[38;5;241m*\u001b[39mkwargs\n\u001b[0;32m     91\u001b[0m )\n\u001b[0;32m     93\u001b[0m \u001b[38;5;28;01mif\u001b[39;00m cache \u001b[38;5;129;01mis\u001b[39;00m \u001b[38;5;129;01mnot\u001b[39;00m \u001b[38;5;28;01mNone\u001b[39;00m:\n\u001b[0;32m     94\u001b[0m     cache[response_method] \u001b[38;5;241m=\u001b[39m result\n",
      "File \u001b[1;32mc:\\Users\\ryant\\AppData\\Local\\Programs\\Python\\Python39\\lib\\site-packages\\sklearn\\utils\\_response.py:239\u001b[0m, in \u001b[0;36m_get_response_values\u001b[1;34m(estimator, X, response_method, pos_label, return_response_method_used)\u001b[0m\n\u001b[0;32m    232\u001b[0m         \u001b[38;5;28;01mraise\u001b[39;00m \u001b[38;5;167;01mValueError\u001b[39;00m(\n\u001b[0;32m    233\u001b[0m             \u001b[38;5;124mf\u001b[39m\u001b[38;5;124m\"\u001b[39m\u001b[38;5;132;01m{\u001b[39;00mestimator\u001b[38;5;241m.\u001b[39m\u001b[38;5;18m__class__\u001b[39m\u001b[38;5;241m.\u001b[39m\u001b[38;5;18m__name__\u001b[39m\u001b[38;5;132;01m}\u001b[39;00m\u001b[38;5;124m should either be a classifier to be \u001b[39m\u001b[38;5;124m\"\u001b[39m\n\u001b[0;32m    234\u001b[0m             \u001b[38;5;124mf\u001b[39m\u001b[38;5;124m\"\u001b[39m\u001b[38;5;124mused with response_method=\u001b[39m\u001b[38;5;132;01m{\u001b[39;00mresponse_method\u001b[38;5;132;01m}\u001b[39;00m\u001b[38;5;124m or the response_method \u001b[39m\u001b[38;5;124m\"\u001b[39m\n\u001b[0;32m    235\u001b[0m             \u001b[38;5;124m\"\u001b[39m\u001b[38;5;124mshould be \u001b[39m\u001b[38;5;124m'\u001b[39m\u001b[38;5;124mpredict\u001b[39m\u001b[38;5;124m'\u001b[39m\u001b[38;5;124m. Got a regressor with response_method=\u001b[39m\u001b[38;5;124m\"\u001b[39m\n\u001b[0;32m    236\u001b[0m             \u001b[38;5;124mf\u001b[39m\u001b[38;5;124m\"\u001b[39m\u001b[38;5;132;01m{\u001b[39;00mresponse_method\u001b[38;5;132;01m}\u001b[39;00m\u001b[38;5;124m instead.\u001b[39m\u001b[38;5;124m\"\u001b[39m\n\u001b[0;32m    237\u001b[0m         )\n\u001b[0;32m    238\u001b[0m     prediction_method \u001b[38;5;241m=\u001b[39m estimator\u001b[38;5;241m.\u001b[39mpredict\n\u001b[1;32m--> 239\u001b[0m     y_pred, pos_label \u001b[38;5;241m=\u001b[39m \u001b[43mprediction_method\u001b[49m\u001b[43m(\u001b[49m\u001b[43mX\u001b[49m\u001b[43m)\u001b[49m, \u001b[38;5;28;01mNone\u001b[39;00m\n\u001b[0;32m    241\u001b[0m \u001b[38;5;28;01mif\u001b[39;00m return_response_method_used:\n\u001b[0;32m    242\u001b[0m     \u001b[38;5;28;01mreturn\u001b[39;00m y_pred, pos_label, prediction_method\u001b[38;5;241m.\u001b[39m\u001b[38;5;18m__name__\u001b[39m\n",
      "File \u001b[1;32mc:\\Users\\ryant\\AppData\\Local\\Programs\\Python\\Python39\\lib\\site-packages\\xgboost\\sklearn.py:1186\u001b[0m, in \u001b[0;36mXGBModel.predict\u001b[1;34m(self, X, output_margin, validate_features, base_margin, iteration_range)\u001b[0m\n\u001b[0;32m   1184\u001b[0m \u001b[38;5;28;01mif\u001b[39;00m \u001b[38;5;28mself\u001b[39m\u001b[38;5;241m.\u001b[39m_can_use_inplace_predict():\n\u001b[0;32m   1185\u001b[0m     \u001b[38;5;28;01mtry\u001b[39;00m:\n\u001b[1;32m-> 1186\u001b[0m         predts \u001b[38;5;241m=\u001b[39m \u001b[38;5;28;43mself\u001b[39;49m\u001b[38;5;241;43m.\u001b[39;49m\u001b[43mget_booster\u001b[49m\u001b[43m(\u001b[49m\u001b[43m)\u001b[49m\u001b[38;5;241;43m.\u001b[39;49m\u001b[43minplace_predict\u001b[49m\u001b[43m(\u001b[49m\n\u001b[0;32m   1187\u001b[0m \u001b[43m            \u001b[49m\u001b[43mdata\u001b[49m\u001b[38;5;241;43m=\u001b[39;49m\u001b[43mX\u001b[49m\u001b[43m,\u001b[49m\n\u001b[0;32m   1188\u001b[0m \u001b[43m            \u001b[49m\u001b[43miteration_range\u001b[49m\u001b[38;5;241;43m=\u001b[39;49m\u001b[43miteration_range\u001b[49m\u001b[43m,\u001b[49m\n\u001b[0;32m   1189\u001b[0m \u001b[43m            \u001b[49m\u001b[43mpredict_type\u001b[49m\u001b[38;5;241;43m=\u001b[39;49m\u001b[38;5;124;43m\"\u001b[39;49m\u001b[38;5;124;43mmargin\u001b[39;49m\u001b[38;5;124;43m\"\u001b[39;49m\u001b[43m \u001b[49m\u001b[38;5;28;43;01mif\u001b[39;49;00m\u001b[43m \u001b[49m\u001b[43moutput_margin\u001b[49m\u001b[43m \u001b[49m\u001b[38;5;28;43;01melse\u001b[39;49;00m\u001b[43m \u001b[49m\u001b[38;5;124;43m\"\u001b[39;49m\u001b[38;5;124;43mvalue\u001b[39;49m\u001b[38;5;124;43m\"\u001b[39;49m\u001b[43m,\u001b[49m\n\u001b[0;32m   1190\u001b[0m \u001b[43m            \u001b[49m\u001b[43mmissing\u001b[49m\u001b[38;5;241;43m=\u001b[39;49m\u001b[38;5;28;43mself\u001b[39;49m\u001b[38;5;241;43m.\u001b[39;49m\u001b[43mmissing\u001b[49m\u001b[43m,\u001b[49m\n\u001b[0;32m   1191\u001b[0m \u001b[43m            \u001b[49m\u001b[43mbase_margin\u001b[49m\u001b[38;5;241;43m=\u001b[39;49m\u001b[43mbase_margin\u001b[49m\u001b[43m,\u001b[49m\n\u001b[0;32m   1192\u001b[0m \u001b[43m            \u001b[49m\u001b[43mvalidate_features\u001b[49m\u001b[38;5;241;43m=\u001b[39;49m\u001b[43mvalidate_features\u001b[49m\u001b[43m,\u001b[49m\n\u001b[0;32m   1193\u001b[0m \u001b[43m        \u001b[49m\u001b[43m)\u001b[49m\n\u001b[0;32m   1194\u001b[0m         \u001b[38;5;28;01mif\u001b[39;00m _is_cupy_alike(predts):\n\u001b[0;32m   1195\u001b[0m             \u001b[38;5;28;01mimport\u001b[39;00m \u001b[38;5;21;01mcupy\u001b[39;00m  \u001b[38;5;66;03m# pylint: disable=import-error\u001b[39;00m\n",
      "File \u001b[1;32mc:\\Users\\ryant\\AppData\\Local\\Programs\\Python\\Python39\\lib\\site-packages\\xgboost\\core.py:2543\u001b[0m, in \u001b[0;36mBooster.inplace_predict\u001b[1;34m(self, data, iteration_range, predict_type, missing, validate_features, base_margin, strict_shape)\u001b[0m\n\u001b[0;32m   2540\u001b[0m     \u001b[38;5;28;01mreturn\u001b[39;00m _prediction_output(shape, dims, preds, \u001b[38;5;28;01mFalse\u001b[39;00m)\n\u001b[0;32m   2541\u001b[0m \u001b[38;5;28;01mif\u001b[39;00m \u001b[38;5;28misinstance\u001b[39m(data, PandasTransformed):\n\u001b[0;32m   2542\u001b[0m     _check_call(\n\u001b[1;32m-> 2543\u001b[0m         \u001b[43m_LIB\u001b[49m\u001b[38;5;241;43m.\u001b[39;49m\u001b[43mXGBoosterPredictFromColumnar\u001b[49m\u001b[43m(\u001b[49m\n\u001b[0;32m   2544\u001b[0m \u001b[43m            \u001b[49m\u001b[38;5;28;43mself\u001b[39;49m\u001b[38;5;241;43m.\u001b[39;49m\u001b[43mhandle\u001b[49m\u001b[43m,\u001b[49m\n\u001b[0;32m   2545\u001b[0m \u001b[43m            \u001b[49m\u001b[43mdata\u001b[49m\u001b[38;5;241;43m.\u001b[39;49m\u001b[43marray_interface\u001b[49m\u001b[43m(\u001b[49m\u001b[43m)\u001b[49m\u001b[43m,\u001b[49m\n\u001b[0;32m   2546\u001b[0m \u001b[43m            \u001b[49m\u001b[43margs\u001b[49m\u001b[43m,\u001b[49m\n\u001b[0;32m   2547\u001b[0m \u001b[43m            \u001b[49m\u001b[43mp_handle\u001b[49m\u001b[43m,\u001b[49m\n\u001b[0;32m   2548\u001b[0m \u001b[43m            \u001b[49m\u001b[43mctypes\u001b[49m\u001b[38;5;241;43m.\u001b[39;49m\u001b[43mbyref\u001b[49m\u001b[43m(\u001b[49m\u001b[43mshape\u001b[49m\u001b[43m)\u001b[49m\u001b[43m,\u001b[49m\n\u001b[0;32m   2549\u001b[0m \u001b[43m            \u001b[49m\u001b[43mctypes\u001b[49m\u001b[38;5;241;43m.\u001b[39;49m\u001b[43mbyref\u001b[49m\u001b[43m(\u001b[49m\u001b[43mdims\u001b[49m\u001b[43m)\u001b[49m\u001b[43m,\u001b[49m\n\u001b[0;32m   2550\u001b[0m \u001b[43m            \u001b[49m\u001b[43mctypes\u001b[49m\u001b[38;5;241;43m.\u001b[39;49m\u001b[43mbyref\u001b[49m\u001b[43m(\u001b[49m\u001b[43mpreds\u001b[49m\u001b[43m)\u001b[49m\u001b[43m,\u001b[49m\n\u001b[0;32m   2551\u001b[0m \u001b[43m        \u001b[49m\u001b[43m)\u001b[49m\n\u001b[0;32m   2552\u001b[0m     )\n\u001b[0;32m   2553\u001b[0m     \u001b[38;5;28;01mreturn\u001b[39;00m _prediction_output(shape, dims, preds, \u001b[38;5;28;01mFalse\u001b[39;00m)\n\u001b[0;32m   2554\u001b[0m \u001b[38;5;28;01mif\u001b[39;00m \u001b[38;5;28misinstance\u001b[39m(data, scipy\u001b[38;5;241m.\u001b[39msparse\u001b[38;5;241m.\u001b[39mcsr_matrix):\n",
      "\u001b[1;31mKeyboardInterrupt\u001b[0m: "
     ]
    }
   ],
   "source": [
    "# grid search for best hyperparameters for XGBoost\n",
    "from xgboost import XGBRegressor\n",
    "from sklearn.model_selection import GridSearchCV\n",
    "\n",
    "# Define the model\n",
    "model = XGBRegressor()\n",
    "\n",
    "# Define hyperparameters\n",
    "param_grid = {\n",
    "    'max_depth': [5, 6, 7, 8, 9, 11, 13, 14],\n",
    "    'learning_rate': [0.01, 0.03, 0.06, 0.1, 0.2, 0.4, 0.7],\n",
    "    'gamma': [0, 0.1, 0.2, 0.4, 0.8, 1.6],\n",
    "    'reg_alpha': [0.4, 0.8, 1.6, 6.4],\n",
    "    'reg_lambda': [0.4, 0.8, 1.6, 6.4]\n",
    "}\n",
    "\n",
    "# Perform grid search\n",
    "grid_search = GridSearchCV(model, param_grid, cv=5, scoring='neg_mean_squared_error')\n",
    "grid_search.fit(train_data[features], train_data[targets[0]])\n"
   ]
  },
  {
   "cell_type": "markdown",
   "metadata": {},
   "source": [
    "Random Search CV"
   ]
  },
  {
   "cell_type": "code",
   "execution_count": 50,
   "metadata": {},
   "outputs": [
    {
     "data": {
      "text/html": [
       "<style>#sk-container-id-2 {\n",
       "  /* Definition of color scheme common for light and dark mode */\n",
       "  --sklearn-color-text: black;\n",
       "  --sklearn-color-line: gray;\n",
       "  /* Definition of color scheme for unfitted estimators */\n",
       "  --sklearn-color-unfitted-level-0: #fff5e6;\n",
       "  --sklearn-color-unfitted-level-1: #f6e4d2;\n",
       "  --sklearn-color-unfitted-level-2: #ffe0b3;\n",
       "  --sklearn-color-unfitted-level-3: chocolate;\n",
       "  /* Definition of color scheme for fitted estimators */\n",
       "  --sklearn-color-fitted-level-0: #f0f8ff;\n",
       "  --sklearn-color-fitted-level-1: #d4ebff;\n",
       "  --sklearn-color-fitted-level-2: #b3dbfd;\n",
       "  --sklearn-color-fitted-level-3: cornflowerblue;\n",
       "\n",
       "  /* Specific color for light theme */\n",
       "  --sklearn-color-text-on-default-background: var(--sg-text-color, var(--theme-code-foreground, var(--jp-content-font-color1, black)));\n",
       "  --sklearn-color-background: var(--sg-background-color, var(--theme-background, var(--jp-layout-color0, white)));\n",
       "  --sklearn-color-border-box: var(--sg-text-color, var(--theme-code-foreground, var(--jp-content-font-color1, black)));\n",
       "  --sklearn-color-icon: #696969;\n",
       "\n",
       "  @media (prefers-color-scheme: dark) {\n",
       "    /* Redefinition of color scheme for dark theme */\n",
       "    --sklearn-color-text-on-default-background: var(--sg-text-color, var(--theme-code-foreground, var(--jp-content-font-color1, white)));\n",
       "    --sklearn-color-background: var(--sg-background-color, var(--theme-background, var(--jp-layout-color0, #111)));\n",
       "    --sklearn-color-border-box: var(--sg-text-color, var(--theme-code-foreground, var(--jp-content-font-color1, white)));\n",
       "    --sklearn-color-icon: #878787;\n",
       "  }\n",
       "}\n",
       "\n",
       "#sk-container-id-2 {\n",
       "  color: var(--sklearn-color-text);\n",
       "}\n",
       "\n",
       "#sk-container-id-2 pre {\n",
       "  padding: 0;\n",
       "}\n",
       "\n",
       "#sk-container-id-2 input.sk-hidden--visually {\n",
       "  border: 0;\n",
       "  clip: rect(1px 1px 1px 1px);\n",
       "  clip: rect(1px, 1px, 1px, 1px);\n",
       "  height: 1px;\n",
       "  margin: -1px;\n",
       "  overflow: hidden;\n",
       "  padding: 0;\n",
       "  position: absolute;\n",
       "  width: 1px;\n",
       "}\n",
       "\n",
       "#sk-container-id-2 div.sk-dashed-wrapped {\n",
       "  border: 1px dashed var(--sklearn-color-line);\n",
       "  margin: 0 0.4em 0.5em 0.4em;\n",
       "  box-sizing: border-box;\n",
       "  padding-bottom: 0.4em;\n",
       "  background-color: var(--sklearn-color-background);\n",
       "}\n",
       "\n",
       "#sk-container-id-2 div.sk-container {\n",
       "  /* jupyter's `normalize.less` sets `[hidden] { display: none; }`\n",
       "     but bootstrap.min.css set `[hidden] { display: none !important; }`\n",
       "     so we also need the `!important` here to be able to override the\n",
       "     default hidden behavior on the sphinx rendered scikit-learn.org.\n",
       "     See: https://github.com/scikit-learn/scikit-learn/issues/21755 */\n",
       "  display: inline-block !important;\n",
       "  position: relative;\n",
       "}\n",
       "\n",
       "#sk-container-id-2 div.sk-text-repr-fallback {\n",
       "  display: none;\n",
       "}\n",
       "\n",
       "div.sk-parallel-item,\n",
       "div.sk-serial,\n",
       "div.sk-item {\n",
       "  /* draw centered vertical line to link estimators */\n",
       "  background-image: linear-gradient(var(--sklearn-color-text-on-default-background), var(--sklearn-color-text-on-default-background));\n",
       "  background-size: 2px 100%;\n",
       "  background-repeat: no-repeat;\n",
       "  background-position: center center;\n",
       "}\n",
       "\n",
       "/* Parallel-specific style estimator block */\n",
       "\n",
       "#sk-container-id-2 div.sk-parallel-item::after {\n",
       "  content: \"\";\n",
       "  width: 100%;\n",
       "  border-bottom: 2px solid var(--sklearn-color-text-on-default-background);\n",
       "  flex-grow: 1;\n",
       "}\n",
       "\n",
       "#sk-container-id-2 div.sk-parallel {\n",
       "  display: flex;\n",
       "  align-items: stretch;\n",
       "  justify-content: center;\n",
       "  background-color: var(--sklearn-color-background);\n",
       "  position: relative;\n",
       "}\n",
       "\n",
       "#sk-container-id-2 div.sk-parallel-item {\n",
       "  display: flex;\n",
       "  flex-direction: column;\n",
       "}\n",
       "\n",
       "#sk-container-id-2 div.sk-parallel-item:first-child::after {\n",
       "  align-self: flex-end;\n",
       "  width: 50%;\n",
       "}\n",
       "\n",
       "#sk-container-id-2 div.sk-parallel-item:last-child::after {\n",
       "  align-self: flex-start;\n",
       "  width: 50%;\n",
       "}\n",
       "\n",
       "#sk-container-id-2 div.sk-parallel-item:only-child::after {\n",
       "  width: 0;\n",
       "}\n",
       "\n",
       "/* Serial-specific style estimator block */\n",
       "\n",
       "#sk-container-id-2 div.sk-serial {\n",
       "  display: flex;\n",
       "  flex-direction: column;\n",
       "  align-items: center;\n",
       "  background-color: var(--sklearn-color-background);\n",
       "  padding-right: 1em;\n",
       "  padding-left: 1em;\n",
       "}\n",
       "\n",
       "\n",
       "/* Toggleable style: style used for estimator/Pipeline/ColumnTransformer box that is\n",
       "clickable and can be expanded/collapsed.\n",
       "- Pipeline and ColumnTransformer use this feature and define the default style\n",
       "- Estimators will overwrite some part of the style using the `sk-estimator` class\n",
       "*/\n",
       "\n",
       "/* Pipeline and ColumnTransformer style (default) */\n",
       "\n",
       "#sk-container-id-2 div.sk-toggleable {\n",
       "  /* Default theme specific background. It is overwritten whether we have a\n",
       "  specific estimator or a Pipeline/ColumnTransformer */\n",
       "  background-color: var(--sklearn-color-background);\n",
       "}\n",
       "\n",
       "/* Toggleable label */\n",
       "#sk-container-id-2 label.sk-toggleable__label {\n",
       "  cursor: pointer;\n",
       "  display: block;\n",
       "  width: 100%;\n",
       "  margin-bottom: 0;\n",
       "  padding: 0.5em;\n",
       "  box-sizing: border-box;\n",
       "  text-align: center;\n",
       "}\n",
       "\n",
       "#sk-container-id-2 label.sk-toggleable__label-arrow:before {\n",
       "  /* Arrow on the left of the label */\n",
       "  content: \"▸\";\n",
       "  float: left;\n",
       "  margin-right: 0.25em;\n",
       "  color: var(--sklearn-color-icon);\n",
       "}\n",
       "\n",
       "#sk-container-id-2 label.sk-toggleable__label-arrow:hover:before {\n",
       "  color: var(--sklearn-color-text);\n",
       "}\n",
       "\n",
       "/* Toggleable content - dropdown */\n",
       "\n",
       "#sk-container-id-2 div.sk-toggleable__content {\n",
       "  max-height: 0;\n",
       "  max-width: 0;\n",
       "  overflow: hidden;\n",
       "  text-align: left;\n",
       "  /* unfitted */\n",
       "  background-color: var(--sklearn-color-unfitted-level-0);\n",
       "}\n",
       "\n",
       "#sk-container-id-2 div.sk-toggleable__content.fitted {\n",
       "  /* fitted */\n",
       "  background-color: var(--sklearn-color-fitted-level-0);\n",
       "}\n",
       "\n",
       "#sk-container-id-2 div.sk-toggleable__content pre {\n",
       "  margin: 0.2em;\n",
       "  border-radius: 0.25em;\n",
       "  color: var(--sklearn-color-text);\n",
       "  /* unfitted */\n",
       "  background-color: var(--sklearn-color-unfitted-level-0);\n",
       "}\n",
       "\n",
       "#sk-container-id-2 div.sk-toggleable__content.fitted pre {\n",
       "  /* unfitted */\n",
       "  background-color: var(--sklearn-color-fitted-level-0);\n",
       "}\n",
       "\n",
       "#sk-container-id-2 input.sk-toggleable__control:checked~div.sk-toggleable__content {\n",
       "  /* Expand drop-down */\n",
       "  max-height: 200px;\n",
       "  max-width: 100%;\n",
       "  overflow: auto;\n",
       "}\n",
       "\n",
       "#sk-container-id-2 input.sk-toggleable__control:checked~label.sk-toggleable__label-arrow:before {\n",
       "  content: \"▾\";\n",
       "}\n",
       "\n",
       "/* Pipeline/ColumnTransformer-specific style */\n",
       "\n",
       "#sk-container-id-2 div.sk-label input.sk-toggleable__control:checked~label.sk-toggleable__label {\n",
       "  color: var(--sklearn-color-text);\n",
       "  background-color: var(--sklearn-color-unfitted-level-2);\n",
       "}\n",
       "\n",
       "#sk-container-id-2 div.sk-label.fitted input.sk-toggleable__control:checked~label.sk-toggleable__label {\n",
       "  background-color: var(--sklearn-color-fitted-level-2);\n",
       "}\n",
       "\n",
       "/* Estimator-specific style */\n",
       "\n",
       "/* Colorize estimator box */\n",
       "#sk-container-id-2 div.sk-estimator input.sk-toggleable__control:checked~label.sk-toggleable__label {\n",
       "  /* unfitted */\n",
       "  background-color: var(--sklearn-color-unfitted-level-2);\n",
       "}\n",
       "\n",
       "#sk-container-id-2 div.sk-estimator.fitted input.sk-toggleable__control:checked~label.sk-toggleable__label {\n",
       "  /* fitted */\n",
       "  background-color: var(--sklearn-color-fitted-level-2);\n",
       "}\n",
       "\n",
       "#sk-container-id-2 div.sk-label label.sk-toggleable__label,\n",
       "#sk-container-id-2 div.sk-label label {\n",
       "  /* The background is the default theme color */\n",
       "  color: var(--sklearn-color-text-on-default-background);\n",
       "}\n",
       "\n",
       "/* On hover, darken the color of the background */\n",
       "#sk-container-id-2 div.sk-label:hover label.sk-toggleable__label {\n",
       "  color: var(--sklearn-color-text);\n",
       "  background-color: var(--sklearn-color-unfitted-level-2);\n",
       "}\n",
       "\n",
       "/* Label box, darken color on hover, fitted */\n",
       "#sk-container-id-2 div.sk-label.fitted:hover label.sk-toggleable__label.fitted {\n",
       "  color: var(--sklearn-color-text);\n",
       "  background-color: var(--sklearn-color-fitted-level-2);\n",
       "}\n",
       "\n",
       "/* Estimator label */\n",
       "\n",
       "#sk-container-id-2 div.sk-label label {\n",
       "  font-family: monospace;\n",
       "  font-weight: bold;\n",
       "  display: inline-block;\n",
       "  line-height: 1.2em;\n",
       "}\n",
       "\n",
       "#sk-container-id-2 div.sk-label-container {\n",
       "  text-align: center;\n",
       "}\n",
       "\n",
       "/* Estimator-specific */\n",
       "#sk-container-id-2 div.sk-estimator {\n",
       "  font-family: monospace;\n",
       "  border: 1px dotted var(--sklearn-color-border-box);\n",
       "  border-radius: 0.25em;\n",
       "  box-sizing: border-box;\n",
       "  margin-bottom: 0.5em;\n",
       "  /* unfitted */\n",
       "  background-color: var(--sklearn-color-unfitted-level-0);\n",
       "}\n",
       "\n",
       "#sk-container-id-2 div.sk-estimator.fitted {\n",
       "  /* fitted */\n",
       "  background-color: var(--sklearn-color-fitted-level-0);\n",
       "}\n",
       "\n",
       "/* on hover */\n",
       "#sk-container-id-2 div.sk-estimator:hover {\n",
       "  /* unfitted */\n",
       "  background-color: var(--sklearn-color-unfitted-level-2);\n",
       "}\n",
       "\n",
       "#sk-container-id-2 div.sk-estimator.fitted:hover {\n",
       "  /* fitted */\n",
       "  background-color: var(--sklearn-color-fitted-level-2);\n",
       "}\n",
       "\n",
       "/* Specification for estimator info (e.g. \"i\" and \"?\") */\n",
       "\n",
       "/* Common style for \"i\" and \"?\" */\n",
       "\n",
       ".sk-estimator-doc-link,\n",
       "a:link.sk-estimator-doc-link,\n",
       "a:visited.sk-estimator-doc-link {\n",
       "  float: right;\n",
       "  font-size: smaller;\n",
       "  line-height: 1em;\n",
       "  font-family: monospace;\n",
       "  background-color: var(--sklearn-color-background);\n",
       "  border-radius: 1em;\n",
       "  height: 1em;\n",
       "  width: 1em;\n",
       "  text-decoration: none !important;\n",
       "  margin-left: 1ex;\n",
       "  /* unfitted */\n",
       "  border: var(--sklearn-color-unfitted-level-1) 1pt solid;\n",
       "  color: var(--sklearn-color-unfitted-level-1);\n",
       "}\n",
       "\n",
       ".sk-estimator-doc-link.fitted,\n",
       "a:link.sk-estimator-doc-link.fitted,\n",
       "a:visited.sk-estimator-doc-link.fitted {\n",
       "  /* fitted */\n",
       "  border: var(--sklearn-color-fitted-level-1) 1pt solid;\n",
       "  color: var(--sklearn-color-fitted-level-1);\n",
       "}\n",
       "\n",
       "/* On hover */\n",
       "div.sk-estimator:hover .sk-estimator-doc-link:hover,\n",
       ".sk-estimator-doc-link:hover,\n",
       "div.sk-label-container:hover .sk-estimator-doc-link:hover,\n",
       ".sk-estimator-doc-link:hover {\n",
       "  /* unfitted */\n",
       "  background-color: var(--sklearn-color-unfitted-level-3);\n",
       "  color: var(--sklearn-color-background);\n",
       "  text-decoration: none;\n",
       "}\n",
       "\n",
       "div.sk-estimator.fitted:hover .sk-estimator-doc-link.fitted:hover,\n",
       ".sk-estimator-doc-link.fitted:hover,\n",
       "div.sk-label-container:hover .sk-estimator-doc-link.fitted:hover,\n",
       ".sk-estimator-doc-link.fitted:hover {\n",
       "  /* fitted */\n",
       "  background-color: var(--sklearn-color-fitted-level-3);\n",
       "  color: var(--sklearn-color-background);\n",
       "  text-decoration: none;\n",
       "}\n",
       "\n",
       "/* Span, style for the box shown on hovering the info icon */\n",
       ".sk-estimator-doc-link span {\n",
       "  display: none;\n",
       "  z-index: 9999;\n",
       "  position: relative;\n",
       "  font-weight: normal;\n",
       "  right: .2ex;\n",
       "  padding: .5ex;\n",
       "  margin: .5ex;\n",
       "  width: min-content;\n",
       "  min-width: 20ex;\n",
       "  max-width: 50ex;\n",
       "  color: var(--sklearn-color-text);\n",
       "  box-shadow: 2pt 2pt 4pt #999;\n",
       "  /* unfitted */\n",
       "  background: var(--sklearn-color-unfitted-level-0);\n",
       "  border: .5pt solid var(--sklearn-color-unfitted-level-3);\n",
       "}\n",
       "\n",
       ".sk-estimator-doc-link.fitted span {\n",
       "  /* fitted */\n",
       "  background: var(--sklearn-color-fitted-level-0);\n",
       "  border: var(--sklearn-color-fitted-level-3);\n",
       "}\n",
       "\n",
       ".sk-estimator-doc-link:hover span {\n",
       "  display: block;\n",
       "}\n",
       "\n",
       "/* \"?\"-specific style due to the `<a>` HTML tag */\n",
       "\n",
       "#sk-container-id-2 a.estimator_doc_link {\n",
       "  float: right;\n",
       "  font-size: 1rem;\n",
       "  line-height: 1em;\n",
       "  font-family: monospace;\n",
       "  background-color: var(--sklearn-color-background);\n",
       "  border-radius: 1rem;\n",
       "  height: 1rem;\n",
       "  width: 1rem;\n",
       "  text-decoration: none;\n",
       "  /* unfitted */\n",
       "  color: var(--sklearn-color-unfitted-level-1);\n",
       "  border: var(--sklearn-color-unfitted-level-1) 1pt solid;\n",
       "}\n",
       "\n",
       "#sk-container-id-2 a.estimator_doc_link.fitted {\n",
       "  /* fitted */\n",
       "  border: var(--sklearn-color-fitted-level-1) 1pt solid;\n",
       "  color: var(--sklearn-color-fitted-level-1);\n",
       "}\n",
       "\n",
       "/* On hover */\n",
       "#sk-container-id-2 a.estimator_doc_link:hover {\n",
       "  /* unfitted */\n",
       "  background-color: var(--sklearn-color-unfitted-level-3);\n",
       "  color: var(--sklearn-color-background);\n",
       "  text-decoration: none;\n",
       "}\n",
       "\n",
       "#sk-container-id-2 a.estimator_doc_link.fitted:hover {\n",
       "  /* fitted */\n",
       "  background-color: var(--sklearn-color-fitted-level-3);\n",
       "}\n",
       "</style><div id=\"sk-container-id-2\" class=\"sk-top-container\"><div class=\"sk-text-repr-fallback\"><pre>RandomizedSearchCV(cv=5,\n",
       "                   estimator=XGBRegressor(base_score=None, booster=None,\n",
       "                                          callbacks=None,\n",
       "                                          colsample_bylevel=None,\n",
       "                                          colsample_bynode=None,\n",
       "                                          colsample_bytree=None, device=None,\n",
       "                                          early_stopping_rounds=None,\n",
       "                                          enable_categorical=False,\n",
       "                                          eval_metric=None, feature_types=None,\n",
       "                                          gamma=None, grow_policy=None,\n",
       "                                          importance_type=None,\n",
       "                                          interaction_constraints=None,\n",
       "                                          learning_rate=...\n",
       "                                        &#x27;learning_rate&#x27;: &lt;scipy.stats._distn_infrastructure.rv_continuous_frozen object at 0x000001BBFF9634F0&gt;,\n",
       "                                        &#x27;max_depth&#x27;: &lt;scipy.stats._distn_infrastructure.rv_discrete_frozen object at 0x000001BBE93034C0&gt;,\n",
       "                                        &#x27;reg_alpha&#x27;: &lt;scipy.stats._distn_infrastructure.rv_continuous_frozen object at 0x000001BBFF963610&gt;,\n",
       "                                        &#x27;reg_lambda&#x27;: &lt;scipy.stats._distn_infrastructure.rv_continuous_frozen object at 0x000001BBFF95BE50&gt;},\n",
       "                   scoring=&#x27;neg_mean_squared_error&#x27;)</pre><b>In a Jupyter environment, please rerun this cell to show the HTML representation or trust the notebook. <br />On GitHub, the HTML representation is unable to render, please try loading this page with nbviewer.org.</b></div><div class=\"sk-container\" hidden><div class=\"sk-item sk-dashed-wrapped\"><div class=\"sk-label-container\"><div class=\"sk-label fitted sk-toggleable\"><input class=\"sk-toggleable__control sk-hidden--visually\" id=\"sk-estimator-id-2\" type=\"checkbox\" ><label for=\"sk-estimator-id-2\" class=\"sk-toggleable__label fitted sk-toggleable__label-arrow fitted\">&nbsp;&nbsp;RandomizedSearchCV<a class=\"sk-estimator-doc-link fitted\" rel=\"noreferrer\" target=\"_blank\" href=\"https://scikit-learn.org/1.5/modules/generated/sklearn.model_selection.RandomizedSearchCV.html\">?<span>Documentation for RandomizedSearchCV</span></a><span class=\"sk-estimator-doc-link fitted\">i<span>Fitted</span></span></label><div class=\"sk-toggleable__content fitted\"><pre>RandomizedSearchCV(cv=5,\n",
       "                   estimator=XGBRegressor(base_score=None, booster=None,\n",
       "                                          callbacks=None,\n",
       "                                          colsample_bylevel=None,\n",
       "                                          colsample_bynode=None,\n",
       "                                          colsample_bytree=None, device=None,\n",
       "                                          early_stopping_rounds=None,\n",
       "                                          enable_categorical=False,\n",
       "                                          eval_metric=None, feature_types=None,\n",
       "                                          gamma=None, grow_policy=None,\n",
       "                                          importance_type=None,\n",
       "                                          interaction_constraints=None,\n",
       "                                          learning_rate=...\n",
       "                                        &#x27;learning_rate&#x27;: &lt;scipy.stats._distn_infrastructure.rv_continuous_frozen object at 0x000001BBFF9634F0&gt;,\n",
       "                                        &#x27;max_depth&#x27;: &lt;scipy.stats._distn_infrastructure.rv_discrete_frozen object at 0x000001BBE93034C0&gt;,\n",
       "                                        &#x27;reg_alpha&#x27;: &lt;scipy.stats._distn_infrastructure.rv_continuous_frozen object at 0x000001BBFF963610&gt;,\n",
       "                                        &#x27;reg_lambda&#x27;: &lt;scipy.stats._distn_infrastructure.rv_continuous_frozen object at 0x000001BBFF95BE50&gt;},\n",
       "                   scoring=&#x27;neg_mean_squared_error&#x27;)</pre></div> </div></div><div class=\"sk-parallel\"><div class=\"sk-parallel-item\"><div class=\"sk-item\"><div class=\"sk-label-container\"><div class=\"sk-label fitted sk-toggleable\"><input class=\"sk-toggleable__control sk-hidden--visually\" id=\"sk-estimator-id-3\" type=\"checkbox\" ><label for=\"sk-estimator-id-3\" class=\"sk-toggleable__label fitted sk-toggleable__label-arrow fitted\">best_estimator_: XGBRegressor</label><div class=\"sk-toggleable__content fitted\"><pre>XGBRegressor(base_score=None, booster=None, callbacks=None,\n",
       "             colsample_bylevel=None, colsample_bynode=None,\n",
       "             colsample_bytree=None, device=None, early_stopping_rounds=None,\n",
       "             enable_categorical=False, eval_metric=None, feature_types=None,\n",
       "             gamma=0.8865252805495358, grow_policy=None, importance_type=None,\n",
       "             interaction_constraints=None, learning_rate=0.5984239305453201,\n",
       "             max_bin=None, max_cat_threshold=None, max_cat_to_onehot=None,\n",
       "             max_delta_step=None, max_depth=3, max_leaves=None,\n",
       "             min_child_weight=None, missing=nan, monotone_constraints=None,\n",
       "             multi_strategy=None, n_estimators=None, n_jobs=None,\n",
       "             num_parallel_tree=None, random_state=None, ...)</pre></div> </div></div><div class=\"sk-serial\"><div class=\"sk-item\"><div class=\"sk-estimator fitted sk-toggleable\"><input class=\"sk-toggleable__control sk-hidden--visually\" id=\"sk-estimator-id-4\" type=\"checkbox\" ><label for=\"sk-estimator-id-4\" class=\"sk-toggleable__label fitted sk-toggleable__label-arrow fitted\">XGBRegressor</label><div class=\"sk-toggleable__content fitted\"><pre>XGBRegressor(base_score=None, booster=None, callbacks=None,\n",
       "             colsample_bylevel=None, colsample_bynode=None,\n",
       "             colsample_bytree=None, device=None, early_stopping_rounds=None,\n",
       "             enable_categorical=False, eval_metric=None, feature_types=None,\n",
       "             gamma=0.8865252805495358, grow_policy=None, importance_type=None,\n",
       "             interaction_constraints=None, learning_rate=0.5984239305453201,\n",
       "             max_bin=None, max_cat_threshold=None, max_cat_to_onehot=None,\n",
       "             max_delta_step=None, max_depth=3, max_leaves=None,\n",
       "             min_child_weight=None, missing=nan, monotone_constraints=None,\n",
       "             multi_strategy=None, n_estimators=None, n_jobs=None,\n",
       "             num_parallel_tree=None, random_state=None, ...)</pre></div> </div></div></div></div></div></div></div></div></div>"
      ],
      "text/plain": [
       "RandomizedSearchCV(cv=5,\n",
       "                   estimator=XGBRegressor(base_score=None, booster=None,\n",
       "                                          callbacks=None,\n",
       "                                          colsample_bylevel=None,\n",
       "                                          colsample_bynode=None,\n",
       "                                          colsample_bytree=None, device=None,\n",
       "                                          early_stopping_rounds=None,\n",
       "                                          enable_categorical=False,\n",
       "                                          eval_metric=None, feature_types=None,\n",
       "                                          gamma=None, grow_policy=None,\n",
       "                                          importance_type=None,\n",
       "                                          interaction_constraints=None,\n",
       "                                          learning_rate=...\n",
       "                                        'learning_rate': <scipy.stats._distn_infrastructure.rv_continuous_frozen object at 0x000001BBFF9634F0>,\n",
       "                                        'max_depth': <scipy.stats._distn_infrastructure.rv_discrete_frozen object at 0x000001BBE93034C0>,\n",
       "                                        'reg_alpha': <scipy.stats._distn_infrastructure.rv_continuous_frozen object at 0x000001BBFF963610>,\n",
       "                                        'reg_lambda': <scipy.stats._distn_infrastructure.rv_continuous_frozen object at 0x000001BBFF95BE50>},\n",
       "                   scoring='neg_mean_squared_error')"
      ]
     },
     "execution_count": 50,
     "metadata": {},
     "output_type": "execute_result"
    }
   ],
   "source": [
    "# random search for best hyperparameters for XGBoost\n",
    "from sklearn.model_selection import RandomizedSearchCV\n",
    "from scipy.stats import uniform, randint\n",
    "\n",
    "# Define the model\n",
    "model = XGBRegressor()\n",
    "\n",
    "param_distributions = {\n",
    "    'max_depth': randint(3, 15),\n",
    "    'learning_rate': uniform(0.01, 0.7),\n",
    "    'gamma': uniform(0, 2),\n",
    "    'reg_alpha': uniform(0, 10),\n",
    "    'reg_lambda': uniform(0, 10)\n",
    "}\n",
    "\n",
    "# Perform random search\n",
    "random_search = RandomizedSearchCV(model, param_distributions, n_iter=100, cv=5, scoring='neg_mean_squared_error')\n",
    "random_search.fit(train_data[features], train_data[targets[0]])"
   ]
  },
  {
   "cell_type": "markdown",
   "metadata": {},
   "source": [
    "Bayesian Optimization"
   ]
  },
  {
   "cell_type": "code",
   "execution_count": null,
   "metadata": {},
   "outputs": [],
   "source": [
    "from xgboost import XGBRegressor\n",
    "from skopt import BayesSearchCV\n",
    "from skopt.space import Real, Integer\n",
    "\n",
    "# Define the model\n",
    "model = XGBRegressor(objective='reg:squarederror', n_estimators=50, random_state=42)\n",
    "\n",
    "# Define the search space for hyperparameters\n",
    "search_space = {\n",
    "    'learning_rate': Real(0.01, 0.7, prior='log-uniform'),\n",
    "    'max_depth': Integer(5, 14),\n",
    "    'gamma': Real(0, 1.6),\n",
    "    'alpha': Real(0.4, 6.4),\n",
    "    'lambda': Real(0.4, 6.4),\n",
    "}\n",
    "\n",
    "# Bayesian Optimization\n",
    "opt = BayesSearchCV(model, search_space, n_iter=50, cv=3, n_jobs=-1, scoring='neg_mean_squared_error')\n",
    "opt.fit(train_data[features], train_data['close_1_ahead'])\n",
    "\n",
    "# Best hyperparameters\n",
    "best_params = opt.best_params_\n",
    "\n",
    "# Train the model with the best hyperparameters\n",
    "model = XGBRegressor(**best_params, objective='reg:squarederror', n_estimators=50, random_state=42)\n",
    "model.fit(train_data[features], train_data['close_1_ahead'])"
   ]
  },
  {
   "cell_type": "markdown",
   "metadata": {},
   "source": [
    "### Develop Trading Strategy"
   ]
  },
  {
   "cell_type": "code",
   "execution_count": null,
   "metadata": {},
   "outputs": [],
   "source": [
    "# Predict future prices\n",
    "train_data['Pred_1_day'] = model.predict(train_data[features])\n",
    "val_data['Pred_1_day'] = model.predict(val_data[features])\n",
    "test_data['Pred_1_day'] = model.predict(test_data[features])\n",
    "\n"
   ]
  },
  {
   "cell_type": "code",
   "execution_count": 48,
   "metadata": {},
   "outputs": [
    {
     "ename": "KeyError",
     "evalue": "'Pred_2_day'",
     "output_type": "error",
     "traceback": [
      "\u001b[1;31m---------------------------------------------------------------------------\u001b[0m",
      "\u001b[1;31mKeyError\u001b[0m                                  Traceback (most recent call last)",
      "File \u001b[1;32mc:\\Users\\ryant\\AppData\\Local\\Programs\\Python\\Python39\\lib\\site-packages\\pandas\\core\\indexes\\base.py:3803\u001b[0m, in \u001b[0;36mIndex.get_loc\u001b[1;34m(self, key, method, tolerance)\u001b[0m\n\u001b[0;32m   3802\u001b[0m \u001b[38;5;28;01mtry\u001b[39;00m:\n\u001b[1;32m-> 3803\u001b[0m     \u001b[38;5;28;01mreturn\u001b[39;00m \u001b[38;5;28;43mself\u001b[39;49m\u001b[38;5;241;43m.\u001b[39;49m\u001b[43m_engine\u001b[49m\u001b[38;5;241;43m.\u001b[39;49m\u001b[43mget_loc\u001b[49m\u001b[43m(\u001b[49m\u001b[43mcasted_key\u001b[49m\u001b[43m)\u001b[49m\n\u001b[0;32m   3804\u001b[0m \u001b[38;5;28;01mexcept\u001b[39;00m \u001b[38;5;167;01mKeyError\u001b[39;00m \u001b[38;5;28;01mas\u001b[39;00m err:\n",
      "File \u001b[1;32mc:\\Users\\ryant\\AppData\\Local\\Programs\\Python\\Python39\\lib\\site-packages\\pandas\\_libs\\index.pyx:138\u001b[0m, in \u001b[0;36mpandas._libs.index.IndexEngine.get_loc\u001b[1;34m()\u001b[0m\n",
      "File \u001b[1;32mc:\\Users\\ryant\\AppData\\Local\\Programs\\Python\\Python39\\lib\\site-packages\\pandas\\_libs\\index.pyx:165\u001b[0m, in \u001b[0;36mpandas._libs.index.IndexEngine.get_loc\u001b[1;34m()\u001b[0m\n",
      "File \u001b[1;32mpandas\\_libs\\hashtable_class_helper.pxi:5745\u001b[0m, in \u001b[0;36mpandas._libs.hashtable.PyObjectHashTable.get_item\u001b[1;34m()\u001b[0m\n",
      "File \u001b[1;32mpandas\\_libs\\hashtable_class_helper.pxi:5753\u001b[0m, in \u001b[0;36mpandas._libs.hashtable.PyObjectHashTable.get_item\u001b[1;34m()\u001b[0m\n",
      "\u001b[1;31mKeyError\u001b[0m: 'Pred_2_day'",
      "\nThe above exception was the direct cause of the following exception:\n",
      "\u001b[1;31mKeyError\u001b[0m                                  Traceback (most recent call last)",
      "Input \u001b[1;32mIn [48]\u001b[0m, in \u001b[0;36m<cell line: 22>\u001b[1;34m()\u001b[0m\n\u001b[0;32m     19\u001b[0m weight_space \u001b[38;5;241m=\u001b[39m [(\u001b[38;5;241m0\u001b[39m, \u001b[38;5;241m1\u001b[39m) \u001b[38;5;28;01mfor\u001b[39;00m _ \u001b[38;5;129;01min\u001b[39;00m \u001b[38;5;28mrange\u001b[39m(\u001b[38;5;241m6\u001b[39m)]\n\u001b[0;32m     21\u001b[0m \u001b[38;5;66;03m# Bayesian Optimization for weight optimization\u001b[39;00m\n\u001b[1;32m---> 22\u001b[0m res \u001b[38;5;241m=\u001b[39m \u001b[43mgp_minimize\u001b[49m\u001b[43m(\u001b[49m\u001b[43mobjective\u001b[49m\u001b[43m,\u001b[49m\u001b[43m \u001b[49m\u001b[43mweight_space\u001b[49m\u001b[43m,\u001b[49m\u001b[43m \u001b[49m\u001b[43mn_calls\u001b[49m\u001b[38;5;241;43m=\u001b[39;49m\u001b[38;5;241;43m50\u001b[39;49m\u001b[43m,\u001b[49m\u001b[43m \u001b[49m\u001b[43mrandom_state\u001b[49m\u001b[38;5;241;43m=\u001b[39;49m\u001b[38;5;241;43m42\u001b[39;49m\u001b[43m)\u001b[49m\n\u001b[0;32m     23\u001b[0m best_weights \u001b[38;5;241m=\u001b[39m res\u001b[38;5;241m.\u001b[39mx\n",
      "File \u001b[1;32mc:\\Users\\ryant\\AppData\\Local\\Programs\\Python\\Python39\\lib\\site-packages\\skopt\\optimizer\\gp.py:281\u001b[0m, in \u001b[0;36mgp_minimize\u001b[1;34m(func, dimensions, base_estimator, n_calls, n_random_starts, n_initial_points, initial_point_generator, acq_func, acq_optimizer, x0, y0, random_state, verbose, callback, n_points, n_restarts_optimizer, xi, kappa, noise, n_jobs, model_queue_size, space_constraint)\u001b[0m\n\u001b[0;32m    273\u001b[0m \u001b[38;5;28;01mif\u001b[39;00m base_estimator \u001b[38;5;129;01mis\u001b[39;00m \u001b[38;5;28;01mNone\u001b[39;00m:\n\u001b[0;32m    274\u001b[0m     base_estimator \u001b[38;5;241m=\u001b[39m cook_estimator(\n\u001b[0;32m    275\u001b[0m         \u001b[38;5;124m\"\u001b[39m\u001b[38;5;124mGP\u001b[39m\u001b[38;5;124m\"\u001b[39m,\n\u001b[0;32m    276\u001b[0m         space\u001b[38;5;241m=\u001b[39mspace,\n\u001b[0;32m    277\u001b[0m         random_state\u001b[38;5;241m=\u001b[39mrng\u001b[38;5;241m.\u001b[39mrandint(\u001b[38;5;241m0\u001b[39m, np\u001b[38;5;241m.\u001b[39miinfo(np\u001b[38;5;241m.\u001b[39mint32)\u001b[38;5;241m.\u001b[39mmax),\n\u001b[0;32m    278\u001b[0m         noise\u001b[38;5;241m=\u001b[39mnoise,\n\u001b[0;32m    279\u001b[0m     )\n\u001b[1;32m--> 281\u001b[0m \u001b[38;5;28;01mreturn\u001b[39;00m \u001b[43mbase_minimize\u001b[49m\u001b[43m(\u001b[49m\n\u001b[0;32m    282\u001b[0m \u001b[43m    \u001b[49m\u001b[43mfunc\u001b[49m\u001b[43m,\u001b[49m\n\u001b[0;32m    283\u001b[0m \u001b[43m    \u001b[49m\u001b[43mspace\u001b[49m\u001b[43m,\u001b[49m\n\u001b[0;32m    284\u001b[0m \u001b[43m    \u001b[49m\u001b[43mbase_estimator\u001b[49m\u001b[38;5;241;43m=\u001b[39;49m\u001b[43mbase_estimator\u001b[49m\u001b[43m,\u001b[49m\n\u001b[0;32m    285\u001b[0m \u001b[43m    \u001b[49m\u001b[43macq_func\u001b[49m\u001b[38;5;241;43m=\u001b[39;49m\u001b[43macq_func\u001b[49m\u001b[43m,\u001b[49m\n\u001b[0;32m    286\u001b[0m \u001b[43m    \u001b[49m\u001b[43mxi\u001b[49m\u001b[38;5;241;43m=\u001b[39;49m\u001b[43mxi\u001b[49m\u001b[43m,\u001b[49m\n\u001b[0;32m    287\u001b[0m \u001b[43m    \u001b[49m\u001b[43mkappa\u001b[49m\u001b[38;5;241;43m=\u001b[39;49m\u001b[43mkappa\u001b[49m\u001b[43m,\u001b[49m\n\u001b[0;32m    288\u001b[0m \u001b[43m    \u001b[49m\u001b[43macq_optimizer\u001b[49m\u001b[38;5;241;43m=\u001b[39;49m\u001b[43macq_optimizer\u001b[49m\u001b[43m,\u001b[49m\n\u001b[0;32m    289\u001b[0m \u001b[43m    \u001b[49m\u001b[43mn_calls\u001b[49m\u001b[38;5;241;43m=\u001b[39;49m\u001b[43mn_calls\u001b[49m\u001b[43m,\u001b[49m\n\u001b[0;32m    290\u001b[0m \u001b[43m    \u001b[49m\u001b[43mn_points\u001b[49m\u001b[38;5;241;43m=\u001b[39;49m\u001b[43mn_points\u001b[49m\u001b[43m,\u001b[49m\n\u001b[0;32m    291\u001b[0m \u001b[43m    \u001b[49m\u001b[43mn_random_starts\u001b[49m\u001b[38;5;241;43m=\u001b[39;49m\u001b[43mn_random_starts\u001b[49m\u001b[43m,\u001b[49m\n\u001b[0;32m    292\u001b[0m \u001b[43m    \u001b[49m\u001b[43mn_initial_points\u001b[49m\u001b[38;5;241;43m=\u001b[39;49m\u001b[43mn_initial_points\u001b[49m\u001b[43m,\u001b[49m\n\u001b[0;32m    293\u001b[0m \u001b[43m    \u001b[49m\u001b[43minitial_point_generator\u001b[49m\u001b[38;5;241;43m=\u001b[39;49m\u001b[43minitial_point_generator\u001b[49m\u001b[43m,\u001b[49m\n\u001b[0;32m    294\u001b[0m \u001b[43m    \u001b[49m\u001b[43mn_restarts_optimizer\u001b[49m\u001b[38;5;241;43m=\u001b[39;49m\u001b[43mn_restarts_optimizer\u001b[49m\u001b[43m,\u001b[49m\n\u001b[0;32m    295\u001b[0m \u001b[43m    \u001b[49m\u001b[43mx0\u001b[49m\u001b[38;5;241;43m=\u001b[39;49m\u001b[43mx0\u001b[49m\u001b[43m,\u001b[49m\n\u001b[0;32m    296\u001b[0m \u001b[43m    \u001b[49m\u001b[43my0\u001b[49m\u001b[38;5;241;43m=\u001b[39;49m\u001b[43my0\u001b[49m\u001b[43m,\u001b[49m\n\u001b[0;32m    297\u001b[0m \u001b[43m    \u001b[49m\u001b[43mrandom_state\u001b[49m\u001b[38;5;241;43m=\u001b[39;49m\u001b[43mrng\u001b[49m\u001b[43m,\u001b[49m\n\u001b[0;32m    298\u001b[0m \u001b[43m    \u001b[49m\u001b[43mverbose\u001b[49m\u001b[38;5;241;43m=\u001b[39;49m\u001b[43mverbose\u001b[49m\u001b[43m,\u001b[49m\n\u001b[0;32m    299\u001b[0m \u001b[43m    \u001b[49m\u001b[43mspace_constraint\u001b[49m\u001b[38;5;241;43m=\u001b[39;49m\u001b[43mspace_constraint\u001b[49m\u001b[43m,\u001b[49m\n\u001b[0;32m    300\u001b[0m \u001b[43m    \u001b[49m\u001b[43mcallback\u001b[49m\u001b[38;5;241;43m=\u001b[39;49m\u001b[43mcallback\u001b[49m\u001b[43m,\u001b[49m\n\u001b[0;32m    301\u001b[0m \u001b[43m    \u001b[49m\u001b[43mn_jobs\u001b[49m\u001b[38;5;241;43m=\u001b[39;49m\u001b[43mn_jobs\u001b[49m\u001b[43m,\u001b[49m\n\u001b[0;32m    302\u001b[0m \u001b[43m    \u001b[49m\u001b[43mmodel_queue_size\u001b[49m\u001b[38;5;241;43m=\u001b[39;49m\u001b[43mmodel_queue_size\u001b[49m\u001b[43m,\u001b[49m\n\u001b[0;32m    303\u001b[0m \u001b[43m\u001b[49m\u001b[43m)\u001b[49m\n",
      "File \u001b[1;32mc:\\Users\\ryant\\AppData\\Local\\Programs\\Python\\Python39\\lib\\site-packages\\skopt\\optimizer\\base.py:332\u001b[0m, in \u001b[0;36mbase_minimize\u001b[1;34m(func, dimensions, base_estimator, n_calls, n_random_starts, n_initial_points, initial_point_generator, acq_func, acq_optimizer, x0, y0, random_state, verbose, callback, n_points, n_restarts_optimizer, xi, kappa, n_jobs, model_queue_size, space_constraint)\u001b[0m\n\u001b[0;32m    330\u001b[0m \u001b[38;5;28;01mfor\u001b[39;00m _ \u001b[38;5;129;01min\u001b[39;00m \u001b[38;5;28mrange\u001b[39m(n_calls):\n\u001b[0;32m    331\u001b[0m     next_x \u001b[38;5;241m=\u001b[39m optimizer\u001b[38;5;241m.\u001b[39mask()\n\u001b[1;32m--> 332\u001b[0m     next_y \u001b[38;5;241m=\u001b[39m \u001b[43mfunc\u001b[49m\u001b[43m(\u001b[49m\u001b[43mnext_x\u001b[49m\u001b[43m)\u001b[49m\n\u001b[0;32m    333\u001b[0m     result \u001b[38;5;241m=\u001b[39m optimizer\u001b[38;5;241m.\u001b[39mtell(next_x, next_y)\n\u001b[0;32m    334\u001b[0m     result\u001b[38;5;241m.\u001b[39mspecs \u001b[38;5;241m=\u001b[39m specs\n",
      "Input \u001b[1;32mIn [48]\u001b[0m, in \u001b[0;36mobjective\u001b[1;34m(weights)\u001b[0m\n\u001b[0;32m      4\u001b[0m \u001b[38;5;28;01mdef\u001b[39;00m \u001b[38;5;21mobjective\u001b[39m(weights):\n\u001b[0;32m      5\u001b[0m     \u001b[38;5;66;03m# Combine predictions using the weights\u001b[39;00m\n\u001b[0;32m      6\u001b[0m     combined_pred \u001b[38;5;241m=\u001b[39m (weights[\u001b[38;5;241m0\u001b[39m] \u001b[38;5;241m*\u001b[39m train_data[\u001b[38;5;124m'\u001b[39m\u001b[38;5;124mPred_1_day\u001b[39m\u001b[38;5;124m'\u001b[39m] \u001b[38;5;241m+\u001b[39m\n\u001b[1;32m----> 7\u001b[0m                      weights[\u001b[38;5;241m1\u001b[39m] \u001b[38;5;241m*\u001b[39m \u001b[43mtrain_data\u001b[49m\u001b[43m[\u001b[49m\u001b[38;5;124;43m'\u001b[39;49m\u001b[38;5;124;43mPred_2_day\u001b[39;49m\u001b[38;5;124;43m'\u001b[39;49m\u001b[43m]\u001b[49m \u001b[38;5;241m+\u001b[39m\n\u001b[0;32m      8\u001b[0m                      weights[\u001b[38;5;241m2\u001b[39m] \u001b[38;5;241m*\u001b[39m train_data[\u001b[38;5;124m'\u001b[39m\u001b[38;5;124mPred_5_day\u001b[39m\u001b[38;5;124m'\u001b[39m] \u001b[38;5;241m+\u001b[39m\n\u001b[0;32m      9\u001b[0m                      weights[\u001b[38;5;241m3\u001b[39m] \u001b[38;5;241m*\u001b[39m train_data[\u001b[38;5;124m'\u001b[39m\u001b[38;5;124mPred_10_day\u001b[39m\u001b[38;5;124m'\u001b[39m] \u001b[38;5;241m+\u001b[39m\n\u001b[0;32m     10\u001b[0m                      weights[\u001b[38;5;241m4\u001b[39m] \u001b[38;5;241m*\u001b[39m train_data[\u001b[38;5;124m'\u001b[39m\u001b[38;5;124mPred_20_day\u001b[39m\u001b[38;5;124m'\u001b[39m] \u001b[38;5;241m+\u001b[39m\n\u001b[0;32m     11\u001b[0m                      weights[\u001b[38;5;241m5\u001b[39m] \u001b[38;5;241m*\u001b[39m train_data[\u001b[38;5;124m'\u001b[39m\u001b[38;5;124mPred_30_day\u001b[39m\u001b[38;5;124m'\u001b[39m])\n\u001b[0;32m     13\u001b[0m     \u001b[38;5;66;03m# Calculate the Sharpe ratio (or any other metric)\u001b[39;00m\n\u001b[0;32m     14\u001b[0m     returns \u001b[38;5;241m=\u001b[39m combined_pred\u001b[38;5;241m.\u001b[39mpct_change()\u001b[38;5;241m.\u001b[39mdropna()\n",
      "File \u001b[1;32mc:\\Users\\ryant\\AppData\\Local\\Programs\\Python\\Python39\\lib\\site-packages\\pandas\\core\\frame.py:3804\u001b[0m, in \u001b[0;36mDataFrame.__getitem__\u001b[1;34m(self, key)\u001b[0m\n\u001b[0;32m   3802\u001b[0m \u001b[38;5;28;01mif\u001b[39;00m \u001b[38;5;28mself\u001b[39m\u001b[38;5;241m.\u001b[39mcolumns\u001b[38;5;241m.\u001b[39mnlevels \u001b[38;5;241m>\u001b[39m \u001b[38;5;241m1\u001b[39m:\n\u001b[0;32m   3803\u001b[0m     \u001b[38;5;28;01mreturn\u001b[39;00m \u001b[38;5;28mself\u001b[39m\u001b[38;5;241m.\u001b[39m_getitem_multilevel(key)\n\u001b[1;32m-> 3804\u001b[0m indexer \u001b[38;5;241m=\u001b[39m \u001b[38;5;28;43mself\u001b[39;49m\u001b[38;5;241;43m.\u001b[39;49m\u001b[43mcolumns\u001b[49m\u001b[38;5;241;43m.\u001b[39;49m\u001b[43mget_loc\u001b[49m\u001b[43m(\u001b[49m\u001b[43mkey\u001b[49m\u001b[43m)\u001b[49m\n\u001b[0;32m   3805\u001b[0m \u001b[38;5;28;01mif\u001b[39;00m is_integer(indexer):\n\u001b[0;32m   3806\u001b[0m     indexer \u001b[38;5;241m=\u001b[39m [indexer]\n",
      "File \u001b[1;32mc:\\Users\\ryant\\AppData\\Local\\Programs\\Python\\Python39\\lib\\site-packages\\pandas\\core\\indexes\\base.py:3805\u001b[0m, in \u001b[0;36mIndex.get_loc\u001b[1;34m(self, key, method, tolerance)\u001b[0m\n\u001b[0;32m   3803\u001b[0m     \u001b[38;5;28;01mreturn\u001b[39;00m \u001b[38;5;28mself\u001b[39m\u001b[38;5;241m.\u001b[39m_engine\u001b[38;5;241m.\u001b[39mget_loc(casted_key)\n\u001b[0;32m   3804\u001b[0m \u001b[38;5;28;01mexcept\u001b[39;00m \u001b[38;5;167;01mKeyError\u001b[39;00m \u001b[38;5;28;01mas\u001b[39;00m err:\n\u001b[1;32m-> 3805\u001b[0m     \u001b[38;5;28;01mraise\u001b[39;00m \u001b[38;5;167;01mKeyError\u001b[39;00m(key) \u001b[38;5;28;01mfrom\u001b[39;00m \u001b[38;5;21;01merr\u001b[39;00m\n\u001b[0;32m   3806\u001b[0m \u001b[38;5;28;01mexcept\u001b[39;00m \u001b[38;5;167;01mTypeError\u001b[39;00m:\n\u001b[0;32m   3807\u001b[0m     \u001b[38;5;66;03m# If we have a listlike key, _check_indexing_error will raise\u001b[39;00m\n\u001b[0;32m   3808\u001b[0m     \u001b[38;5;66;03m#  InvalidIndexError. Otherwise we fall through and re-raise\u001b[39;00m\n\u001b[0;32m   3809\u001b[0m     \u001b[38;5;66;03m#  the TypeError.\u001b[39;00m\n\u001b[0;32m   3810\u001b[0m     \u001b[38;5;28mself\u001b[39m\u001b[38;5;241m.\u001b[39m_check_indexing_error(key)\n",
      "\u001b[1;31mKeyError\u001b[0m: 'Pred_2_day'"
     ]
    }
   ],
   "source": [
    "from skopt import gp_minimize\n",
    "\n",
    "# Define the objective function for weight optimization\n",
    "def objective(weights):\n",
    "    # Combine predictions using the weights\n",
    "    combined_pred = (weights[0] * train_data['Pred_1_day'] +\n",
    "                     weights[1] * train_data['Pred_2_day'] +\n",
    "                     weights[2] * train_data['Pred_5_day'] +\n",
    "                     weights[3] * train_data['Pred_10_day'] +\n",
    "                     weights[4] * train_data['Pred_20_day'] +\n",
    "                     weights[5] * train_data['Pred_30_day'])\n",
    "    \n",
    "    # Calculate the Sharpe ratio (or any other metric)\n",
    "    returns = combined_pred.pct_change().dropna()\n",
    "    sharpe_ratio = returns.mean() / returns.std()\n",
    "    return -sharpe_ratio  # Minimize the negative Sharpe ratio\n",
    "\n",
    "# Define the search space for weights\n",
    "weight_space = [(0, 1) for _ in range(6)]\n",
    "\n",
    "# Bayesian Optimization for weight optimization\n",
    "res = gp_minimize(objective, weight_space, n_calls=50, random_state=42)\n",
    "best_weights = res.x"
   ]
  },
  {
   "cell_type": "markdown",
   "metadata": {},
   "source": [
    "## ARIMA"
   ]
  },
  {
   "cell_type": "markdown",
   "metadata": {},
   "source": [
    "Preprocess Data"
   ]
  },
  {
   "cell_type": "code",
   "execution_count": 21,
   "metadata": {},
   "outputs": [
    {
     "name": "stdout",
     "output_type": "stream",
     "text": [
      "   timestamp     close       SMA       EMA        RSI      MACD  MACD_signal  \\\n",
      "0 2024-03-05  63724.01 -0.513488 -0.456481  77.822116  0.078483  1008.875495   \n",
      "1 2024-03-06  66074.04 -0.513488 -0.456481  77.822116  0.078483  1008.875495   \n",
      "2 2024-03-07  66823.17 -0.513488 -0.456481  77.822116  0.078483  1008.875495   \n",
      "3 2024-03-08  68124.19 -0.513488 -0.456481  77.822116  0.078483  1008.875495   \n",
      "4 2024-03-09  68313.27 -0.513488 -0.456481  77.822116  0.078483  1008.875495   \n",
      "\n",
      "    MACD_hist       OBV        MFI  ...    upper_band  middle_band  \\\n",
      "0 -145.010934  0.777210  80.743988  ...  74118.585226   66980.6605   \n",
      "1 -145.010934  1.141570  80.743988  ...  74118.585226   66980.6605   \n",
      "2 -145.010934  1.387102  80.743988  ...  74118.585226   66980.6605   \n",
      "3 -145.010934  1.730745  80.743988  ...  74118.585226   66980.6605   \n",
      "4 -145.010934  1.822706  80.743988  ...  74118.585226   66980.6605   \n",
      "\n",
      "     lower_band       BBW     lag_1     lag_2     lag_3     lag_4     lag_5  \\\n",
      "0  59842.735774  0.213134  68245.71  63113.97  61987.28  62387.90  61130.98   \n",
      "1  59842.735774  0.213134  63724.01  68245.71  63113.97  61987.28  62387.90   \n",
      "2  59842.735774  0.213134  66074.04  63724.01  68245.71  63113.97  61987.28   \n",
      "3  59842.735774  0.213134  66823.17  66074.04  63724.01  68245.71  63113.97   \n",
      "4  59842.735774  0.213134  68124.19  66823.17  66074.04  63724.01  68245.71   \n",
      "\n",
      "   weighted_avg  \n",
      "0  67308.422825  \n",
      "1  63443.534168  \n",
      "2  65474.008539  \n",
      "3  66281.575256  \n",
      "4  67405.367710  \n",
      "\n",
      "[5 rows x 21 columns]\n"
     ]
    }
   ],
   "source": [
    "# Create a new DataFrame with a clone of btc_data including the timestamp column\n",
    "arima_df = btc_data[['close', 'SMA', 'EMA', 'RSI', 'MACD', 'MACD_signal', 'MACD_hist', 'OBV', 'MFI', 'ATR', 'upper_band', 'middle_band', 'lower_band', 'BBW', 'lag_1', 'lag_2', 'lag_3', 'lag_4', 'lag_5', 'weighted_avg']].copy()\n",
    "arima_df.reset_index(inplace=True)\n",
    "print(arima_df.head())"
   ]
  },
  {
   "cell_type": "code",
   "execution_count": 22,
   "metadata": {},
   "outputs": [
    {
     "name": "stdout",
     "output_type": "stream",
     "text": [
      "ADF Statistic: -1.3102930665164187\n",
      "p-value: 0.6244501652162752\n",
      "The series is non-stationary.\n"
     ]
    },
    {
     "name": "stderr",
     "output_type": "stream",
     "text": [
      "C:\\Users\\ryant\\AppData\\Local\\Temp\\ipykernel_27940\\3696961266.py:11: FutureWarning: DataFrame.fillna with 'method' is deprecated and will raise in a future version. Use obj.ffill() or obj.bfill() instead.\n",
      "  arima_df = arima_df.fillna(method='ffill') # Forward fill missing values\n"
     ]
    }
   ],
   "source": [
    "import pandas as pd\n",
    "from statsmodels.tsa.stattools import adfuller\n",
    "from statsmodels.graphics.tsaplots import plot_acf, plot_pacf\n",
    "import numpy as np\n",
    "\n",
    "# Assuming 'data' is your DataFrame and 'date' is your timestamp column\n",
    "arima_df['timestamp'] = pd.to_datetime(arima_df['timestamp'])  # Ensure date column is datetime\n",
    "arima_df.set_index('timestamp', inplace=True)\n",
    "\n",
    "# Check for missing values and fill them if needed\n",
    "arima_df = arima_df.fillna(method='ffill') # Forward fill missing values\n",
    "\n",
    "# Perform Augmented Dickey-Fuller test for stationarity\n",
    "def adf_test(series):\n",
    "    result = adfuller(series)\n",
    "    print('ADF Statistic:', result[0])\n",
    "    print('p-value:', result[1])\n",
    "    if result[1] <= 0.05:\n",
    "        print(\"The series is stationary.\")\n",
    "    else:\n",
    "        print(\"The series is non-stationary.\")\n",
    "\n",
    "# Check stationarity on 'close' price\n",
    "adf_test(arima_df['close'])\n"
   ]
  },
  {
   "cell_type": "markdown",
   "metadata": {},
   "source": [
    "Difference the df to make it stationary"
   ]
  },
  {
   "cell_type": "code",
   "execution_count": 23,
   "metadata": {},
   "outputs": [
    {
     "name": "stdout",
     "output_type": "stream",
     "text": [
      "ADF Statistic: -20.611240059895128\n",
      "p-value: 0.0\n",
      "The series is stationary.\n"
     ]
    }
   ],
   "source": [
    "# First-order differencing to make the series stationary\n",
    "arima_df['close_diff'] = arima_df['close'] - arima_df['close'].shift(1)\n",
    "\n",
    "# Perform the ADF test again on the differenced series\n",
    "adf_test(arima_df['close_diff'].dropna())"
   ]
  },
  {
   "cell_type": "code",
   "execution_count": 24,
   "metadata": {},
   "outputs": [
    {
     "data": {
      "image/png": "[encoded data removed]",
      "text/plain": [
       "<Figure size 1000x600 with 2 Axes>"
      ]
     },
     "metadata": {},
     "output_type": "display_data"
    }
   ],
   "source": [
    "# Plot original data and differenced data\n",
    "plt.figure(figsize=(10, 6))\n",
    "plt.subplot(2, 1, 1)\n",
    "plt.plot(arima_df['close'])\n",
    "plt.title('Original Close Price')\n",
    "\n",
    "plt.subplot(2, 1, 2)\n",
    "plt.plot(arima_df['close_diff'])\n",
    "plt.title('Differenced Close Price')\n",
    "plt.tight_layout()\n",
    "plt.show()\n"
   ]
  },
  {
   "cell_type": "code",
   "execution_count": null,
   "metadata": {},
   "outputs": [
    {
     "name": "stdout",
     "output_type": "stream",
     "text": [
      "   index  timestamp     close       SMA       EMA        RSI      MACD  \\\n",
      "0      0 2024-03-05  63724.01 -0.513488 -0.456481  77.822116  0.078483   \n",
      "1      1 2024-03-06  66074.04 -0.513488 -0.456481  77.822116  0.078483   \n",
      "2      2 2024-03-07  66823.17 -0.513488 -0.456481  77.822116  0.078483   \n",
      "3      3 2024-03-08  68124.19 -0.513488 -0.456481  77.822116  0.078483   \n",
      "4      4 2024-03-09  68313.27 -0.513488 -0.456481  77.822116  0.078483   \n",
      "\n",
      "   MACD_signal   MACD_hist       OBV  ...  middle_band    lower_band  \\\n",
      "0  1008.875495 -145.010934  0.777210  ...   66980.6605  59842.735774   \n",
      "1  1008.875495 -145.010934  1.141570  ...   66980.6605  59842.735774   \n",
      "2  1008.875495 -145.010934  1.387102  ...   66980.6605  59842.735774   \n",
      "3  1008.875495 -145.010934  1.730745  ...   66980.6605  59842.735774   \n",
      "4  1008.875495 -145.010934  1.822706  ...   66980.6605  59842.735774   \n",
      "\n",
      "        BBW     lag_1     lag_2     lag_3     lag_4     lag_5  weighted_avg  \\\n",
      "0  0.213134  68245.71  63113.97  61987.28  62387.90  61130.98  67308.422825   \n",
      "1  0.213134  63724.01  68245.71  63113.97  61987.28  62387.90  63443.534168   \n",
      "2  0.213134  66074.04  63724.01  68245.71  63113.97  61987.28  65474.008539   \n",
      "3  0.213134  66823.17  66074.04  63724.01  68245.71  63113.97  66281.575256   \n",
      "4  0.213134  68124.19  66823.17  66074.04  63724.01  68245.71  67405.367710   \n",
      "\n",
      "   close_diff  \n",
      "0         NaN  \n",
      "1     2350.03  \n",
      "2      749.13  \n",
      "3     1301.02  \n",
      "4      189.08  \n",
      "\n",
      "[5 rows x 23 columns]\n"
     ]
    }
   ],
   "source": [
    "arima_df.reset_index(inplace=True)\n",
    "# drop index column\n",
    "\n",
    "print(arima_df.head())"
   ]
  },
  {
   "cell_type": "code",
   "execution_count": 27,
   "metadata": {},
   "outputs": [
    {
     "name": "stdout",
     "output_type": "stream",
     "text": [
      "   timestamp     close       SMA       EMA        RSI      MACD  MACD_signal  \\\n",
      "0 2024-03-05  63724.01 -0.513488 -0.456481  77.822116  0.078483  1008.875495   \n",
      "1 2024-03-06  66074.04 -0.513488 -0.456481  77.822116  0.078483  1008.875495   \n",
      "2 2024-03-07  66823.17 -0.513488 -0.456481  77.822116  0.078483  1008.875495   \n",
      "3 2024-03-08  68124.19 -0.513488 -0.456481  77.822116  0.078483  1008.875495   \n",
      "4 2024-03-09  68313.27 -0.513488 -0.456481  77.822116  0.078483  1008.875495   \n",
      "\n",
      "    MACD_hist       OBV        MFI  ...  middle_band    lower_band       BBW  \\\n",
      "0 -145.010934  0.777210  80.743988  ...   66980.6605  59842.735774  0.213134   \n",
      "1 -145.010934  1.141570  80.743988  ...   66980.6605  59842.735774  0.213134   \n",
      "2 -145.010934  1.387102  80.743988  ...   66980.6605  59842.735774  0.213134   \n",
      "3 -145.010934  1.730745  80.743988  ...   66980.6605  59842.735774  0.213134   \n",
      "4 -145.010934  1.822706  80.743988  ...   66980.6605  59842.735774  0.213134   \n",
      "\n",
      "      lag_1     lag_2     lag_3     lag_4     lag_5  weighted_avg  close_diff  \n",
      "0  68245.71  63113.97  61987.28  62387.90  61130.98  67308.422825         NaN  \n",
      "1  63724.01  68245.71  63113.97  61987.28  62387.90  63443.534168     2350.03  \n",
      "2  66074.04  63724.01  68245.71  63113.97  61987.28  65474.008539      749.13  \n",
      "3  66823.17  66074.04  63724.01  68245.71  63113.97  66281.575256     1301.02  \n",
      "4  68124.19  66823.17  66074.04  63724.01  68245.71  67405.367710      189.08  \n",
      "\n",
      "[5 rows x 22 columns]\n"
     ]
    }
   ],
   "source": [
    "arima_df.drop(columns=['index'], inplace=True)\n",
    "print(arima_df.head())"
   ]
  },
  {
   "cell_type": "code",
   "execution_count": 28,
   "metadata": {},
   "outputs": [
    {
     "data": {
      "image/png": "[encoded data removed]",
      "text/plain": [
       "<Figure size 640x480 with 1 Axes>"
      ]
     },
     "metadata": {},
     "output_type": "display_data"
    },
    {
     "data": {
      "image/png": "[encoded data removed]",
      "text/plain": [
       "<Figure size 640x480 with 1 Axes>"
      ]
     },
     "metadata": {},
     "output_type": "display_data"
    }
   ],
   "source": [
    "# Plot ACF and PACF for determining p and q\n",
    "plot_acf(arima_df['close_diff'].dropna())  # ACF plot\n",
    "plot_pacf(arima_df['close_diff'].dropna())  # PACF plot\n",
    "plt.show()\n"
   ]
  },
  {
   "cell_type": "code",
   "execution_count": 29,
   "metadata": {},
   "outputs": [
    {
     "name": "stdout",
     "output_type": "stream",
     "text": [
      "                               SARIMAX Results                                \n",
      "==============================================================================\n",
      "Dep. Variable:                  close   No. Observations:                  380\n",
      "Model:                 ARIMA(1, 1, 1)   Log Likelihood               -3426.834\n",
      "Date:                Thu, 20 Mar 2025   AIC                           6859.668\n",
      "Time:                        00:31:07   BIC                           6871.480\n",
      "Sample:                             0   HQIC                          6864.356\n",
      "                                - 380                                         \n",
      "Covariance Type:                  opg                                         \n",
      "==============================================================================\n",
      "                 coef    std err          z      P>|z|      [0.025      0.975]\n",
      "------------------------------------------------------------------------------\n",
      "ar.L1          0.7085      1.311      0.540      0.589      -1.861       3.278\n",
      "ma.L1         -0.7008      1.320     -0.531      0.595      -3.288       1.886\n",
      "sigma2      4.184e+06   2.15e+05     19.474      0.000    3.76e+06    4.61e+06\n",
      "===================================================================================\n",
      "Ljung-Box (L1) (Q):                   1.77   Jarque-Bera (JB):                70.08\n",
      "Prob(Q):                              0.18   Prob(JB):                         0.00\n",
      "Heteroskedasticity (H):               1.82   Skew:                             0.21\n",
      "Prob(H) (two-sided):                  0.00   Kurtosis:                         5.06\n",
      "===================================================================================\n",
      "\n",
      "Warnings:\n",
      "[1] Covariance matrix calculated using the outer product of gradients (complex-step).\n"
     ]
    }
   ],
   "source": [
    "from statsmodels.tsa.arima.model import ARIMA\n",
    "import pmdarima as pm\n",
    "\n",
    "# Fit ARIMA model (p=1, d=1, q=1)\n",
    "model = ARIMA(arima_df['close'], order=(1, 1, 1))  # (p, d, q)\n",
    "fitted_model = model.fit()\n",
    "\n",
    "# Print model summary\n",
    "print(fitted_model.summary())"
   ]
  },
  {
   "cell_type": "code",
   "execution_count": 30,
   "metadata": {},
   "outputs": [
    {
     "data": {
      "image/png": "[encoded data removed]",
      "text/plain": [
       "<Figure size 640x480 with 1 Axes>"
      ]
     },
     "metadata": {},
     "output_type": "display_data"
    }
   ],
   "source": [
    "# Plot the forecasted values along with the original series\n",
    "plt.plot(arima_df['close'], label='Original')\n",
    "plt.plot(fitted_model.fittedvalues, color='red', label='Fitted')\n",
    "plt.legend()\n",
    "plt.title(\"ARIMA Model - Fitted vs Original\")\n",
    "plt.show()\n"
   ]
  },
  {
   "cell_type": "code",
   "execution_count": 31,
   "metadata": {},
   "outputs": [
    {
     "name": "stdout",
     "output_type": "stream",
     "text": [
      "380    84700.285519\n",
      "381    84708.217584\n",
      "382    84713.837480\n",
      "383    84717.819195\n",
      "384    84720.640255\n",
      "385    84722.638985\n",
      "386    84724.055093\n",
      "387    84725.058410\n",
      "388    84725.769264\n",
      "389    84726.272906\n",
      "Name: predicted_mean, dtype: float64\n"
     ]
    }
   ],
   "source": [
    "# Forecast the next 10 periods (e.g., days)\n",
    "forecast = fitted_model.forecast(steps=10)\n",
    "\n",
    "# Print the forecasted values\n",
    "print(forecast)\n"
   ]
  },
  {
   "cell_type": "markdown",
   "metadata": {},
   "source": [
    "### Evaluation"
   ]
  },
  {
   "cell_type": "code",
   "execution_count": null,
   "metadata": {},
   "outputs": [],
   "source": [
    "# Buy & Hold strategy\n",
    "test_data['Buy_Hold_Returns'] = test_data['Close'].pct_change()\n",
    "test_data['Cumulative_Buy_Hold_Returns'] = (1 + test_data['Buy_Hold_Returns']).cumprod()\n",
    "\n",
    "# Plot the results\n",
    "import matplotlib.pyplot as plt\n",
    "\n",
    "plt.figure(figsize=(10, 6))\n",
    "plt.plot(test_data['Cumulative_Strategy_Returns'], label='Trading Strategy')\n",
    "plt.plot(test_data['Cumulative_Buy_Hold_Returns'], label='Buy & Hold')\n",
    "plt.legend()\n",
    "plt.show()"
   ]
  }
 ],
 "metadata": {
  "kernelspec": {
   "display_name": "Python 3",
   "language": "python",
   "name": "python3"
  },
  "language_info": {
   "codemirror_mode": {
    "name": "ipython",
    "version": 3
   },
   "file_extension": ".py",
   "mimetype": "text/x-python",
   "name": "python",
   "nbconvert_exporter": "python",
   "pygments_lexer": "ipython3",
   "version": "3.9.0"
  }
 },
 "nbformat": 4,
 "nbformat_minor": 2
}
