{
 "cells": [
  {
   "cell_type": "code",
   "execution_count": 1,
   "metadata": {},
   "outputs": [
    {
     "ename": "ModuleNotFoundError",
     "evalue": "No module named 'optuna'",
     "output_type": "error",
     "traceback": [
      "\u001b[0;31m---------------------------------------------------------------------------\u001b[0m",
      "\u001b[0;31mModuleNotFoundError\u001b[0m                       Traceback (most recent call last)",
      "Cell \u001b[0;32mIn[1], line 5\u001b[0m\n\u001b[1;32m      3\u001b[0m \u001b[39mimport\u001b[39;00m\u001b[39m \u001b[39m\u001b[39msys\u001b[39;00m\n\u001b[1;32m      4\u001b[0m \u001b[39mimport\u001b[39;00m\u001b[39m \u001b[39m\u001b[39mos\u001b[39;00m\n\u001b[0;32m----> 5\u001b[0m \u001b[39mimport\u001b[39;00m\u001b[39m \u001b[39m\u001b[39mxgboost_model\u001b[39;00m\n\u001b[1;32m      7\u001b[0m \u001b[39m# Data Loading\u001b[39;00m\n\u001b[1;32m      8\u001b[0m \u001b[39mimport\u001b[39;00m\u001b[39m \u001b[39m\u001b[39mccxt\u001b[39;00m\n",
      "File \u001b[0;32m~/repos/CryptoMine/xgboost_model.py:14\u001b[0m\n\u001b[1;32m     12\u001b[0m \u001b[39mimport\u001b[39;00m\u001b[39m \u001b[39m\u001b[39mnumpy\u001b[39;00m\u001b[39m \u001b[39m\u001b[39mas\u001b[39;00m\u001b[39m \u001b[39m\u001b[39mnp\u001b[39;00m\n\u001b[1;32m     13\u001b[0m \u001b[39mimport\u001b[39;00m\u001b[39m \u001b[39m\u001b[39mmatplotlib\u001b[39;00m\u001b[39m.\u001b[39;00m\u001b[39mpyplot\u001b[39;00m\u001b[39m \u001b[39m\u001b[39mas\u001b[39;00m\u001b[39m \u001b[39m\u001b[39mplt\u001b[39;00m\n\u001b[0;32m---> 14\u001b[0m \u001b[39mimport\u001b[39;00m\u001b[39m \u001b[39m\u001b[39moptuna\u001b[39;00m\n\u001b[1;32m     15\u001b[0m \u001b[39mimport\u001b[39;00m\u001b[39m \u001b[39m\u001b[39mpandas\u001b[39;00m\u001b[39m \u001b[39m\u001b[39mas\u001b[39;00m\u001b[39m \u001b[39m\u001b[39mpd\u001b[39;00m\n\u001b[1;32m     18\u001b[0m \u001b[39mdef\u001b[39;00m\u001b[39m \u001b[39m\u001b[39mrandom_search\u001b[39m(X_train, X_val, X_test, y_train, y_val, y_test, target_var):\n\u001b[1;32m     19\u001b[0m     \u001b[39m# Combine train + val for final training later\u001b[39;00m\n",
      "\u001b[0;31mModuleNotFoundError\u001b[0m: No module named 'optuna'"
     ]
    }
   ],
   "source": [
    "import pandas as pd\n",
    "import numpy as np\n",
    "import sys\n",
    "import os\n",
    "import xgboost_model\n",
    "\n",
    "# Data Loading\n",
    "import ccxt\n",
    "import pandas as pd\n",
    "\n",
    "import portfolio\n",
    "\n",
    "# Technical Indicators \n",
    "from datetime import datetime, timedelta\n",
    "from ta.trend import SMAIndicator, EMAIndicator, MACD\n",
    "from ta.momentum import RSIIndicator\n",
    "from ta.volatility import BollingerBands, AverageTrueRange\n",
    "from ta.volume import OnBalanceVolumeIndicator, VolumeWeightedAveragePrice, money_flow_index\n",
    "import numpy as np\n",
    "from sklearn.linear_model import LinearRegression\n",
    "from statsmodels.graphics.tsaplots import plot_pacf\n",
    "from sklearn.preprocessing import StandardScaler\n",
    "\n",
    "# MODULE : MODEL LIBRARIES\n",
    "# all libraries\n",
    "from sklearn.model_selection import RandomizedSearchCV\n",
    "from scipy.stats import uniform, randint\n",
    "from xgboost import XGBRegressor\n",
    "from sklearn.preprocessing import RobustScaler, StandardScaler\n",
    "from sklearn.model_selection import KFold, TimeSeriesSplit, GridSearchCV, cross_val_score\n",
    "from sklearn.metrics import mean_squared_error, mean_absolute_error, r2_score\n",
    "from sklearn.linear_model import Lasso, ElasticNet\n",
    "from sklearn.feature_selection import VarianceThreshold\n",
    "from skopt import BayesSearchCV, gp_minimize\n",
    "from skopt.utils import use_named_args\n",
    "from skopt.plots import plot_convergence\n",
    "from skopt.space import Real, Integer\n",
    "import numpy as np\n",
    "\n",
    "# Plotting Libraries\n",
    "import seaborn as sns\n",
    "import matplotlib.pyplot as plt"
   ]
  },
  {
   "cell_type": "code",
   "execution_count": 2,
   "metadata": {},
   "outputs": [],
   "source": [
    "curr_dir = os.getcwd()\n",
    "file_path = os.path.join(curr_dir, \"data/processed_1.csv\")\n",
    "btc_data = pd.read_csv(file_path)"
   ]
  },
  {
   "cell_type": "code",
   "execution_count": 4,
   "metadata": {},
   "outputs": [
    {
     "name": "stdout",
     "output_type": "stream",
     "text": [
      "15147\n",
      "15114\n"
     ]
    }
   ],
   "source": [
    "print(btc_data.size)"
   ]
  },
  {
   "cell_type": "code",
   "execution_count": null,
   "metadata": {},
   "outputs": [],
   "source": [
    "print(btc_data.columns)"
   ]
  },
  {
   "cell_type": "code",
   "execution_count": null,
   "metadata": {},
   "outputs": [],
   "source": [
    "data = btc_data\n",
    "\n",
    "data['timestamp'] = pd.to_datetime(data['timestamp'])\n",
    "# Features and target\n",
    "features = ['timestamp', 'open', 'high', 'low', 'close', 'volume', 'SMA_5',\n",
    "       'SMA_10', 'SMA_15', 'EMA_9', 'RSI', 'MACD', 'OBV', 'MFI_10', 'ATR_14',\n",
    "       'upper_band', 'lower_band', 'daily_momentum', 'rolling_mean_3',\n",
    "       'rolling_std_3', 'close_lag_1', 'close_lag_2']\n",
    "targets = ['close_1_ahead', 'close_2_ahead', 'close_5_ahead', 'close_7_ahead', 'close_10_ahead', 'close_15_ahead', 'close_20_ahead', 'close_30_ahead', 'return_1']\n",
    "\n",
    "#define date range correctly\n",
    "train_end_date = pd.to_datetime('2025-01-01') \n",
    "val_end_date = pd.to_datetime('2025-02-28')\n",
    "test_end_date = pd.to_datetime('2025-03-01')\n",
    "\n",
    "# Split the data\n",
    "train_data = data[data['timestamp'] < train_end_date]\n",
    "val_data = data[(data['timestamp'] >= train_end_date) & (data['timestamp'] <= val_end_date)]\n",
    "test_data = data[(data['timestamp'] >= val_end_date)]\n",
    "\n",
    "\n",
    "\n",
    "# Split into X & y \n",
    "X_train = train_data[features].drop(columns = ['timestamp'])\n",
    "X_val = val_data[features].drop(columns = ['timestamp'])\n",
    "X_test = test_data[features].drop(columns = ['timestamp'])\n",
    "\n",
    "\n",
    "y_train = train_data[targets]\n",
    "y_val = val_data[targets]\n",
    "y_test = test_data[targets]\n",
    "\n",
    "print(f\"X_train size: {X_train.shape}\")\n",
    "print(f\"X_val size: {X_val.shape}\")\n",
    "print(f\"X_test size: {X_test.shape}\")\n",
    "print(f\"y_train size: {y_train.shape}\")\n",
    "print(f\"y_val size: {y_val.shape}\")\n",
    "print(f\"y_test size: {y_test.shape}\")"
   ]
  },
  {
   "cell_type": "code",
   "execution_count": null,
   "metadata": {},
   "outputs": [],
   "source": [
    "print(data.head())"
   ]
  },
  {
   "cell_type": "code",
   "execution_count": null,
   "metadata": {},
   "outputs": [],
   "source": [
    "final_model_1, y_train_pred_1, y_val_pred_1, y_test_pred_1 = xgboost_model.bayes_xg_boost(X_train, X_val, X_test, y_train, y_val, y_test,'close_1_ahead')\n",
    "final_model_2, y_train_pred_2, y_val_pred_2, y_test_pred_2 = xgboost_model.bayes_xg_boost(X_train, X_val, X_test, y_train, y_val, y_test, 'close_2_ahead')\n",
    "final_model_5, y_train_pred_5, y_val_pred_5, y_test_pred_5 = xgboost_model.bayes_xg_boost(X_train, X_val, X_test, y_train, y_val, y_test, 'close_5_ahead')\n",
    "final_model_10, y_train_pred_10, y_val_pred_10, y_test_pred_10 = xgboost_model.bayes_xg_boost(X_train, X_val, X_test, y_train, y_val, y_test, 'close_10_ahead')\n",
    "final_model_20, y_train_pred_20, y_val_pred_20, y_test_pred_20 = xgboost_model.bayes_xg_boost(X_train, X_val, X_test, y_train, y_val, y_test, 'close_20_ahead')\n",
    "final_model_30, y_train_pred_30, y_val_pred_30, y_test_pred_30 = xgboost_model.bayes_xg_boost(X_train, X_val, X_test, y_train, y_val, y_test, 'close_30_ahead')\n",
    "\n",
    "prediction = final_model_30.predict()"
   ]
  },
  {
   "cell_type": "code",
   "execution_count": null,
   "metadata": {},
   "outputs": [],
   "source": [
    "portfolio = portfolio.Portfolio()\n"
   ]
  }
 ],
 "metadata": {
  "kernelspec": {
   "display_name": "Python 3",
   "language": "python",
   "name": "python3"
  },
  "language_info": {
   "codemirror_mode": {
    "name": "ipython",
    "version": 3
   },
   "file_extension": ".py",
   "mimetype": "text/x-python",
   "name": "python",
   "nbconvert_exporter": "python",
   "pygments_lexer": "ipython3",
   "version": "3.13.2"
  },
  "orig_nbformat": 4
 },
 "nbformat": 4,
 "nbformat_minor": 2
}
