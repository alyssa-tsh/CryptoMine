{
 "cells": [
  {
   "cell_type": "code",
   "execution_count": 16,
   "metadata": {},
   "outputs": [],
   "source": [
    "import pandas as pd\n",
    "import numpy as np\n",
    "import sys\n",
    "import os\n",
    "import xgboost_model\n",
    "\n",
    "# Data Loading\n",
    "import ccxt\n",
    "import pandas as pd\n",
    "\n",
    "import portfolio\n",
    "\n",
    "# Technical Indicators \n",
    "from datetime import datetime, timedelta\n",
    "from ta.trend import SMAIndicator, EMAIndicator, MACD\n",
    "from ta.momentum import RSIIndicator\n",
    "from ta.volatility import BollingerBands, AverageTrueRange\n",
    "from ta.volume import OnBalanceVolumeIndicator, VolumeWeightedAveragePrice, money_flow_index\n",
    "import numpy as np\n",
    "from sklearn.linear_model import LinearRegression\n",
    "from statsmodels.graphics.tsaplots import plot_pacf\n",
    "from sklearn.preprocessing import StandardScaler\n",
    "\n",
    "# MODULE : MODEL LIBRARIES\n",
    "# all libraries\n",
    "from sklearn.model_selection import RandomizedSearchCV\n",
    "from scipy.stats import uniform, randint\n",
    "from xgboost import XGBRegressor\n",
    "from sklearn.preprocessing import RobustScaler, StandardScaler\n",
    "from sklearn.model_selection import KFold, TimeSeriesSplit, GridSearchCV, cross_val_score\n",
    "from sklearn.metrics import mean_squared_error, mean_absolute_error, r2_score\n",
    "from sklearn.linear_model import Lasso, ElasticNet\n",
    "from sklearn.feature_selection import VarianceThreshold\n",
    "from skopt import BayesSearchCV, gp_minimize\n",
    "from skopt.utils import use_named_args\n",
    "from skopt.plots import plot_convergence\n",
    "from skopt.space import Real, Integer\n",
    "import numpy as np\n",
    "\n",
    "# Plotting Libraries\n",
    "import seaborn as sns\n",
    "import matplotlib.pyplot as plt"
   ]
  },
  {
   "cell_type": "code",
   "execution_count": 2,
   "metadata": {},
   "outputs": [],
   "source": [
    "curr_dir = os.getcwd()\n",
    "file_path = os.path.join(curr_dir, \"data/processed.csv\")\n",
    "btc_data = pd.read_csv(file_path)"
   ]
  },
  {
   "cell_type": "code",
   "execution_count": 11,
   "metadata": {},
   "outputs": [
    {
     "name": "stdout",
     "output_type": "stream",
     "text": [
      "   Unnamed: 0  timestamp      open      high       low     close       volume  \\\n",
      "0           0 2024-01-01  42283.58  44184.10  42180.77  44179.55  27174.29903   \n",
      "1           1 2024-01-02  44179.55  45879.63  44148.34  44946.91  65146.40661   \n",
      "2           2 2024-01-03  44946.91  45500.00  40750.00  42845.23  81194.55173   \n",
      "3           3 2024-01-04  42845.23  44729.58  42613.77  44151.10  48038.06334   \n",
      "4           4 2024-01-05  44151.10  44357.46  42450.00  44145.11  48075.25327   \n",
      "\n",
      "      SMA_5     SMA_10        SMA_15  ...  close_1_ahead  close_2_ahead  \\\n",
      "0  44053.58  44788.027  44272.906667  ...       44946.91       42845.23   \n",
      "1  44053.58  44788.027  44272.906667  ...       42845.23       44151.10   \n",
      "2  44053.58  44788.027  44272.906667  ...       44151.10       44145.11   \n",
      "3  44053.58  44788.027  44272.906667  ...       44145.11       43968.32   \n",
      "4  44053.58  44788.027  44272.906667  ...       43968.32       43929.02   \n",
      "\n",
      "   close_5_ahead  close_7_ahead  close_10_ahead  close_15_ahead  \\\n",
      "0       43968.32       46951.04        46339.16        43137.95   \n",
      "1       43929.02       46110.00        42782.73        42776.10   \n",
      "2       46951.04       46653.99        42847.99        41327.50   \n",
      "3       46110.00       46339.16        41732.35        41659.03   \n",
      "4       46653.99       42782.73        42511.10        41696.04   \n",
      "\n",
      "   close_20_ahead  close_30_ahead  log_return  return_1  \n",
      "0        41580.33        42580.00    0.017220  0.017369  \n",
      "1        39568.02        43082.94    0.017220 -0.046759  \n",
      "2        39897.60        43200.00   -0.047888  0.030479  \n",
      "3        40084.88        43011.09    0.030024 -0.000136  \n",
      "4        39961.09        42582.88   -0.000136 -0.004005  \n",
      "\n",
      "[5 rows x 33 columns]\n",
      "Index(['Unnamed: 0', 'timestamp', 'open', 'high', 'low', 'close', 'volume',\n",
      "       'SMA_5', 'SMA_10', 'SMA_15', 'EMA_9', 'RSI', 'MACD', 'OBV', 'MFI_10',\n",
      "       'ATR_14', 'upper_band', 'lower_band', 'daily_momentum',\n",
      "       'rolling_mean_3', 'rolling_std_3', 'close_lag_1', 'close_lag_2',\n",
      "       'close_1_ahead', 'close_2_ahead', 'close_5_ahead', 'close_7_ahead',\n",
      "       'close_10_ahead', 'close_15_ahead', 'close_20_ahead', 'close_30_ahead',\n",
      "       'log_return', 'return_1'],\n",
      "      dtype='object')\n"
     ]
    }
   ],
   "source": [
    "print(btc_data.head())"
   ]
  },
  {
   "cell_type": "code",
   "execution_count": 12,
   "metadata": {},
   "outputs": [
    {
     "name": "stdout",
     "output_type": "stream",
     "text": [
      "Index(['Unnamed: 0', 'timestamp', 'open', 'high', 'low', 'close', 'volume',\n",
      "       'SMA_5', 'SMA_10', 'SMA_15', 'EMA_9', 'RSI', 'MACD', 'OBV', 'MFI_10',\n",
      "       'ATR_14', 'upper_band', 'lower_band', 'daily_momentum',\n",
      "       'rolling_mean_3', 'rolling_std_3', 'close_lag_1', 'close_lag_2',\n",
      "       'close_1_ahead', 'close_2_ahead', 'close_5_ahead', 'close_7_ahead',\n",
      "       'close_10_ahead', 'close_15_ahead', 'close_20_ahead', 'close_30_ahead',\n",
      "       'log_return', 'return_1'],\n",
      "      dtype='object')\n"
     ]
    }
   ],
   "source": [
    "print(btc_data.columns)"
   ]
  },
  {
   "cell_type": "code",
   "execution_count": 6,
   "metadata": {},
   "outputs": [],
   "source": [
    "data = btc_data\n",
    "\n",
    "data['timestamp'] = pd.to_datetime(data['timestamp'])\n",
    "# Features and target\n",
    "features = ['timestamp', 'open', 'high', 'low', 'close', 'volume', 'SMA_5',\n",
    "       'SMA_10', 'SMA_15', 'EMA_9', 'RSI', 'MACD', 'OBV', 'MFI_10', 'ATR_14',\n",
    "       'upper_band', 'lower_band', 'daily_momentum', 'rolling_mean_3',\n",
    "       'rolling_std_3', 'close_lag_1', 'close_lag_2']\n",
    "targets = ['close_1_ahead', 'close_2_ahead', 'close_5_ahead', 'close_7_ahead', 'close_10_ahead', 'close_15_ahead', 'close_20_ahead', 'close_30_ahead', 'return_1']\n",
    "\n",
    "#define date range correctly\n",
    "train_end_date = pd.to_datetime('2025-01-01') \n",
    "val_end_date = pd.to_datetime('2025-02-28')\n",
    "test_end_date = pd.to_datetime('2025-03-01')\n",
    "\n",
    "# Split the data\n",
    "train_data = data[data['timestamp'] < train_end_date]\n",
    "val_data = data[(data['timestamp'] >= train_end_date) & (data['timestamp'] <= val_end_date)]\n",
    "test_data = data[(data['timestamp'] >= val_end_date)]\n",
    "\n",
    "\n",
    "\n",
    "# Split into X & y \n",
    "X_train = train_data[features].drop(columns = ['timestamp'])\n",
    "X_val = val_data[features].drop(columns = ['timestamp'])\n",
    "X_test = test_data[features].drop(columns = ['timestamp'])\n",
    "\n",
    "\n",
    "y_train = train_data[targets]\n",
    "y_val = val_data[targets]\n",
    "y_test = test_data[targets]\n"
   ]
  },
  {
   "cell_type": "code",
   "execution_count": 7,
   "metadata": {},
   "outputs": [
    {
     "name": "stdout",
     "output_type": "stream",
     "text": [
      "   Unnamed: 0  timestamp      open      high       low     close       volume  \\\n",
      "0           0 2024-01-01  42283.58  44184.10  42180.77  44179.55  27174.29903   \n",
      "1           1 2024-01-02  44179.55  45879.63  44148.34  44946.91  65146.40661   \n",
      "2           2 2024-01-03  44946.91  45500.00  40750.00  42845.23  81194.55173   \n",
      "3           3 2024-01-04  42845.23  44729.58  42613.77  44151.10  48038.06334   \n",
      "4           4 2024-01-05  44151.10  44357.46  42450.00  44145.11  48075.25327   \n",
      "\n",
      "      SMA_5     SMA_10        SMA_15  ...  close_1_ahead  close_2_ahead  \\\n",
      "0  44053.58  44788.027  44272.906667  ...       44946.91       42845.23   \n",
      "1  44053.58  44788.027  44272.906667  ...       42845.23       44151.10   \n",
      "2  44053.58  44788.027  44272.906667  ...       44151.10       44145.11   \n",
      "3  44053.58  44788.027  44272.906667  ...       44145.11       43968.32   \n",
      "4  44053.58  44788.027  44272.906667  ...       43968.32       43929.02   \n",
      "\n",
      "   close_5_ahead  close_7_ahead  close_10_ahead  close_15_ahead  \\\n",
      "0       43968.32       46951.04        46339.16        43137.95   \n",
      "1       43929.02       46110.00        42782.73        42776.10   \n",
      "2       46951.04       46653.99        42847.99        41327.50   \n",
      "3       46110.00       46339.16        41732.35        41659.03   \n",
      "4       46653.99       42782.73        42511.10        41696.04   \n",
      "\n",
      "   close_20_ahead  close_30_ahead  log_return  return_1  \n",
      "0        41580.33        42580.00    0.017220  0.017369  \n",
      "1        39568.02        43082.94    0.017220 -0.046759  \n",
      "2        39897.60        43200.00   -0.047888  0.030479  \n",
      "3        40084.88        43011.09    0.030024 -0.000136  \n",
      "4        39961.09        42582.88   -0.000136 -0.004005  \n",
      "\n",
      "[5 rows x 33 columns]\n"
     ]
    }
   ],
   "source": [
    "print(data.head())"
   ]
  },
  {
   "cell_type": "code",
   "execution_count": 17,
   "metadata": {},
   "outputs": [
    {
     "name": "stdout",
     "output_type": "stream",
     "text": [
      "=== Phase 1: Feature Selection ===\n",
      "Index(['open', 'high', 'low', 'close', 'volume', 'SMA_5', 'SMA_10', 'SMA_15',\n",
      "       'EMA_9', 'RSI', 'MACD', 'OBV', 'MFI_10', 'ATR_14', 'upper_band',\n",
      "       'lower_band', 'daily_momentum', 'rolling_mean_3', 'rolling_std_3',\n",
      "       'close_lag_1', 'close_lag_2'],\n",
      "      dtype='object')\n",
      "Removed 0 low-variance features\n",
      "Feature importances:\n",
      "close             0.376984\n",
      "open              0.323589\n",
      "SMA_10            0.151338\n",
      "SMA_15            0.065753\n",
      "high              0.056762\n",
      "low               0.008072\n",
      "close_lag_2       0.003709\n",
      "rolling_mean_3    0.002624\n",
      "upper_band        0.002280\n",
      "SMA_5             0.001148\n",
      "daily_momentum    0.001110\n",
      "MACD              0.001043\n",
      "OBV               0.001019\n",
      "rolling_std_3     0.000841\n",
      "RSI               0.000737\n",
      "volume            0.000697\n",
      "EMA_9             0.000611\n",
      "MFI_10            0.000580\n",
      "ATR_14            0.000579\n",
      "lower_band        0.000418\n",
      "close_lag_1       0.000107\n",
      "dtype: float32\n"
     ]
    },
    {
     "data": {
      "image/png": "[encoded data removed]",
      "text/plain": [
       "<Figure size 640x480 with 1 Axes>"
      ]
     },
     "metadata": {},
     "output_type": "display_data"
    },
    {
     "name": "stdout",
     "output_type": "stream",
     "text": [
      "\n",
      "Selected 10 features:\n",
      "['close', 'open', 'SMA_10', 'SMA_15', 'high', 'low', 'close_lag_2', 'rolling_mean_3', 'upper_band', 'SMA_5']\n",
      "\n",
      "=== Phase 2: Hyperparameter Optimization ===\n"
     ]
    },
    {
     "ename": "ValueError",
     "evalue": "Found input variables with inconsistent numbers of samples: [59, 34]",
     "output_type": "error",
     "traceback": [
      "\u001b[0;31m---------------------------------------------------------------------------\u001b[0m",
      "\u001b[0;31mValueError\u001b[0m                                Traceback (most recent call last)",
      "Cell \u001b[0;32mIn[17], line 1\u001b[0m\n\u001b[0;32m----> 1\u001b[0m final_model_1, y_train_pred_1, y_val_pred_1, y_test_pred_1 \u001b[39m=\u001b[39m xgboost_model\u001b[39m.\u001b[39;49mbayes_xg_boost(X_train, X_val, X_test, y_train, y_val, y_test,\u001b[39m'\u001b[39;49m\u001b[39mclose_1_ahead\u001b[39;49m\u001b[39m'\u001b[39;49m)\n\u001b[1;32m      2\u001b[0m final_model_2, y_train_pred_2, y_val_pred_2, y_test_pred_2 \u001b[39m=\u001b[39m xgboost_model\u001b[39m.\u001b[39mbayes_xg_boost(X_train, X_val, X_test, y_train, y_val, y_test, \u001b[39m'\u001b[39m\u001b[39mclose_2_ahead\u001b[39m\u001b[39m'\u001b[39m)\n\u001b[1;32m      3\u001b[0m final_model_5, y_train_pred_5, y_val_pred_5, y_test_pred_5 \u001b[39m=\u001b[39m xgboost_model\u001b[39m.\u001b[39mbayes_xg_boost(X_train, X_val, X_test, y_train, y_val, y_test, \u001b[39m'\u001b[39m\u001b[39mclose_5_ahead\u001b[39m\u001b[39m'\u001b[39m)\n",
      "File \u001b[0;32m~/repos/CryptoMine/xgboost_model.py:188\u001b[0m, in \u001b[0;36mbayes_xg_boost\u001b[0;34m(X_train, X_test, X_val, y_train, y_val, y_test, target_var)\u001b[0m\n\u001b[1;32m    186\u001b[0m best_params_bayescv \u001b[39m=\u001b[39m opt\u001b[39m.\u001b[39mbest_params_\n\u001b[1;32m    187\u001b[0m y_test_predcv \u001b[39m=\u001b[39m opt\u001b[39m.\u001b[39mpredict(X_val_selected)\n\u001b[0;32m--> 188\u001b[0m mse_bayescv \u001b[39m=\u001b[39m mean_squared_error(y_val[target_var], y_test_predcv)\n\u001b[1;32m    189\u001b[0m \u001b[39mprint\u001b[39m(\u001b[39mf\u001b[39m\u001b[39m\"\u001b[39m\u001b[39mPrediction MSE (BayesSearchCV): \u001b[39m\u001b[39m{\u001b[39;00mmse_bayescv\u001b[39m}\u001b[39;00m\u001b[39m\"\u001b[39m)\n\u001b[1;32m    191\u001b[0m \u001b[39m# Step 2: Optimize hyperparameters using Optuna\u001b[39;00m\n",
      "File \u001b[0;32m/Library/Frameworks/Python.framework/Versions/3.13/lib/python3.13/site-packages/sklearn/utils/_param_validation.py:216\u001b[0m, in \u001b[0;36mvalidate_params.<locals>.decorator.<locals>.wrapper\u001b[0;34m(*args, **kwargs)\u001b[0m\n\u001b[1;32m    210\u001b[0m \u001b[39mtry\u001b[39;00m:\n\u001b[1;32m    211\u001b[0m     \u001b[39mwith\u001b[39;00m config_context(\n\u001b[1;32m    212\u001b[0m         skip_parameter_validation\u001b[39m=\u001b[39m(\n\u001b[1;32m    213\u001b[0m             prefer_skip_nested_validation \u001b[39mor\u001b[39;00m global_skip_validation\n\u001b[1;32m    214\u001b[0m         )\n\u001b[1;32m    215\u001b[0m     ):\n\u001b[0;32m--> 216\u001b[0m         \u001b[39mreturn\u001b[39;00m func(\u001b[39m*\u001b[39;49margs, \u001b[39m*\u001b[39;49m\u001b[39m*\u001b[39;49mkwargs)\n\u001b[1;32m    217\u001b[0m \u001b[39mexcept\u001b[39;00m InvalidParameterError \u001b[39mas\u001b[39;00m e:\n\u001b[1;32m    218\u001b[0m     \u001b[39m# When the function is just a wrapper around an estimator, we allow\u001b[39;00m\n\u001b[1;32m    219\u001b[0m     \u001b[39m# the function to delegate validation to the estimator, but we replace\u001b[39;00m\n\u001b[1;32m    220\u001b[0m     \u001b[39m# the name of the estimator by the name of the function in the error\u001b[39;00m\n\u001b[1;32m    221\u001b[0m     \u001b[39m# message to avoid confusion.\u001b[39;00m\n\u001b[1;32m    222\u001b[0m     msg \u001b[39m=\u001b[39m re\u001b[39m.\u001b[39msub(\n\u001b[1;32m    223\u001b[0m         \u001b[39mr\u001b[39m\u001b[39m\"\u001b[39m\u001b[39mparameter of \u001b[39m\u001b[39m\\\u001b[39m\u001b[39mw+ must be\u001b[39m\u001b[39m\"\u001b[39m,\n\u001b[1;32m    224\u001b[0m         \u001b[39mf\u001b[39m\u001b[39m\"\u001b[39m\u001b[39mparameter of \u001b[39m\u001b[39m{\u001b[39;00mfunc\u001b[39m.\u001b[39m\u001b[39m__qualname__\u001b[39m\u001b[39m}\u001b[39;00m\u001b[39m must be\u001b[39m\u001b[39m\"\u001b[39m,\n\u001b[1;32m    225\u001b[0m         \u001b[39mstr\u001b[39m(e),\n\u001b[1;32m    226\u001b[0m     )\n",
      "File \u001b[0;32m/Library/Frameworks/Python.framework/Versions/3.13/lib/python3.13/site-packages/sklearn/metrics/_regression.py:565\u001b[0m, in \u001b[0;36mmean_squared_error\u001b[0;34m(y_true, y_pred, sample_weight, multioutput)\u001b[0m\n\u001b[1;32m    515\u001b[0m \u001b[39m\u001b[39m\u001b[39m\"\"\"Mean squared error regression loss.\u001b[39;00m\n\u001b[1;32m    516\u001b[0m \n\u001b[1;32m    517\u001b[0m \u001b[39mRead more in the :ref:`User Guide <mean_squared_error>`.\u001b[39;00m\n\u001b[0;32m   (...)\u001b[0m\n\u001b[1;32m    561\u001b[0m \u001b[39m0.825...\u001b[39;00m\n\u001b[1;32m    562\u001b[0m \u001b[39m\"\"\"\u001b[39;00m\n\u001b[1;32m    563\u001b[0m xp, _ \u001b[39m=\u001b[39m get_namespace(y_true, y_pred, sample_weight, multioutput)\n\u001b[1;32m    564\u001b[0m _, y_true, y_pred, sample_weight, multioutput \u001b[39m=\u001b[39m (\n\u001b[0;32m--> 565\u001b[0m     _check_reg_targets_with_floating_dtype(\n\u001b[1;32m    566\u001b[0m         y_true, y_pred, sample_weight, multioutput, xp\u001b[39m=\u001b[39;49mxp\n\u001b[1;32m    567\u001b[0m     )\n\u001b[1;32m    568\u001b[0m )\n\u001b[1;32m    569\u001b[0m check_consistent_length(y_true, y_pred, sample_weight)\n\u001b[1;32m    570\u001b[0m output_errors \u001b[39m=\u001b[39m _average((y_true \u001b[39m-\u001b[39m y_pred) \u001b[39m*\u001b[39m\u001b[39m*\u001b[39m \u001b[39m2\u001b[39m, axis\u001b[39m=\u001b[39m\u001b[39m0\u001b[39m, weights\u001b[39m=\u001b[39msample_weight)\n",
      "File \u001b[0;32m/Library/Frameworks/Python.framework/Versions/3.13/lib/python3.13/site-packages/sklearn/metrics/_regression.py:198\u001b[0m, in \u001b[0;36m_check_reg_targets_with_floating_dtype\u001b[0;34m(y_true, y_pred, sample_weight, multioutput, xp)\u001b[0m\n\u001b[1;32m    148\u001b[0m \u001b[39m\u001b[39m\u001b[39m\"\"\"Ensures that y_true, y_pred, and sample_weight correspond to the same\u001b[39;00m\n\u001b[1;32m    149\u001b[0m \u001b[39mregression task.\u001b[39;00m\n\u001b[1;32m    150\u001b[0m \n\u001b[0;32m   (...)\u001b[0m\n\u001b[1;32m    194\u001b[0m \u001b[39m    correct keyword.\u001b[39;00m\n\u001b[1;32m    195\u001b[0m \u001b[39m\"\"\"\u001b[39;00m\n\u001b[1;32m    196\u001b[0m dtype_name \u001b[39m=\u001b[39m _find_matching_floating_dtype(y_true, y_pred, sample_weight, xp\u001b[39m=\u001b[39mxp)\n\u001b[0;32m--> 198\u001b[0m y_type, y_true, y_pred, multioutput \u001b[39m=\u001b[39m _check_reg_targets(\n\u001b[1;32m    199\u001b[0m     y_true, y_pred, multioutput, dtype\u001b[39m=\u001b[39;49mdtype_name, xp\u001b[39m=\u001b[39;49mxp\n\u001b[1;32m    200\u001b[0m )\n\u001b[1;32m    202\u001b[0m \u001b[39m# _check_reg_targets does not accept sample_weight as input.\u001b[39;00m\n\u001b[1;32m    203\u001b[0m \u001b[39m# Convert sample_weight's data type separately to match dtype_name.\u001b[39;00m\n\u001b[1;32m    204\u001b[0m \u001b[39mif\u001b[39;00m sample_weight \u001b[39mis\u001b[39;00m \u001b[39mnot\u001b[39;00m \u001b[39mNone\u001b[39;00m:\n",
      "File \u001b[0;32m/Library/Frameworks/Python.framework/Versions/3.13/lib/python3.13/site-packages/sklearn/metrics/_regression.py:104\u001b[0m, in \u001b[0;36m_check_reg_targets\u001b[0;34m(y_true, y_pred, multioutput, dtype, xp)\u001b[0m\n\u001b[1;32m     59\u001b[0m \u001b[39m\u001b[39m\u001b[39m\"\"\"Check that y_true and y_pred belong to the same regression task.\u001b[39;00m\n\u001b[1;32m     60\u001b[0m \n\u001b[1;32m     61\u001b[0m \u001b[39mTo reduce redundancy when calling `_find_matching_floating_dtype`,\u001b[39;00m\n\u001b[0;32m   (...)\u001b[0m\n\u001b[1;32m    100\u001b[0m \u001b[39m    correct keyword.\u001b[39;00m\n\u001b[1;32m    101\u001b[0m \u001b[39m\"\"\"\u001b[39;00m\n\u001b[1;32m    102\u001b[0m xp, _ \u001b[39m=\u001b[39m get_namespace(y_true, y_pred, multioutput, xp\u001b[39m=\u001b[39mxp)\n\u001b[0;32m--> 104\u001b[0m check_consistent_length(y_true, y_pred)\n\u001b[1;32m    105\u001b[0m y_true \u001b[39m=\u001b[39m check_array(y_true, ensure_2d\u001b[39m=\u001b[39m\u001b[39mFalse\u001b[39;00m, dtype\u001b[39m=\u001b[39mdtype)\n\u001b[1;32m    106\u001b[0m y_pred \u001b[39m=\u001b[39m check_array(y_pred, ensure_2d\u001b[39m=\u001b[39m\u001b[39mFalse\u001b[39;00m, dtype\u001b[39m=\u001b[39mdtype)\n",
      "File \u001b[0;32m/Library/Frameworks/Python.framework/Versions/3.13/lib/python3.13/site-packages/sklearn/utils/validation.py:475\u001b[0m, in \u001b[0;36mcheck_consistent_length\u001b[0;34m(*arrays)\u001b[0m\n\u001b[1;32m    473\u001b[0m uniques \u001b[39m=\u001b[39m np\u001b[39m.\u001b[39munique(lengths)\n\u001b[1;32m    474\u001b[0m \u001b[39mif\u001b[39;00m \u001b[39mlen\u001b[39m(uniques) \u001b[39m>\u001b[39m \u001b[39m1\u001b[39m:\n\u001b[0;32m--> 475\u001b[0m     \u001b[39mraise\u001b[39;00m \u001b[39mValueError\u001b[39;00m(\n\u001b[1;32m    476\u001b[0m         \u001b[39m\"\u001b[39m\u001b[39mFound input variables with inconsistent numbers of samples: \u001b[39m\u001b[39m%r\u001b[39;00m\u001b[39m\"\u001b[39m\n\u001b[1;32m    477\u001b[0m         \u001b[39m%\u001b[39m [\u001b[39mint\u001b[39m(l) \u001b[39mfor\u001b[39;00m l \u001b[39min\u001b[39;00m lengths]\n\u001b[1;32m    478\u001b[0m     )\n",
      "\u001b[0;31mValueError\u001b[0m: Found input variables with inconsistent numbers of samples: [59, 34]"
     ]
    }
   ],
   "source": [
    "final_model_1, y_train_pred_1, y_val_pred_1, y_test_pred_1 = xgboost_model.bayes_xg_boost(X_train, X_val, X_test, y_train, y_val, y_test,'close_1_ahead')\n",
    "final_model_2, y_train_pred_2, y_val_pred_2, y_test_pred_2 = xgboost_model.bayes_xg_boost(X_train, X_val, X_test, y_train, y_val, y_test, 'close_2_ahead')\n",
    "final_model_5, y_train_pred_5, y_val_pred_5, y_test_pred_5 = xgboost_model.bayes_xg_boost(X_train, X_val, X_test, y_train, y_val, y_test, 'close_5_ahead')\n",
    "final_model_10, y_train_pred_10, y_val_pred_10, y_test_pred_10 = xgboost_model.bayes_xg_boost(X_train, X_val, X_test, y_train, y_val, y_test, 'close_10_ahead')\n",
    "final_model_20, y_train_pred_20, y_val_pred_20, y_test_pred_20 = xgboost_model.bayes_xg_boost(X_train, X_val, X_test, y_train, y_val, y_test, 'close_20_ahead')\n",
    "final_model_30, y_train_pred_30, y_val_pred_30, y_test_pred_30 = xgboost_model.bayes_xg_boost(X_train, X_val, X_test, y_train, y_val, y_test, 'close_30_ahead')\n",
    "\n",
    "prediction = final_model_30.predict()"
   ]
  },
  {
   "cell_type": "code",
   "execution_count": null,
   "metadata": {},
   "outputs": [],
   "source": [
    "portfolio = portfolio.Portfolio()\n"
   ]
  }
 ],
 "metadata": {
  "kernelspec": {
   "display_name": "Python 3",
   "language": "python",
   "name": "python3"
  },
  "language_info": {
   "codemirror_mode": {
    "name": "ipython",
    "version": 3
   },
   "file_extension": ".py",
   "mimetype": "text/x-python",
   "name": "python",
   "nbconvert_exporter": "python",
   "pygments_lexer": "ipython3",
   "version": "3.13.2"
  },
  "orig_nbformat": 4
 },
 "nbformat": 4,
 "nbformat_minor": 2
}
